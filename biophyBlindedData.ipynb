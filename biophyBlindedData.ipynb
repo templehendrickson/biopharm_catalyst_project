{
 "metadata": {
  "language_info": {
   "codemirror_mode": {
    "name": "ipython",
    "version": 3
   },
   "file_extension": ".py",
   "mimetype": "text/x-python",
   "name": "python",
   "nbconvert_exporter": "python",
   "pygments_lexer": "ipython3",
   "version": "3.8.5-final"
  },
  "orig_nbformat": 2,
  "kernelspec": {
   "name": "python3",
   "display_name": "Python 3"
  }
 },
 "nbformat": 4,
 "nbformat_minor": 2,
 "cells": [
  {
   "cell_type": "code",
   "execution_count": 1,
   "metadata": {},
   "outputs": [],
   "source": [
    "import pandas as pd\n",
    "import seaborn as sns\n",
    "import numpy as np\n",
    "\n",
    "# for stats\n",
    "import scipy\n",
    "import statsmodels.formula.api as smf\n",
    "import statsmodels.api as sm\n",
    "\n",
    "# ML\n",
    "from sklearn import model_selection, preprocessing, feature_selection, ensemble, linear_model, metrics, decomposition"
   ]
  },
  {
   "cell_type": "code",
   "execution_count": 2,
   "metadata": {},
   "outputs": [],
   "source": [
    "data = pd.read_csv('blindedData_old.csv') # import the data from csv"
   ]
  },
  {
   "cell_type": "code",
   "execution_count": 3,
   "metadata": {},
   "outputs": [
    {
     "output_type": "execute_result",
     "data": {
      "text/plain": [
       "(21480, 135)"
      ]
     },
     "metadata": {},
     "execution_count": 3
    }
   ],
   "source": [
    "data.shape # raw data shape"
   ]
  },
  {
   "cell_type": "code",
   "execution_count": 4,
   "metadata": {},
   "outputs": [
    {
     "output_type": "execute_result",
     "data": {
      "text/plain": [
       "   var_0  var_1  var_2  var_3  var_4  var_5  var_6  var_7  var_8  var_9  ...  \\\n",
       "0   63.0    NaN    2.0    0.0    0.0    0.0    0.0    0.0    0.0    0.0  ...   \n",
       "1    0.0  180.0    NaN    NaN    NaN    NaN    NaN    NaN    NaN    NaN  ...   \n",
       "2  113.0   90.0   18.0    0.0    0.0    0.0    0.0    0.0    0.0    1.0  ...   \n",
       "3   26.0   59.0    6.0    0.0    0.0    0.0    0.0    0.0    0.0    0.0  ...   \n",
       "4    NaN   28.0    3.0    0.0    0.0    0.0    0.0    0.0    0.0    0.0  ...   \n",
       "\n",
       "   var_125  var_126  var_127  var_128  var_129  var_130  var_131  var_132  \\\n",
       "0      0.0      0.0      0.0      0.0      0.0      0.0      0.0      0.0   \n",
       "1      0.0      0.0      0.0      0.0      0.0      0.0      0.0      0.0   \n",
       "2      0.0      0.0      0.0      0.0      1.0      0.0      0.0      0.0   \n",
       "3      0.0      0.0      0.0      0.0      0.0      0.0      0.0      0.0   \n",
       "4      0.0      0.0      0.0      0.0      0.0      0.0      0.0      0.0   \n",
       "\n",
       "   var_133  targetLabels  \n",
       "0        0             1  \n",
       "1        0             0  \n",
       "2        0             1  \n",
       "3        0             0  \n",
       "4        0             0  \n",
       "\n",
       "[5 rows x 135 columns]"
      ],
      "text/html": "<div>\n<style scoped>\n    .dataframe tbody tr th:only-of-type {\n        vertical-align: middle;\n    }\n\n    .dataframe tbody tr th {\n        vertical-align: top;\n    }\n\n    .dataframe thead th {\n        text-align: right;\n    }\n</style>\n<table border=\"1\" class=\"dataframe\">\n  <thead>\n    <tr style=\"text-align: right;\">\n      <th></th>\n      <th>var_0</th>\n      <th>var_1</th>\n      <th>var_2</th>\n      <th>var_3</th>\n      <th>var_4</th>\n      <th>var_5</th>\n      <th>var_6</th>\n      <th>var_7</th>\n      <th>var_8</th>\n      <th>var_9</th>\n      <th>...</th>\n      <th>var_125</th>\n      <th>var_126</th>\n      <th>var_127</th>\n      <th>var_128</th>\n      <th>var_129</th>\n      <th>var_130</th>\n      <th>var_131</th>\n      <th>var_132</th>\n      <th>var_133</th>\n      <th>targetLabels</th>\n    </tr>\n  </thead>\n  <tbody>\n    <tr>\n      <th>0</th>\n      <td>63.0</td>\n      <td>NaN</td>\n      <td>2.0</td>\n      <td>0.0</td>\n      <td>0.0</td>\n      <td>0.0</td>\n      <td>0.0</td>\n      <td>0.0</td>\n      <td>0.0</td>\n      <td>0.0</td>\n      <td>...</td>\n      <td>0.0</td>\n      <td>0.0</td>\n      <td>0.0</td>\n      <td>0.0</td>\n      <td>0.0</td>\n      <td>0.0</td>\n      <td>0.0</td>\n      <td>0.0</td>\n      <td>0</td>\n      <td>1</td>\n    </tr>\n    <tr>\n      <th>1</th>\n      <td>0.0</td>\n      <td>180.0</td>\n      <td>NaN</td>\n      <td>NaN</td>\n      <td>NaN</td>\n      <td>NaN</td>\n      <td>NaN</td>\n      <td>NaN</td>\n      <td>NaN</td>\n      <td>NaN</td>\n      <td>...</td>\n      <td>0.0</td>\n      <td>0.0</td>\n      <td>0.0</td>\n      <td>0.0</td>\n      <td>0.0</td>\n      <td>0.0</td>\n      <td>0.0</td>\n      <td>0.0</td>\n      <td>0</td>\n      <td>0</td>\n    </tr>\n    <tr>\n      <th>2</th>\n      <td>113.0</td>\n      <td>90.0</td>\n      <td>18.0</td>\n      <td>0.0</td>\n      <td>0.0</td>\n      <td>0.0</td>\n      <td>0.0</td>\n      <td>0.0</td>\n      <td>0.0</td>\n      <td>1.0</td>\n      <td>...</td>\n      <td>0.0</td>\n      <td>0.0</td>\n      <td>0.0</td>\n      <td>0.0</td>\n      <td>1.0</td>\n      <td>0.0</td>\n      <td>0.0</td>\n      <td>0.0</td>\n      <td>0</td>\n      <td>1</td>\n    </tr>\n    <tr>\n      <th>3</th>\n      <td>26.0</td>\n      <td>59.0</td>\n      <td>6.0</td>\n      <td>0.0</td>\n      <td>0.0</td>\n      <td>0.0</td>\n      <td>0.0</td>\n      <td>0.0</td>\n      <td>0.0</td>\n      <td>0.0</td>\n      <td>...</td>\n      <td>0.0</td>\n      <td>0.0</td>\n      <td>0.0</td>\n      <td>0.0</td>\n      <td>0.0</td>\n      <td>0.0</td>\n      <td>0.0</td>\n      <td>0.0</td>\n      <td>0</td>\n      <td>0</td>\n    </tr>\n    <tr>\n      <th>4</th>\n      <td>NaN</td>\n      <td>28.0</td>\n      <td>3.0</td>\n      <td>0.0</td>\n      <td>0.0</td>\n      <td>0.0</td>\n      <td>0.0</td>\n      <td>0.0</td>\n      <td>0.0</td>\n      <td>0.0</td>\n      <td>...</td>\n      <td>0.0</td>\n      <td>0.0</td>\n      <td>0.0</td>\n      <td>0.0</td>\n      <td>0.0</td>\n      <td>0.0</td>\n      <td>0.0</td>\n      <td>0.0</td>\n      <td>0</td>\n      <td>0</td>\n    </tr>\n  </tbody>\n</table>\n<p>5 rows × 135 columns</p>\n</div>"
     },
     "metadata": {},
     "execution_count": 4
    }
   ],
   "source": [
    "data.head()"
   ]
  },
  {
   "source": [
    "First order of business is to determine if there are columns that have all zero values. "
   ],
   "cell_type": "markdown",
   "metadata": {}
  },
  {
   "cell_type": "code",
   "execution_count": 5,
   "metadata": {},
   "outputs": [
    {
     "output_type": "stream",
     "name": "stdout",
     "text": [
      "Columns with all 0 data:  ['var_87', 'var_88', 'var_89', 'var_90', 'var_91', 'var_92']\n"
     ]
    }
   ],
   "source": [
    "test = data.loc[:,(data == 0).all()].columns # columns that have all zero values, no data\n",
    "print('Columns with all 0 data: ', test.tolist()) # can be removed from the dataset"
   ]
  },
  {
   "cell_type": "code",
   "execution_count": 6,
   "metadata": {},
   "outputs": [],
   "source": [
    "data = data.loc[:,~(data == 0).all()] # remove columns with all zero values "
   ]
  },
  {
   "cell_type": "code",
   "execution_count": 7,
   "metadata": {},
   "outputs": [
    {
     "output_type": "execute_result",
     "data": {
      "text/plain": [
       "(21480, 129)"
      ]
     },
     "metadata": {},
     "execution_count": 7
    }
   ],
   "source": [
    "data.shape # removed all zero columns"
   ]
  },
  {
   "source": [
    "Want to test if there are still columns that contain all zero and NaN values. "
   ],
   "cell_type": "markdown",
   "metadata": {}
  },
  {
   "cell_type": "code",
   "execution_count": 8,
   "metadata": {},
   "outputs": [
    {
     "output_type": "execute_result",
     "data": {
      "text/plain": [
       "0"
      ]
     },
     "metadata": {},
     "execution_count": 8
    }
   ],
   "source": [
    "nanTest = data.fillna(0) # this is on top of dataframe that already had all zero cols removed \n",
    "len(nanTest.loc[:,(nanTest == 0).all()].columns) "
   ]
  },
  {
   "source": [
    "The code above did not find any additional columns that registered as all 0 values after replacing NaN with 0. This means there are no columns that only contain NaN and 0 values. "
   ],
   "cell_type": "markdown",
   "metadata": {}
  },
  {
   "source": [
    "Need to determine if data points, each column, are categorical or numerical datapoints. Strategy is to find whether each column only contains a subset of whole numbers, 1 and 0s, this would indicate that it is categorical. "
   ],
   "cell_type": "markdown",
   "metadata": {}
  },
  {
   "cell_type": "code",
   "execution_count": 9,
   "metadata": {},
   "outputs": [
    {
     "output_type": "execute_result",
     "data": {
      "text/plain": [
       "0.0    20459\n",
       "1.0      543\n",
       "Name: var_125, dtype: int64"
      ]
     },
     "metadata": {},
     "execution_count": 9
    }
   ],
   "source": [
    "data['var_125'].value_counts() # this is an example of likely categorical data, converted to numbers through feature engineering"
   ]
  },
  {
   "cell_type": "code",
   "execution_count": 10,
   "metadata": {},
   "outputs": [],
   "source": [
    "dtypeDict = {}\n",
    "for col in data.columns:\n",
    "    if col != 'targetLabels':\n",
    "        if data[col].nunique() == 2:\n",
    "            dtypeDict[col] = 'cat'\n",
    "        else:\n",
    "            dtypeDict[col] = 'num'"
   ]
  },
  {
   "source": [
    "The benefit of the dict is that its searchable so I can only pull the variables that I need and dont need to make a list of equal len to the variables that are being analyzed. "
   ],
   "cell_type": "markdown",
   "metadata": {}
  },
  {
   "cell_type": "code",
   "execution_count": 11,
   "metadata": {},
   "outputs": [
    {
     "output_type": "execute_result",
     "data": {
      "text/plain": [
       "96"
      ]
     },
     "metadata": {},
     "execution_count": 11
    }
   ],
   "source": [
    "catOccur = 0\n",
    "for k,v in dtypeDict.items():\n",
    "    if v == 'cat':\n",
    "        catOccur += 1\n",
    "catOccur"
   ]
  },
  {
   "cell_type": "code",
   "execution_count": 12,
   "metadata": {},
   "outputs": [
    {
     "output_type": "stream",
     "name": "stdout",
     "text": [
      "pct of dataset that is categorical: 0.75\n"
     ]
    }
   ],
   "source": [
    "print('pct of dataset that is categorical: ' + str(round(catOccur / (len(data.columns)-1),3)))"
   ]
  },
  {
   "source": [
    "If a data column is categorical then chi square test will be used for hypothesis testing. if a data column is numerical, then one-sided ANOVA will be used for hypothesis testing. "
   ],
   "cell_type": "markdown",
   "metadata": {}
  },
  {
   "cell_type": "code",
   "execution_count": 13,
   "metadata": {},
   "outputs": [],
   "source": [
    "\"\"\" def the stats tests \"\"\"\n",
    "\n",
    "def chi_square(x,y): # compares two categorical datatypes, also finds Cramer's V which measure variance (higher better)\n",
    "    cont_table = pd.crosstab(index=data[x], columns=data[y])\n",
    "    chi2_test = scipy.stats.chi2_contingency(cont_table)\n",
    "    chi2, p = chi2_test[0], chi2_test[1]\n",
    "    n = cont_table.sum().sum()\n",
    "    phi2 = chi2/n\n",
    "    r,k = cont_table.shape\n",
    "    phi2corr = max(0, phi2-((k-1)*(r-1))/(n-1))\n",
    "    rcorr = r-((r-1)**2)/(n-1)\n",
    "    kcorr = k-((k-1)**2)/(n-1)\n",
    "    coeff = np.sqrt(phi2corr/min((kcorr-1), (rcorr-1)))\n",
    "    coeff, p = round(coeff, 3), round(p, 3)\n",
    "    return coeff,p # coeff is cramer, p is the p value\n",
    "\n",
    "def anova(num,cat): # note this is one-way anova for comparing cat and num data \n",
    "    model = smf.ols(num+' ~ '+cat, data=data).fit()\n",
    "    table = sm.stats.anova_lm(model)\n",
    "    p = table[\"PR(>F)\"][0]\n",
    "    p = round(p, 3)\n",
    "    return p # p is the p value\n",
    "    "
   ]
  },
  {
   "source": [
    "Below are two examples of the statistics hypothesis testing functions being called. "
   ],
   "cell_type": "markdown",
   "metadata": {}
  },
  {
   "cell_type": "code",
   "execution_count": 14,
   "metadata": {},
   "outputs": [
    {
     "output_type": "stream",
     "name": "stdout",
     "text": [
      "CramerV: 0.024 P-Value: 0.0 -- statistically significant p-value\n"
     ]
    }
   ],
   "source": [
    "testCeof, testP = chi_square('var_125','targetLabels') # Cramer of close to 0 indicates little association, p-value also shown signficance \n",
    "if testP < 0.05:\n",
    "    sig = 'statistically significant p-value'\n",
    "print('CramerV:',testCeof,'P-Value:',testP,'--',sig)"
   ]
  },
  {
   "cell_type": "code",
   "execution_count": 15,
   "metadata": {},
   "outputs": [
    {
     "output_type": "stream",
     "name": "stdout",
     "text": [
      "One-way ANOVA P-Value: 0.029 -- statistically significant p-value\n"
     ]
    }
   ],
   "source": [
    "testP = anova('var_1','targetLabels') # this just shows how anova works, var_1 is num and targetLabels is cat\n",
    "if testP < 0.05:\n",
    "    sig = 'statistically significant p-value'\n",
    "print('One-way ANOVA P-Value:',testP,'--',sig) "
   ]
  },
  {
   "cell_type": "code",
   "execution_count": 16,
   "metadata": {},
   "outputs": [],
   "source": [
    "results = {}\n",
    "for col in data.columns:\n",
    "    if col != 'targetLabels':\n",
    "        if dtypeDict[col] == 'cat':\n",
    "            cramer,p = chi_square(col,'targetLabels')\n",
    "            results[col] = {'dtype':'cat','Anova-P':np.nan,'Chi2-P':p,'CramerV':cramer}\n",
    "        if dtypeDict[col] == 'num':\n",
    "            p = anova(col,'targetLabels')\n",
    "            results[col] = {'dtype':'num','Anova-P':p,'Chi2-P':np.nan,'CramerV':np.nan}\n",
    "\n",
    "statsRes = pd.DataFrame.from_dict(results)"
   ]
  },
  {
   "cell_type": "code",
   "execution_count": 17,
   "metadata": {},
   "outputs": [
    {
     "output_type": "execute_result",
     "data": {
      "text/plain": [
       "      dtype Anova-P Chi2-P CramerV\n",
       "var_0   num       0    NaN     NaN\n",
       "var_1   num   0.029    NaN     NaN\n",
       "var_2   num       0    NaN     NaN\n",
       "var_3   cat     NaN  0.166   0.007\n",
       "var_4   cat     NaN  0.144   0.007"
      ],
      "text/html": "<div>\n<style scoped>\n    .dataframe tbody tr th:only-of-type {\n        vertical-align: middle;\n    }\n\n    .dataframe tbody tr th {\n        vertical-align: top;\n    }\n\n    .dataframe thead th {\n        text-align: right;\n    }\n</style>\n<table border=\"1\" class=\"dataframe\">\n  <thead>\n    <tr style=\"text-align: right;\">\n      <th></th>\n      <th>dtype</th>\n      <th>Anova-P</th>\n      <th>Chi2-P</th>\n      <th>CramerV</th>\n    </tr>\n  </thead>\n  <tbody>\n    <tr>\n      <th>var_0</th>\n      <td>num</td>\n      <td>0</td>\n      <td>NaN</td>\n      <td>NaN</td>\n    </tr>\n    <tr>\n      <th>var_1</th>\n      <td>num</td>\n      <td>0.029</td>\n      <td>NaN</td>\n      <td>NaN</td>\n    </tr>\n    <tr>\n      <th>var_2</th>\n      <td>num</td>\n      <td>0</td>\n      <td>NaN</td>\n      <td>NaN</td>\n    </tr>\n    <tr>\n      <th>var_3</th>\n      <td>cat</td>\n      <td>NaN</td>\n      <td>0.166</td>\n      <td>0.007</td>\n    </tr>\n    <tr>\n      <th>var_4</th>\n      <td>cat</td>\n      <td>NaN</td>\n      <td>0.144</td>\n      <td>0.007</td>\n    </tr>\n  </tbody>\n</table>\n</div>"
     },
     "metadata": {},
     "execution_count": 17
    }
   ],
   "source": [
    "statsRes = statsRes.transpose()\n",
    "statsRes.head() # this is a trasposed dataframe containing the output from the code above"
   ]
  },
  {
   "cell_type": "code",
   "execution_count": 18,
   "metadata": {},
   "outputs": [
    {
     "output_type": "execute_result",
     "data": {
      "text/plain": [
       "(128, 4)"
      ]
     },
     "metadata": {},
     "execution_count": 18
    }
   ],
   "source": [
    "statsRes.shape # does not contain the targetLabels col, thats why its 128 instead of 129"
   ]
  },
  {
   "cell_type": "code",
   "execution_count": 19,
   "metadata": {},
   "outputs": [],
   "source": [
    "statsRes['Stat-sig'] = np.where((statsRes['Anova-P'] < 0.05) | (statsRes['Chi2-P'] < 0.05),1,0) # adds stat sig column, '|' is or boolean"
   ]
  },
  {
   "cell_type": "code",
   "execution_count": 20,
   "metadata": {},
   "outputs": [
    {
     "output_type": "execute_result",
     "data": {
      "text/plain": [
       "      dtype Anova-P Chi2-P CramerV  Stat-sig\n",
       "var_0   num       0    NaN     NaN         1\n",
       "var_1   num   0.029    NaN     NaN         1\n",
       "var_2   num       0    NaN     NaN         1\n",
       "var_3   cat     NaN  0.166   0.007         0\n",
       "var_4   cat     NaN  0.144   0.007         0"
      ],
      "text/html": "<div>\n<style scoped>\n    .dataframe tbody tr th:only-of-type {\n        vertical-align: middle;\n    }\n\n    .dataframe tbody tr th {\n        vertical-align: top;\n    }\n\n    .dataframe thead th {\n        text-align: right;\n    }\n</style>\n<table border=\"1\" class=\"dataframe\">\n  <thead>\n    <tr style=\"text-align: right;\">\n      <th></th>\n      <th>dtype</th>\n      <th>Anova-P</th>\n      <th>Chi2-P</th>\n      <th>CramerV</th>\n      <th>Stat-sig</th>\n    </tr>\n  </thead>\n  <tbody>\n    <tr>\n      <th>var_0</th>\n      <td>num</td>\n      <td>0</td>\n      <td>NaN</td>\n      <td>NaN</td>\n      <td>1</td>\n    </tr>\n    <tr>\n      <th>var_1</th>\n      <td>num</td>\n      <td>0.029</td>\n      <td>NaN</td>\n      <td>NaN</td>\n      <td>1</td>\n    </tr>\n    <tr>\n      <th>var_2</th>\n      <td>num</td>\n      <td>0</td>\n      <td>NaN</td>\n      <td>NaN</td>\n      <td>1</td>\n    </tr>\n    <tr>\n      <th>var_3</th>\n      <td>cat</td>\n      <td>NaN</td>\n      <td>0.166</td>\n      <td>0.007</td>\n      <td>0</td>\n    </tr>\n    <tr>\n      <th>var_4</th>\n      <td>cat</td>\n      <td>NaN</td>\n      <td>0.144</td>\n      <td>0.007</td>\n      <td>0</td>\n    </tr>\n  </tbody>\n</table>\n</div>"
     },
     "metadata": {},
     "execution_count": 20
    }
   ],
   "source": [
    "statsRes.head()"
   ]
  },
  {
   "cell_type": "code",
   "execution_count": 21,
   "metadata": {},
   "outputs": [
    {
     "output_type": "stream",
     "name": "stdout",
     "text": [
      "Pct of columns that are stat sig: 0.703\n"
     ]
    }
   ],
   "source": [
    "print('Pct of columns that are stat sig: ' +str(round(statsRes['Stat-sig'].sum() / len(statsRes['Stat-sig']),3)))"
   ]
  },
  {
   "cell_type": "code",
   "execution_count": 22,
   "metadata": {},
   "outputs": [
    {
     "output_type": "execute_result",
     "data": {
      "text/plain": [
       "dtype       object\n",
       "Anova-P     object\n",
       "Chi2-P      object\n",
       "CramerV     object\n",
       "Stat-sig     int32\n",
       "dtype: object"
      ]
     },
     "metadata": {},
     "execution_count": 22
    }
   ],
   "source": [
    "statsRes.dtypes"
   ]
  },
  {
   "cell_type": "code",
   "execution_count": 23,
   "metadata": {},
   "outputs": [
    {
     "output_type": "execute_result",
     "data": {
      "text/plain": [
       "        dtype Anova-P Chi2-P  CramerV  Stat-sig\n",
       "var_45    cat     NaN      0    0.139         1\n",
       "var_133   cat     NaN      0    0.116         1\n",
       "var_49    cat     NaN      0    0.112         1\n",
       "var_52    cat     NaN      0    0.111         1\n",
       "var_62    cat     NaN      0    0.094         1\n",
       "var_44    cat     NaN      0    0.092         1\n",
       "var_59    cat     NaN      0    0.077         1\n",
       "var_47    cat     NaN      0    0.075         1\n",
       "var_43    cat     NaN      0    0.074         1\n",
       "var_38    cat     NaN      0    0.072         1"
      ],
      "text/html": "<div>\n<style scoped>\n    .dataframe tbody tr th:only-of-type {\n        vertical-align: middle;\n    }\n\n    .dataframe tbody tr th {\n        vertical-align: top;\n    }\n\n    .dataframe thead th {\n        text-align: right;\n    }\n</style>\n<table border=\"1\" class=\"dataframe\">\n  <thead>\n    <tr style=\"text-align: right;\">\n      <th></th>\n      <th>dtype</th>\n      <th>Anova-P</th>\n      <th>Chi2-P</th>\n      <th>CramerV</th>\n      <th>Stat-sig</th>\n    </tr>\n  </thead>\n  <tbody>\n    <tr>\n      <th>var_45</th>\n      <td>cat</td>\n      <td>NaN</td>\n      <td>0</td>\n      <td>0.139</td>\n      <td>1</td>\n    </tr>\n    <tr>\n      <th>var_133</th>\n      <td>cat</td>\n      <td>NaN</td>\n      <td>0</td>\n      <td>0.116</td>\n      <td>1</td>\n    </tr>\n    <tr>\n      <th>var_49</th>\n      <td>cat</td>\n      <td>NaN</td>\n      <td>0</td>\n      <td>0.112</td>\n      <td>1</td>\n    </tr>\n    <tr>\n      <th>var_52</th>\n      <td>cat</td>\n      <td>NaN</td>\n      <td>0</td>\n      <td>0.111</td>\n      <td>1</td>\n    </tr>\n    <tr>\n      <th>var_62</th>\n      <td>cat</td>\n      <td>NaN</td>\n      <td>0</td>\n      <td>0.094</td>\n      <td>1</td>\n    </tr>\n    <tr>\n      <th>var_44</th>\n      <td>cat</td>\n      <td>NaN</td>\n      <td>0</td>\n      <td>0.092</td>\n      <td>1</td>\n    </tr>\n    <tr>\n      <th>var_59</th>\n      <td>cat</td>\n      <td>NaN</td>\n      <td>0</td>\n      <td>0.077</td>\n      <td>1</td>\n    </tr>\n    <tr>\n      <th>var_47</th>\n      <td>cat</td>\n      <td>NaN</td>\n      <td>0</td>\n      <td>0.075</td>\n      <td>1</td>\n    </tr>\n    <tr>\n      <th>var_43</th>\n      <td>cat</td>\n      <td>NaN</td>\n      <td>0</td>\n      <td>0.074</td>\n      <td>1</td>\n    </tr>\n    <tr>\n      <th>var_38</th>\n      <td>cat</td>\n      <td>NaN</td>\n      <td>0</td>\n      <td>0.072</td>\n      <td>1</td>\n    </tr>\n  </tbody>\n</table>\n</div>"
     },
     "metadata": {},
     "execution_count": 23
    }
   ],
   "source": [
    "statsRes.astype({'CramerV':'Float32'}).nlargest(10,'CramerV')"
   ]
  },
  {
   "source": [
    "Above are the 10 highest Cramer V values in the dataset. These are cat dtypes, Cramer V represents how correlated the col is to the targetLabels column. Thus, it shows which columns play the greatest role in predicting an outcome for the categorical subset of the data. "
   ],
   "cell_type": "markdown",
   "metadata": {}
  },
  {
   "cell_type": "code",
   "execution_count": 24,
   "metadata": {},
   "outputs": [],
   "source": [
    "statSig = statsRes.loc[statsRes['Stat-sig'] == 1]"
   ]
  },
  {
   "cell_type": "code",
   "execution_count": 25,
   "metadata": {},
   "outputs": [
    {
     "output_type": "execute_result",
     "data": {
      "text/plain": [
       "        dtype Anova-P Chi2-P  CramerV  Stat-sig\n",
       "var_13    cat     NaN  0.027    0.014         1\n",
       "var_31    cat     NaN  0.011    0.016         1\n",
       "var_108   cat     NaN   0.01    0.016         1\n",
       "var_118   cat     NaN  0.031    0.016         1\n",
       "var_23    cat     NaN  0.006    0.017         1\n",
       "var_12    cat     NaN  0.004    0.018         1\n",
       "var_28    cat     NaN  0.003    0.019         1\n",
       "var_10    cat     NaN  0.001    0.021         1\n",
       "var_21    cat     NaN  0.002    0.021         1\n",
       "var_22    cat     NaN  0.002    0.021         1"
      ],
      "text/html": "<div>\n<style scoped>\n    .dataframe tbody tr th:only-of-type {\n        vertical-align: middle;\n    }\n\n    .dataframe tbody tr th {\n        vertical-align: top;\n    }\n\n    .dataframe thead th {\n        text-align: right;\n    }\n</style>\n<table border=\"1\" class=\"dataframe\">\n  <thead>\n    <tr style=\"text-align: right;\">\n      <th></th>\n      <th>dtype</th>\n      <th>Anova-P</th>\n      <th>Chi2-P</th>\n      <th>CramerV</th>\n      <th>Stat-sig</th>\n    </tr>\n  </thead>\n  <tbody>\n    <tr>\n      <th>var_13</th>\n      <td>cat</td>\n      <td>NaN</td>\n      <td>0.027</td>\n      <td>0.014</td>\n      <td>1</td>\n    </tr>\n    <tr>\n      <th>var_31</th>\n      <td>cat</td>\n      <td>NaN</td>\n      <td>0.011</td>\n      <td>0.016</td>\n      <td>1</td>\n    </tr>\n    <tr>\n      <th>var_108</th>\n      <td>cat</td>\n      <td>NaN</td>\n      <td>0.01</td>\n      <td>0.016</td>\n      <td>1</td>\n    </tr>\n    <tr>\n      <th>var_118</th>\n      <td>cat</td>\n      <td>NaN</td>\n      <td>0.031</td>\n      <td>0.016</td>\n      <td>1</td>\n    </tr>\n    <tr>\n      <th>var_23</th>\n      <td>cat</td>\n      <td>NaN</td>\n      <td>0.006</td>\n      <td>0.017</td>\n      <td>1</td>\n    </tr>\n    <tr>\n      <th>var_12</th>\n      <td>cat</td>\n      <td>NaN</td>\n      <td>0.004</td>\n      <td>0.018</td>\n      <td>1</td>\n    </tr>\n    <tr>\n      <th>var_28</th>\n      <td>cat</td>\n      <td>NaN</td>\n      <td>0.003</td>\n      <td>0.019</td>\n      <td>1</td>\n    </tr>\n    <tr>\n      <th>var_10</th>\n      <td>cat</td>\n      <td>NaN</td>\n      <td>0.001</td>\n      <td>0.021</td>\n      <td>1</td>\n    </tr>\n    <tr>\n      <th>var_21</th>\n      <td>cat</td>\n      <td>NaN</td>\n      <td>0.002</td>\n      <td>0.021</td>\n      <td>1</td>\n    </tr>\n    <tr>\n      <th>var_22</th>\n      <td>cat</td>\n      <td>NaN</td>\n      <td>0.002</td>\n      <td>0.021</td>\n      <td>1</td>\n    </tr>\n  </tbody>\n</table>\n</div>"
     },
     "metadata": {},
     "execution_count": 25
    }
   ],
   "source": [
    "statSig.astype({'CramerV':'Float32'}).nsmallest(10,'CramerV')"
   ]
  },
  {
   "source": [
    "The dataframe above shows the lowest Cramer V values where the p-value is still significant. "
   ],
   "cell_type": "markdown",
   "metadata": {}
  },
  {
   "cell_type": "code",
   "execution_count": 26,
   "metadata": {},
   "outputs": [
    {
     "output_type": "execute_result",
     "data": {
      "text/plain": [
       "0.041"
      ]
     },
     "metadata": {},
     "execution_count": 26
    }
   ],
   "source": [
    "statSig['CramerV'].mean().round(decimals=3) # mean of CramerV values is generally low "
   ]
  },
  {
   "cell_type": "code",
   "execution_count": 27,
   "metadata": {},
   "outputs": [],
   "source": [
    "statSigCols = statSig.index.tolist() # convert index (col names) of the statSig variable to parse total dataset \n",
    "statSigCols = statSigCols + ['targetLabels'] # adds targetLabels to end of list so its included in dataset "
   ]
  },
  {
   "cell_type": "code",
   "execution_count": 28,
   "metadata": {},
   "outputs": [
    {
     "output_type": "execute_result",
     "data": {
      "text/plain": [
       "(21480, 129)"
      ]
     },
     "metadata": {},
     "execution_count": 28
    }
   ],
   "source": [
    "data.shape # 129 cols before "
   ]
  },
  {
   "cell_type": "code",
   "execution_count": 29,
   "metadata": {},
   "outputs": [],
   "source": [
    "statSigData = data[statSigCols] # new df with only stat sig columns "
   ]
  },
  {
   "cell_type": "code",
   "execution_count": 30,
   "metadata": {},
   "outputs": [
    {
     "output_type": "execute_result",
     "data": {
      "text/plain": [
       "(21480, 91)"
      ]
     },
     "metadata": {},
     "execution_count": 30
    }
   ],
   "source": [
    "statSigData.shape # this is only the data that was stat sig, more columns that stat sig variables because targetLabels included "
   ]
  },
  {
   "source": [
    "The next step is likely to partition the data into training and testing data. I am going to use a 0.7:0.3 training to testing ratio. Important to note that NaN values need to be filled, this should be done after the data has been partitioned to avoid using the mean of any testing data. For categorical data (cat), NaN values will be replaced with 0 as a mean does not make sense. Numerical (num) data NaN will be replaced with the mean of the column.  "
   ],
   "cell_type": "markdown",
   "metadata": {}
  },
  {
   "cell_type": "code",
   "execution_count": 31,
   "metadata": {},
   "outputs": [],
   "source": [
    "pctNan = pd.DataFrame((statSigData.isna().sum() / len(statSigData)),columns=['PctTotal']) # finds pct of total col that is NaN \n",
    "pctNan = pctNan.loc[pctNan['PctTotal'] > 0.2] # only care if NaN makes up greater than 0.2 pct of values"
   ]
  },
  {
   "cell_type": "code",
   "execution_count": 32,
   "metadata": {},
   "outputs": [],
   "source": [
    "sns.set_theme() # sets seaborn graphing theme"
   ]
  },
  {
   "cell_type": "code",
   "execution_count": 33,
   "metadata": {},
   "outputs": [
    {
     "output_type": "execute_result",
     "data": {
      "text/plain": [
       "<AxesSubplot:ylabel='PctTotal'>"
      ]
     },
     "metadata": {},
     "execution_count": 33
    },
    {
     "output_type": "display_data",
     "data": {
      "text/plain": "<Figure size 576x432 with 1 Axes>",
      "image/svg+xml": "<?xml version=\"1.0\" encoding=\"utf-8\" standalone=\"no\"?>\r\n<!DOCTYPE svg PUBLIC \"-//W3C//DTD SVG 1.1//EN\"\r\n  \"http://www.w3.org/Graphics/SVG/1.1/DTD/svg11.dtd\">\r\n<!-- Created with matplotlib (https://matplotlib.org/) -->\r\n<svg height=\"360.1525pt\" version=\"1.1\" viewBox=\"0 0 500.564375 360.1525\" width=\"500.564375pt\" xmlns=\"http://www.w3.org/2000/svg\" xmlns:xlink=\"http://www.w3.org/1999/xlink\">\r\n <metadata>\r\n  <rdf:RDF xmlns:cc=\"http://creativecommons.org/ns#\" xmlns:dc=\"http://purl.org/dc/elements/1.1/\" xmlns:rdf=\"http://www.w3.org/1999/02/22-rdf-syntax-ns#\">\r\n   <cc:Work>\r\n    <dc:type rdf:resource=\"http://purl.org/dc/dcmitype/StillImage\"/>\r\n    <dc:date>2020-12-09T21:33:26.554965</dc:date>\r\n    <dc:format>image/svg+xml</dc:format>\r\n    <dc:creator>\r\n     <cc:Agent>\r\n      <dc:title>Matplotlib v3.3.2, https://matplotlib.org/</dc:title>\r\n     </cc:Agent>\r\n    </dc:creator>\r\n   </cc:Work>\r\n  </rdf:RDF>\r\n </metadata>\r\n <defs>\r\n  <style type=\"text/css\">*{stroke-linecap:butt;stroke-linejoin:round;}</style>\r\n </defs>\r\n <g id=\"figure_1\">\r\n  <g id=\"patch_1\">\r\n   <path d=\"M 0 360.1525 \r\nL 500.564375 360.1525 \r\nL 500.564375 0 \r\nL 0 0 \r\nz\r\n\" style=\"fill:#ffffff;\"/>\r\n  </g>\r\n  <g id=\"axes_1\">\r\n   <g id=\"patch_2\">\r\n    <path d=\"M 46.964375 333.36 \r\nL 493.364375 333.36 \r\nL 493.364375 7.2 \r\nL 46.964375 7.2 \r\nz\r\n\" style=\"fill:#eaeaf2;\"/>\r\n   </g>\r\n   <g id=\"matplotlib.axis_1\">\r\n    <g id=\"xtick_1\">\r\n     <g id=\"text_1\">\r\n      <!-- var_64 -->\r\n      <g style=\"fill:#262626;\" transform=\"translate(54.948984 350.76625)scale(0.11 -0.11)\">\r\n       <defs>\r\n        <path d=\"M 21 0 \r\nL 1.265625 51.859375 \r\nL 10.546875 51.859375 \r\nL 21.6875 20.796875 \r\nQ 23.484375 15.765625 25 10.359375 \r\nQ 26.171875 14.453125 28.265625 20.21875 \r\nL 39.796875 51.859375 \r\nL 48.828125 51.859375 \r\nL 29.203125 0 \r\nz\r\n\" id=\"ArialMT-118\"/>\r\n        <path d=\"M 40.4375 6.390625 \r\nQ 35.546875 2.25 31.03125 0.53125 \r\nQ 26.515625 -1.171875 21.34375 -1.171875 \r\nQ 12.796875 -1.171875 8.203125 3 \r\nQ 3.609375 7.171875 3.609375 13.671875 \r\nQ 3.609375 17.484375 5.34375 20.625 \r\nQ 7.078125 23.78125 9.890625 25.6875 \r\nQ 12.703125 27.59375 16.21875 28.5625 \r\nQ 18.796875 29.25 24.03125 29.890625 \r\nQ 34.671875 31.15625 39.703125 32.90625 \r\nQ 39.75 34.71875 39.75 35.203125 \r\nQ 39.75 40.578125 37.25 42.78125 \r\nQ 33.890625 45.75 27.25 45.75 \r\nQ 21.046875 45.75 18.09375 43.578125 \r\nQ 15.140625 41.40625 13.71875 35.890625 \r\nL 5.125 37.0625 \r\nQ 6.296875 42.578125 8.984375 45.96875 \r\nQ 11.671875 49.359375 16.75 51.1875 \r\nQ 21.828125 53.03125 28.515625 53.03125 \r\nQ 35.15625 53.03125 39.296875 51.46875 \r\nQ 43.453125 49.90625 45.40625 47.53125 \r\nQ 47.359375 45.171875 48.140625 41.546875 \r\nQ 48.578125 39.3125 48.578125 33.453125 \r\nL 48.578125 21.734375 \r\nQ 48.578125 9.46875 49.140625 6.21875 \r\nQ 49.703125 2.984375 51.375 0 \r\nL 42.1875 0 \r\nQ 40.828125 2.734375 40.4375 6.390625 \r\nz\r\nM 39.703125 26.03125 \r\nQ 34.90625 24.078125 25.34375 22.703125 \r\nQ 19.921875 21.921875 17.671875 20.9375 \r\nQ 15.4375 19.96875 14.203125 18.09375 \r\nQ 12.984375 16.21875 12.984375 13.921875 \r\nQ 12.984375 10.40625 15.640625 8.0625 \r\nQ 18.3125 5.71875 23.4375 5.71875 \r\nQ 28.515625 5.71875 32.46875 7.9375 \r\nQ 36.421875 10.15625 38.28125 14.015625 \r\nQ 39.703125 17 39.703125 22.796875 \r\nz\r\n\" id=\"ArialMT-97\"/>\r\n        <path d=\"M 6.5 0 \r\nL 6.5 51.859375 \r\nL 14.40625 51.859375 \r\nL 14.40625 44 \r\nQ 17.4375 49.515625 20 51.265625 \r\nQ 22.5625 53.03125 25.640625 53.03125 \r\nQ 30.078125 53.03125 34.671875 50.203125 \r\nL 31.640625 42.046875 \r\nQ 28.421875 43.953125 25.203125 43.953125 \r\nQ 22.3125 43.953125 20.015625 42.21875 \r\nQ 17.71875 40.484375 16.75 37.40625 \r\nQ 15.28125 32.71875 15.28125 27.15625 \r\nL 15.28125 0 \r\nz\r\n\" id=\"ArialMT-114\"/>\r\n        <path d=\"M -1.515625 -19.875 \r\nL -1.515625 -13.53125 \r\nL 56.734375 -13.53125 \r\nL 56.734375 -19.875 \r\nz\r\n\" id=\"ArialMT-95\"/>\r\n        <path d=\"M 49.75 54.046875 \r\nL 41.015625 53.375 \r\nQ 39.84375 58.546875 37.703125 60.890625 \r\nQ 34.125 64.65625 28.90625 64.65625 \r\nQ 24.703125 64.65625 21.53125 62.3125 \r\nQ 17.390625 59.28125 14.984375 53.46875 \r\nQ 12.59375 47.65625 12.5 36.921875 \r\nQ 15.671875 41.75 20.265625 44.09375 \r\nQ 24.859375 46.4375 29.890625 46.4375 \r\nQ 38.671875 46.4375 44.84375 39.96875 \r\nQ 51.03125 33.5 51.03125 23.25 \r\nQ 51.03125 16.5 48.125 10.71875 \r\nQ 45.21875 4.9375 40.140625 1.859375 \r\nQ 35.0625 -1.21875 28.609375 -1.21875 \r\nQ 17.625 -1.21875 10.6875 6.859375 \r\nQ 3.765625 14.9375 3.765625 33.5 \r\nQ 3.765625 54.25 11.421875 63.671875 \r\nQ 18.109375 71.875 29.4375 71.875 \r\nQ 37.890625 71.875 43.28125 67.140625 \r\nQ 48.6875 62.40625 49.75 54.046875 \r\nz\r\nM 13.875 23.1875 \r\nQ 13.875 18.65625 15.796875 14.5 \r\nQ 17.71875 10.359375 21.1875 8.171875 \r\nQ 24.65625 6 28.46875 6 \r\nQ 34.03125 6 38.03125 10.484375 \r\nQ 42.046875 14.984375 42.046875 22.703125 \r\nQ 42.046875 30.125 38.078125 34.390625 \r\nQ 34.125 38.671875 28.125 38.671875 \r\nQ 22.171875 38.671875 18.015625 34.390625 \r\nQ 13.875 30.125 13.875 23.1875 \r\nz\r\n\" id=\"ArialMT-54\"/>\r\n        <path d=\"M 32.328125 0 \r\nL 32.328125 17.140625 \r\nL 1.265625 17.140625 \r\nL 1.265625 25.203125 \r\nL 33.9375 71.578125 \r\nL 41.109375 71.578125 \r\nL 41.109375 25.203125 \r\nL 50.78125 25.203125 \r\nL 50.78125 17.140625 \r\nL 41.109375 17.140625 \r\nL 41.109375 0 \r\nz\r\nM 32.328125 25.203125 \r\nL 32.328125 57.46875 \r\nL 9.90625 25.203125 \r\nz\r\n\" id=\"ArialMT-52\"/>\r\n       </defs>\r\n       <use xlink:href=\"#ArialMT-118\"/>\r\n       <use x=\"50\" xlink:href=\"#ArialMT-97\"/>\r\n       <use x=\"105.615234\" xlink:href=\"#ArialMT-114\"/>\r\n       <use x=\"138.916016\" xlink:href=\"#ArialMT-95\"/>\r\n       <use x=\"194.53125\" xlink:href=\"#ArialMT-54\"/>\r\n       <use x=\"250.146484\" xlink:href=\"#ArialMT-52\"/>\r\n      </g>\r\n     </g>\r\n    </g>\r\n    <g id=\"xtick_2\">\r\n     <g id=\"text_2\">\r\n      <!-- var_66 -->\r\n      <g style=\"fill:#262626;\" transform=\"translate(104.548984 350.76625)scale(0.11 -0.11)\">\r\n       <use xlink:href=\"#ArialMT-118\"/>\r\n       <use x=\"50\" xlink:href=\"#ArialMT-97\"/>\r\n       <use x=\"105.615234\" xlink:href=\"#ArialMT-114\"/>\r\n       <use x=\"138.916016\" xlink:href=\"#ArialMT-95\"/>\r\n       <use x=\"194.53125\" xlink:href=\"#ArialMT-54\"/>\r\n       <use x=\"250.146484\" xlink:href=\"#ArialMT-54\"/>\r\n      </g>\r\n     </g>\r\n    </g>\r\n    <g id=\"xtick_3\">\r\n     <g id=\"text_3\">\r\n      <!-- var_67 -->\r\n      <g style=\"fill:#262626;\" transform=\"translate(154.148984 350.76625)scale(0.11 -0.11)\">\r\n       <defs>\r\n        <path d=\"M 4.734375 62.203125 \r\nL 4.734375 70.65625 \r\nL 51.078125 70.65625 \r\nL 51.078125 63.8125 \r\nQ 44.234375 56.546875 37.515625 44.484375 \r\nQ 30.8125 32.421875 27.15625 19.671875 \r\nQ 24.515625 10.6875 23.78125 0 \r\nL 14.75 0 \r\nQ 14.890625 8.453125 18.0625 20.40625 \r\nQ 21.234375 32.375 27.171875 43.484375 \r\nQ 33.109375 54.59375 39.796875 62.203125 \r\nz\r\n\" id=\"ArialMT-55\"/>\r\n       </defs>\r\n       <use xlink:href=\"#ArialMT-118\"/>\r\n       <use x=\"50\" xlink:href=\"#ArialMT-97\"/>\r\n       <use x=\"105.615234\" xlink:href=\"#ArialMT-114\"/>\r\n       <use x=\"138.916016\" xlink:href=\"#ArialMT-95\"/>\r\n       <use x=\"194.53125\" xlink:href=\"#ArialMT-54\"/>\r\n       <use x=\"250.146484\" xlink:href=\"#ArialMT-55\"/>\r\n      </g>\r\n     </g>\r\n    </g>\r\n    <g id=\"xtick_4\">\r\n     <g id=\"text_4\">\r\n      <!-- var_68 -->\r\n      <g style=\"fill:#262626;\" transform=\"translate(203.748984 350.76625)scale(0.11 -0.11)\">\r\n       <defs>\r\n        <path d=\"M 17.671875 38.8125 \r\nQ 12.203125 40.828125 9.5625 44.53125 \r\nQ 6.9375 48.25 6.9375 53.421875 \r\nQ 6.9375 61.234375 12.546875 66.546875 \r\nQ 18.171875 71.875 27.484375 71.875 \r\nQ 36.859375 71.875 42.578125 66.421875 \r\nQ 48.296875 60.984375 48.296875 53.171875 \r\nQ 48.296875 48.1875 45.671875 44.5 \r\nQ 43.0625 40.828125 37.75 38.8125 \r\nQ 44.34375 36.671875 47.78125 31.875 \r\nQ 51.21875 27.09375 51.21875 20.453125 \r\nQ 51.21875 11.28125 44.71875 5.03125 \r\nQ 38.234375 -1.21875 27.640625 -1.21875 \r\nQ 17.046875 -1.21875 10.546875 5.046875 \r\nQ 4.046875 11.328125 4.046875 20.703125 \r\nQ 4.046875 27.6875 7.59375 32.390625 \r\nQ 11.140625 37.109375 17.671875 38.8125 \r\nz\r\nM 15.921875 53.71875 \r\nQ 15.921875 48.640625 19.1875 45.40625 \r\nQ 22.46875 42.1875 27.6875 42.1875 \r\nQ 32.765625 42.1875 36.015625 45.375 \r\nQ 39.265625 48.578125 39.265625 53.21875 \r\nQ 39.265625 58.0625 35.90625 61.359375 \r\nQ 32.5625 64.65625 27.59375 64.65625 \r\nQ 22.5625 64.65625 19.234375 61.421875 \r\nQ 15.921875 58.203125 15.921875 53.71875 \r\nz\r\nM 13.09375 20.65625 \r\nQ 13.09375 16.890625 14.875 13.375 \r\nQ 16.65625 9.859375 20.171875 7.921875 \r\nQ 23.6875 6 27.734375 6 \r\nQ 34.03125 6 38.125 10.046875 \r\nQ 42.234375 14.109375 42.234375 20.359375 \r\nQ 42.234375 26.703125 38.015625 30.859375 \r\nQ 33.796875 35.015625 27.4375 35.015625 \r\nQ 21.234375 35.015625 17.15625 30.90625 \r\nQ 13.09375 26.8125 13.09375 20.65625 \r\nz\r\n\" id=\"ArialMT-56\"/>\r\n       </defs>\r\n       <use xlink:href=\"#ArialMT-118\"/>\r\n       <use x=\"50\" xlink:href=\"#ArialMT-97\"/>\r\n       <use x=\"105.615234\" xlink:href=\"#ArialMT-114\"/>\r\n       <use x=\"138.916016\" xlink:href=\"#ArialMT-95\"/>\r\n       <use x=\"194.53125\" xlink:href=\"#ArialMT-54\"/>\r\n       <use x=\"250.146484\" xlink:href=\"#ArialMT-56\"/>\r\n      </g>\r\n     </g>\r\n    </g>\r\n    <g id=\"xtick_5\">\r\n     <g id=\"text_5\">\r\n      <!-- var_111 -->\r\n      <g style=\"fill:#262626;\" transform=\"translate(251.101719 350.76625)scale(0.11 -0.11)\">\r\n       <defs>\r\n        <path d=\"M 37.25 0 \r\nL 28.46875 0 \r\nL 28.46875 56 \r\nQ 25.296875 52.984375 20.140625 49.953125 \r\nQ 14.984375 46.921875 10.890625 45.40625 \r\nL 10.890625 53.90625 \r\nQ 18.265625 57.375 23.78125 62.296875 \r\nQ 29.296875 67.234375 31.59375 71.875 \r\nL 37.25 71.875 \r\nz\r\n\" id=\"ArialMT-49\"/>\r\n       </defs>\r\n       <use xlink:href=\"#ArialMT-118\"/>\r\n       <use x=\"50\" xlink:href=\"#ArialMT-97\"/>\r\n       <use x=\"105.615234\" xlink:href=\"#ArialMT-114\"/>\r\n       <use x=\"138.916016\" xlink:href=\"#ArialMT-95\"/>\r\n       <use x=\"194.53125\" xlink:href=\"#ArialMT-49\"/>\r\n       <use x=\"242.771484\" xlink:href=\"#ArialMT-49\"/>\r\n       <use x=\"291.011719\" xlink:href=\"#ArialMT-49\"/>\r\n      </g>\r\n     </g>\r\n    </g>\r\n    <g id=\"xtick_6\">\r\n     <g id=\"text_6\">\r\n      <!-- var_114 -->\r\n      <g style=\"fill:#262626;\" transform=\"translate(300.296094 350.76625)scale(0.11 -0.11)\">\r\n       <use xlink:href=\"#ArialMT-118\"/>\r\n       <use x=\"50\" xlink:href=\"#ArialMT-97\"/>\r\n       <use x=\"105.615234\" xlink:href=\"#ArialMT-114\"/>\r\n       <use x=\"138.916016\" xlink:href=\"#ArialMT-95\"/>\r\n       <use x=\"194.53125\" xlink:href=\"#ArialMT-49\"/>\r\n       <use x=\"242.771484\" xlink:href=\"#ArialMT-49\"/>\r\n       <use x=\"298.386719\" xlink:href=\"#ArialMT-52\"/>\r\n      </g>\r\n     </g>\r\n    </g>\r\n    <g id=\"xtick_7\">\r\n     <g id=\"text_7\">\r\n      <!-- var_115 -->\r\n      <g style=\"fill:#262626;\" transform=\"translate(349.896094 350.76625)scale(0.11 -0.11)\">\r\n       <defs>\r\n        <path d=\"M 4.15625 18.75 \r\nL 13.375 19.53125 \r\nQ 14.40625 12.796875 18.140625 9.390625 \r\nQ 21.875 6 27.15625 6 \r\nQ 33.5 6 37.890625 10.78125 \r\nQ 42.28125 15.578125 42.28125 23.484375 \r\nQ 42.28125 31 38.0625 35.34375 \r\nQ 33.84375 39.703125 27 39.703125 \r\nQ 22.75 39.703125 19.328125 37.765625 \r\nQ 15.921875 35.84375 13.96875 32.765625 \r\nL 5.71875 33.84375 \r\nL 12.640625 70.609375 \r\nL 48.25 70.609375 \r\nL 48.25 62.203125 \r\nL 19.671875 62.203125 \r\nL 15.828125 42.96875 \r\nQ 22.265625 47.46875 29.34375 47.46875 \r\nQ 38.71875 47.46875 45.15625 40.96875 \r\nQ 51.609375 34.46875 51.609375 24.265625 \r\nQ 51.609375 14.546875 45.953125 7.46875 \r\nQ 39.0625 -1.21875 27.15625 -1.21875 \r\nQ 17.390625 -1.21875 11.203125 4.25 \r\nQ 5.03125 9.71875 4.15625 18.75 \r\nz\r\n\" id=\"ArialMT-53\"/>\r\n       </defs>\r\n       <use xlink:href=\"#ArialMT-118\"/>\r\n       <use x=\"50\" xlink:href=\"#ArialMT-97\"/>\r\n       <use x=\"105.615234\" xlink:href=\"#ArialMT-114\"/>\r\n       <use x=\"138.916016\" xlink:href=\"#ArialMT-95\"/>\r\n       <use x=\"194.53125\" xlink:href=\"#ArialMT-49\"/>\r\n       <use x=\"242.771484\" xlink:href=\"#ArialMT-49\"/>\r\n       <use x=\"298.386719\" xlink:href=\"#ArialMT-53\"/>\r\n      </g>\r\n     </g>\r\n    </g>\r\n    <g id=\"xtick_8\">\r\n     <g id=\"text_8\">\r\n      <!-- var_118 -->\r\n      <g style=\"fill:#262626;\" transform=\"translate(399.496094 350.76625)scale(0.11 -0.11)\">\r\n       <use xlink:href=\"#ArialMT-118\"/>\r\n       <use x=\"50\" xlink:href=\"#ArialMT-97\"/>\r\n       <use x=\"105.615234\" xlink:href=\"#ArialMT-114\"/>\r\n       <use x=\"138.916016\" xlink:href=\"#ArialMT-95\"/>\r\n       <use x=\"194.53125\" xlink:href=\"#ArialMT-49\"/>\r\n       <use x=\"242.771484\" xlink:href=\"#ArialMT-49\"/>\r\n       <use x=\"298.386719\" xlink:href=\"#ArialMT-56\"/>\r\n      </g>\r\n     </g>\r\n    </g>\r\n    <g id=\"xtick_9\">\r\n     <g id=\"text_9\">\r\n      <!-- var_119 -->\r\n      <g style=\"fill:#262626;\" transform=\"translate(449.096094 350.76625)scale(0.11 -0.11)\">\r\n       <defs>\r\n        <path d=\"M 5.46875 16.546875 \r\nL 13.921875 17.328125 \r\nQ 14.984375 11.375 18.015625 8.6875 \r\nQ 21.046875 6 25.78125 6 \r\nQ 29.828125 6 32.875 7.859375 \r\nQ 35.9375 9.71875 37.890625 12.8125 \r\nQ 39.84375 15.921875 41.15625 21.1875 \r\nQ 42.484375 26.46875 42.484375 31.9375 \r\nQ 42.484375 32.515625 42.4375 33.6875 \r\nQ 39.796875 29.5 35.234375 26.875 \r\nQ 30.671875 24.265625 25.34375 24.265625 \r\nQ 16.453125 24.265625 10.296875 30.703125 \r\nQ 4.15625 37.15625 4.15625 47.703125 \r\nQ 4.15625 58.59375 10.578125 65.234375 \r\nQ 17 71.875 26.65625 71.875 \r\nQ 33.640625 71.875 39.421875 68.109375 \r\nQ 45.21875 64.359375 48.21875 57.390625 \r\nQ 51.21875 50.4375 51.21875 37.25 \r\nQ 51.21875 23.53125 48.234375 15.40625 \r\nQ 45.265625 7.28125 39.375 3.03125 \r\nQ 33.5 -1.21875 25.59375 -1.21875 \r\nQ 17.1875 -1.21875 11.859375 3.4375 \r\nQ 6.546875 8.109375 5.46875 16.546875 \r\nz\r\nM 41.453125 48.140625 \r\nQ 41.453125 55.71875 37.421875 60.15625 \r\nQ 33.40625 64.59375 27.734375 64.59375 \r\nQ 21.875 64.59375 17.53125 59.8125 \r\nQ 13.1875 55.03125 13.1875 47.40625 \r\nQ 13.1875 40.578125 17.3125 36.296875 \r\nQ 21.4375 32.03125 27.484375 32.03125 \r\nQ 33.59375 32.03125 37.515625 36.296875 \r\nQ 41.453125 40.578125 41.453125 48.140625 \r\nz\r\n\" id=\"ArialMT-57\"/>\r\n       </defs>\r\n       <use xlink:href=\"#ArialMT-118\"/>\r\n       <use x=\"50\" xlink:href=\"#ArialMT-97\"/>\r\n       <use x=\"105.615234\" xlink:href=\"#ArialMT-114\"/>\r\n       <use x=\"138.916016\" xlink:href=\"#ArialMT-95\"/>\r\n       <use x=\"194.53125\" xlink:href=\"#ArialMT-49\"/>\r\n       <use x=\"242.771484\" xlink:href=\"#ArialMT-49\"/>\r\n       <use x=\"298.386719\" xlink:href=\"#ArialMT-57\"/>\r\n      </g>\r\n     </g>\r\n    </g>\r\n   </g>\r\n   <g id=\"matplotlib.axis_2\">\r\n    <g id=\"ytick_1\">\r\n     <g id=\"line2d_1\">\r\n      <path clip-path=\"url(#pb9f7cc36df)\" d=\"M 46.964375 333.36 \r\nL 493.364375 333.36 \r\n\" style=\"fill:none;stroke:#ffffff;stroke-linecap:round;\"/>\r\n     </g>\r\n     <g id=\"text_10\">\r\n      <!-- 0.0 -->\r\n      <g style=\"fill:#262626;\" transform=\"translate(22.174375 337.296797)scale(0.11 -0.11)\">\r\n       <defs>\r\n        <path d=\"M 4.15625 35.296875 \r\nQ 4.15625 48 6.765625 55.734375 \r\nQ 9.375 63.484375 14.515625 67.671875 \r\nQ 19.671875 71.875 27.484375 71.875 \r\nQ 33.25 71.875 37.59375 69.546875 \r\nQ 41.9375 67.234375 44.765625 62.859375 \r\nQ 47.609375 58.5 49.21875 52.21875 \r\nQ 50.828125 45.953125 50.828125 35.296875 \r\nQ 50.828125 22.703125 48.234375 14.96875 \r\nQ 45.65625 7.234375 40.5 3 \r\nQ 35.359375 -1.21875 27.484375 -1.21875 \r\nQ 17.140625 -1.21875 11.234375 6.203125 \r\nQ 4.15625 15.140625 4.15625 35.296875 \r\nz\r\nM 13.1875 35.296875 \r\nQ 13.1875 17.671875 17.3125 11.828125 \r\nQ 21.4375 6 27.484375 6 \r\nQ 33.546875 6 37.671875 11.859375 \r\nQ 41.796875 17.71875 41.796875 35.296875 \r\nQ 41.796875 52.984375 37.671875 58.78125 \r\nQ 33.546875 64.59375 27.390625 64.59375 \r\nQ 21.34375 64.59375 17.71875 59.46875 \r\nQ 13.1875 52.9375 13.1875 35.296875 \r\nz\r\n\" id=\"ArialMT-48\"/>\r\n        <path d=\"M 9.078125 0 \r\nL 9.078125 10.015625 \r\nL 19.09375 10.015625 \r\nL 19.09375 0 \r\nz\r\n\" id=\"ArialMT-46\"/>\r\n       </defs>\r\n       <use xlink:href=\"#ArialMT-48\"/>\r\n       <use x=\"55.615234\" xlink:href=\"#ArialMT-46\"/>\r\n       <use x=\"83.398438\" xlink:href=\"#ArialMT-48\"/>\r\n      </g>\r\n     </g>\r\n    </g>\r\n    <g id=\"ytick_2\">\r\n     <g id=\"line2d_2\">\r\n      <path clip-path=\"url(#pb9f7cc36df)\" d=\"M 46.964375 282.900182 \r\nL 493.364375 282.900182 \r\n\" style=\"fill:none;stroke:#ffffff;stroke-linecap:round;\"/>\r\n     </g>\r\n     <g id=\"text_11\">\r\n      <!-- 0.1 -->\r\n      <g style=\"fill:#262626;\" transform=\"translate(22.174375 286.836979)scale(0.11 -0.11)\">\r\n       <use xlink:href=\"#ArialMT-48\"/>\r\n       <use x=\"55.615234\" xlink:href=\"#ArialMT-46\"/>\r\n       <use x=\"83.398438\" xlink:href=\"#ArialMT-49\"/>\r\n      </g>\r\n     </g>\r\n    </g>\r\n    <g id=\"ytick_3\">\r\n     <g id=\"line2d_3\">\r\n      <path clip-path=\"url(#pb9f7cc36df)\" d=\"M 46.964375 232.440364 \r\nL 493.364375 232.440364 \r\n\" style=\"fill:none;stroke:#ffffff;stroke-linecap:round;\"/>\r\n     </g>\r\n     <g id=\"text_12\">\r\n      <!-- 0.2 -->\r\n      <g style=\"fill:#262626;\" transform=\"translate(22.174375 236.377161)scale(0.11 -0.11)\">\r\n       <defs>\r\n        <path d=\"M 50.34375 8.453125 \r\nL 50.34375 0 \r\nL 3.03125 0 \r\nQ 2.9375 3.171875 4.046875 6.109375 \r\nQ 5.859375 10.9375 9.828125 15.625 \r\nQ 13.8125 20.3125 21.34375 26.46875 \r\nQ 33.015625 36.03125 37.109375 41.625 \r\nQ 41.21875 47.21875 41.21875 52.203125 \r\nQ 41.21875 57.421875 37.46875 61 \r\nQ 33.734375 64.59375 27.734375 64.59375 \r\nQ 21.390625 64.59375 17.578125 60.78125 \r\nQ 13.765625 56.984375 13.71875 50.25 \r\nL 4.6875 51.171875 \r\nQ 5.609375 61.28125 11.65625 66.578125 \r\nQ 17.71875 71.875 27.9375 71.875 \r\nQ 38.234375 71.875 44.234375 66.15625 \r\nQ 50.25 60.453125 50.25 52 \r\nQ 50.25 47.703125 48.484375 43.546875 \r\nQ 46.734375 39.40625 42.65625 34.8125 \r\nQ 38.578125 30.21875 29.109375 22.21875 \r\nQ 21.1875 15.578125 18.9375 13.203125 \r\nQ 16.703125 10.84375 15.234375 8.453125 \r\nz\r\n\" id=\"ArialMT-50\"/>\r\n       </defs>\r\n       <use xlink:href=\"#ArialMT-48\"/>\r\n       <use x=\"55.615234\" xlink:href=\"#ArialMT-46\"/>\r\n       <use x=\"83.398438\" xlink:href=\"#ArialMT-50\"/>\r\n      </g>\r\n     </g>\r\n    </g>\r\n    <g id=\"ytick_4\">\r\n     <g id=\"line2d_4\">\r\n      <path clip-path=\"url(#pb9f7cc36df)\" d=\"M 46.964375 181.980546 \r\nL 493.364375 181.980546 \r\n\" style=\"fill:none;stroke:#ffffff;stroke-linecap:round;\"/>\r\n     </g>\r\n     <g id=\"text_13\">\r\n      <!-- 0.3 -->\r\n      <g style=\"fill:#262626;\" transform=\"translate(22.174375 185.917343)scale(0.11 -0.11)\">\r\n       <defs>\r\n        <path d=\"M 4.203125 18.890625 \r\nL 12.984375 20.0625 \r\nQ 14.5 12.59375 18.140625 9.296875 \r\nQ 21.78125 6 27 6 \r\nQ 33.203125 6 37.46875 10.296875 \r\nQ 41.75 14.59375 41.75 20.953125 \r\nQ 41.75 27 37.796875 30.921875 \r\nQ 33.84375 34.859375 27.734375 34.859375 \r\nQ 25.25 34.859375 21.53125 33.890625 \r\nL 22.515625 41.609375 \r\nQ 23.390625 41.5 23.921875 41.5 \r\nQ 29.546875 41.5 34.03125 44.421875 \r\nQ 38.53125 47.359375 38.53125 53.46875 \r\nQ 38.53125 58.296875 35.25 61.46875 \r\nQ 31.984375 64.65625 26.8125 64.65625 \r\nQ 21.6875 64.65625 18.265625 61.421875 \r\nQ 14.84375 58.203125 13.875 51.765625 \r\nL 5.078125 53.328125 \r\nQ 6.6875 62.15625 12.390625 67.015625 \r\nQ 18.109375 71.875 26.609375 71.875 \r\nQ 32.46875 71.875 37.390625 69.359375 \r\nQ 42.328125 66.84375 44.9375 62.5 \r\nQ 47.5625 58.15625 47.5625 53.265625 \r\nQ 47.5625 48.640625 45.0625 44.828125 \r\nQ 42.578125 41.015625 37.703125 38.765625 \r\nQ 44.046875 37.3125 47.5625 32.6875 \r\nQ 51.078125 28.078125 51.078125 21.140625 \r\nQ 51.078125 11.765625 44.234375 5.25 \r\nQ 37.40625 -1.265625 26.953125 -1.265625 \r\nQ 17.53125 -1.265625 11.296875 4.34375 \r\nQ 5.078125 9.96875 4.203125 18.890625 \r\nz\r\n\" id=\"ArialMT-51\"/>\r\n       </defs>\r\n       <use xlink:href=\"#ArialMT-48\"/>\r\n       <use x=\"55.615234\" xlink:href=\"#ArialMT-46\"/>\r\n       <use x=\"83.398438\" xlink:href=\"#ArialMT-51\"/>\r\n      </g>\r\n     </g>\r\n    </g>\r\n    <g id=\"ytick_5\">\r\n     <g id=\"line2d_5\">\r\n      <path clip-path=\"url(#pb9f7cc36df)\" d=\"M 46.964375 131.520729 \r\nL 493.364375 131.520729 \r\n\" style=\"fill:none;stroke:#ffffff;stroke-linecap:round;\"/>\r\n     </g>\r\n     <g id=\"text_14\">\r\n      <!-- 0.4 -->\r\n      <g style=\"fill:#262626;\" transform=\"translate(22.174375 135.457525)scale(0.11 -0.11)\">\r\n       <use xlink:href=\"#ArialMT-48\"/>\r\n       <use x=\"55.615234\" xlink:href=\"#ArialMT-46\"/>\r\n       <use x=\"83.398438\" xlink:href=\"#ArialMT-52\"/>\r\n      </g>\r\n     </g>\r\n    </g>\r\n    <g id=\"ytick_6\">\r\n     <g id=\"line2d_6\">\r\n      <path clip-path=\"url(#pb9f7cc36df)\" d=\"M 46.964375 81.060911 \r\nL 493.364375 81.060911 \r\n\" style=\"fill:none;stroke:#ffffff;stroke-linecap:round;\"/>\r\n     </g>\r\n     <g id=\"text_15\">\r\n      <!-- 0.5 -->\r\n      <g style=\"fill:#262626;\" transform=\"translate(22.174375 84.997708)scale(0.11 -0.11)\">\r\n       <use xlink:href=\"#ArialMT-48\"/>\r\n       <use x=\"55.615234\" xlink:href=\"#ArialMT-46\"/>\r\n       <use x=\"83.398438\" xlink:href=\"#ArialMT-53\"/>\r\n      </g>\r\n     </g>\r\n    </g>\r\n    <g id=\"ytick_7\">\r\n     <g id=\"line2d_7\">\r\n      <path clip-path=\"url(#pb9f7cc36df)\" d=\"M 46.964375 30.601093 \r\nL 493.364375 30.601093 \r\n\" style=\"fill:none;stroke:#ffffff;stroke-linecap:round;\"/>\r\n     </g>\r\n     <g id=\"text_16\">\r\n      <!-- 0.6 -->\r\n      <g style=\"fill:#262626;\" transform=\"translate(22.174375 34.53789)scale(0.11 -0.11)\">\r\n       <use xlink:href=\"#ArialMT-48\"/>\r\n       <use x=\"55.615234\" xlink:href=\"#ArialMT-46\"/>\r\n       <use x=\"83.398438\" xlink:href=\"#ArialMT-54\"/>\r\n      </g>\r\n     </g>\r\n    </g>\r\n    <g id=\"text_17\">\r\n     <!-- PctTotal -->\r\n     <g style=\"fill:#262626;\" transform=\"translate(15.789375 191.619375)rotate(-90)scale(0.12 -0.12)\">\r\n      <defs>\r\n       <path d=\"M 7.71875 0 \r\nL 7.71875 71.578125 \r\nL 34.71875 71.578125 \r\nQ 41.84375 71.578125 45.609375 70.90625 \r\nQ 50.875 70.015625 54.4375 67.546875 \r\nQ 58.015625 65.09375 60.1875 60.640625 \r\nQ 62.359375 56.203125 62.359375 50.875 \r\nQ 62.359375 41.75 56.546875 35.421875 \r\nQ 50.734375 29.109375 35.546875 29.109375 \r\nL 17.1875 29.109375 \r\nL 17.1875 0 \r\nz\r\nM 17.1875 37.546875 \r\nL 35.6875 37.546875 \r\nQ 44.875 37.546875 48.734375 40.96875 \r\nQ 52.59375 44.390625 52.59375 50.59375 \r\nQ 52.59375 55.078125 50.3125 58.265625 \r\nQ 48.046875 61.46875 44.34375 62.5 \r\nQ 41.9375 63.140625 35.5 63.140625 \r\nL 17.1875 63.140625 \r\nz\r\n\" id=\"ArialMT-80\"/>\r\n       <path d=\"M 40.4375 19 \r\nL 49.078125 17.875 \r\nQ 47.65625 8.9375 41.8125 3.875 \r\nQ 35.984375 -1.171875 27.484375 -1.171875 \r\nQ 16.84375 -1.171875 10.375 5.78125 \r\nQ 3.90625 12.75 3.90625 25.734375 \r\nQ 3.90625 34.125 6.6875 40.421875 \r\nQ 9.46875 46.734375 15.15625 49.875 \r\nQ 20.84375 53.03125 27.546875 53.03125 \r\nQ 35.984375 53.03125 41.359375 48.75 \r\nQ 46.734375 44.484375 48.25 36.625 \r\nL 39.703125 35.296875 \r\nQ 38.484375 40.53125 35.375 43.15625 \r\nQ 32.28125 45.796875 27.875 45.796875 \r\nQ 21.234375 45.796875 17.078125 41.03125 \r\nQ 12.9375 36.28125 12.9375 25.984375 \r\nQ 12.9375 15.53125 16.9375 10.796875 \r\nQ 20.953125 6.0625 27.390625 6.0625 \r\nQ 32.5625 6.0625 36.03125 9.234375 \r\nQ 39.5 12.40625 40.4375 19 \r\nz\r\n\" id=\"ArialMT-99\"/>\r\n       <path d=\"M 25.78125 7.859375 \r\nL 27.046875 0.09375 \r\nQ 23.34375 -0.6875 20.40625 -0.6875 \r\nQ 15.625 -0.6875 12.984375 0.828125 \r\nQ 10.359375 2.34375 9.28125 4.8125 \r\nQ 8.203125 7.28125 8.203125 15.1875 \r\nL 8.203125 45.015625 \r\nL 1.765625 45.015625 \r\nL 1.765625 51.859375 \r\nL 8.203125 51.859375 \r\nL 8.203125 64.703125 \r\nL 16.9375 69.96875 \r\nL 16.9375 51.859375 \r\nL 25.78125 51.859375 \r\nL 25.78125 45.015625 \r\nL 16.9375 45.015625 \r\nL 16.9375 14.703125 \r\nQ 16.9375 10.9375 17.40625 9.859375 \r\nQ 17.875 8.796875 18.921875 8.15625 \r\nQ 19.96875 7.515625 21.921875 7.515625 \r\nQ 23.390625 7.515625 25.78125 7.859375 \r\nz\r\n\" id=\"ArialMT-116\"/>\r\n       <path d=\"M 25.921875 0 \r\nL 25.921875 63.140625 \r\nL 2.34375 63.140625 \r\nL 2.34375 71.578125 \r\nL 59.078125 71.578125 \r\nL 59.078125 63.140625 \r\nL 35.40625 63.140625 \r\nL 35.40625 0 \r\nz\r\n\" id=\"ArialMT-84\"/>\r\n       <path d=\"M 3.328125 25.921875 \r\nQ 3.328125 40.328125 11.328125 47.265625 \r\nQ 18.015625 53.03125 27.640625 53.03125 \r\nQ 38.328125 53.03125 45.109375 46.015625 \r\nQ 51.90625 39.015625 51.90625 26.65625 \r\nQ 51.90625 16.65625 48.90625 10.90625 \r\nQ 45.90625 5.171875 40.15625 2 \r\nQ 34.421875 -1.171875 27.640625 -1.171875 \r\nQ 16.75 -1.171875 10.03125 5.8125 \r\nQ 3.328125 12.796875 3.328125 25.921875 \r\nz\r\nM 12.359375 25.921875 \r\nQ 12.359375 15.96875 16.703125 11.015625 \r\nQ 21.046875 6.0625 27.640625 6.0625 \r\nQ 34.1875 6.0625 38.53125 11.03125 \r\nQ 42.875 16.015625 42.875 26.21875 \r\nQ 42.875 35.84375 38.5 40.796875 \r\nQ 34.125 45.75 27.640625 45.75 \r\nQ 21.046875 45.75 16.703125 40.8125 \r\nQ 12.359375 35.890625 12.359375 25.921875 \r\nz\r\n\" id=\"ArialMT-111\"/>\r\n       <path d=\"M 6.390625 0 \r\nL 6.390625 71.578125 \r\nL 15.1875 71.578125 \r\nL 15.1875 0 \r\nz\r\n\" id=\"ArialMT-108\"/>\r\n      </defs>\r\n      <use xlink:href=\"#ArialMT-80\"/>\r\n      <use x=\"66.699219\" xlink:href=\"#ArialMT-99\"/>\r\n      <use x=\"116.699219\" xlink:href=\"#ArialMT-116\"/>\r\n      <use x=\"144.482422\" xlink:href=\"#ArialMT-84\"/>\r\n      <use x=\"194.441406\" xlink:href=\"#ArialMT-111\"/>\r\n      <use x=\"250.056641\" xlink:href=\"#ArialMT-116\"/>\r\n      <use x=\"277.839844\" xlink:href=\"#ArialMT-97\"/>\r\n      <use x=\"333.455078\" xlink:href=\"#ArialMT-108\"/>\r\n     </g>\r\n    </g>\r\n   </g>\r\n   <g id=\"patch_3\">\r\n    <path clip-path=\"url(#pb9f7cc36df)\" d=\"M 51.924375 333.36 \r\nL 91.604375 333.36 \r\nL 91.604375 22.731429 \r\nL 51.924375 22.731429 \r\nz\r\n\" style=\"fill:#b4d4df;stroke:#ffffff;stroke-linejoin:miter;\"/>\r\n   </g>\r\n   <g id=\"patch_4\">\r\n    <path clip-path=\"url(#pb9f7cc36df)\" d=\"M 101.524375 333.36 \r\nL 141.204375 333.36 \r\nL 141.204375 22.731429 \r\nL 101.524375 22.731429 \r\nz\r\n\" style=\"fill:#b4d4df;stroke:#ffffff;stroke-linejoin:miter;\"/>\r\n   </g>\r\n   <g id=\"patch_5\">\r\n    <path clip-path=\"url(#pb9f7cc36df)\" d=\"M 151.124375 333.36 \r\nL 190.804375 333.36 \r\nL 190.804375 22.731429 \r\nL 151.124375 22.731429 \r\nz\r\n\" style=\"fill:#b4d4df;stroke:#ffffff;stroke-linejoin:miter;\"/>\r\n   </g>\r\n   <g id=\"patch_6\">\r\n    <path clip-path=\"url(#pb9f7cc36df)\" d=\"M 200.724375 333.36 \r\nL 240.404375 333.36 \r\nL 240.404375 22.731429 \r\nL 200.724375 22.731429 \r\nz\r\n\" style=\"fill:#b4d4df;stroke:#ffffff;stroke-linejoin:miter;\"/>\r\n   </g>\r\n   <g id=\"patch_7\">\r\n    <path clip-path=\"url(#pb9f7cc36df)\" d=\"M 250.324375 333.36 \r\nL 290.004375 333.36 \r\nL 290.004375 187.994379 \r\nL 250.324375 187.994379 \r\nz\r\n\" style=\"fill:#b4d4df;stroke:#ffffff;stroke-linejoin:miter;\"/>\r\n   </g>\r\n   <g id=\"patch_8\">\r\n    <path clip-path=\"url(#pb9f7cc36df)\" d=\"M 299.924375 333.36 \r\nL 339.604375 333.36 \r\nL 339.604375 187.994379 \r\nL 299.924375 187.994379 \r\nz\r\n\" style=\"fill:#b4d4df;stroke:#ffffff;stroke-linejoin:miter;\"/>\r\n   </g>\r\n   <g id=\"patch_9\">\r\n    <path clip-path=\"url(#pb9f7cc36df)\" d=\"M 349.524375 333.36 \r\nL 389.204375 333.36 \r\nL 389.204375 187.994379 \r\nL 349.524375 187.994379 \r\nz\r\n\" style=\"fill:#b4d4df;stroke:#ffffff;stroke-linejoin:miter;\"/>\r\n   </g>\r\n   <g id=\"patch_10\">\r\n    <path clip-path=\"url(#pb9f7cc36df)\" d=\"M 399.124375 333.36 \r\nL 438.804375 333.36 \r\nL 438.804375 180.852953 \r\nL 399.124375 180.852953 \r\nz\r\n\" style=\"fill:#b4d4df;stroke:#ffffff;stroke-linejoin:miter;\"/>\r\n   </g>\r\n   <g id=\"patch_11\">\r\n    <path clip-path=\"url(#pb9f7cc36df)\" d=\"M 448.724375 333.36 \r\nL 488.404375 333.36 \r\nL 488.404375 180.852953 \r\nL 448.724375 180.852953 \r\nz\r\n\" style=\"fill:#b4d4df;stroke:#ffffff;stroke-linejoin:miter;\"/>\r\n   </g>\r\n   <g id=\"line2d_8\">\r\n    <path clip-path=\"url(#pb9f7cc36df)\" style=\"fill:none;stroke:#424242;stroke-linecap:round;stroke-width:2.7;\"/>\r\n   </g>\r\n   <g id=\"line2d_9\">\r\n    <path clip-path=\"url(#pb9f7cc36df)\" style=\"fill:none;stroke:#424242;stroke-linecap:round;stroke-width:2.7;\"/>\r\n   </g>\r\n   <g id=\"line2d_10\">\r\n    <path clip-path=\"url(#pb9f7cc36df)\" style=\"fill:none;stroke:#424242;stroke-linecap:round;stroke-width:2.7;\"/>\r\n   </g>\r\n   <g id=\"line2d_11\">\r\n    <path clip-path=\"url(#pb9f7cc36df)\" style=\"fill:none;stroke:#424242;stroke-linecap:round;stroke-width:2.7;\"/>\r\n   </g>\r\n   <g id=\"line2d_12\">\r\n    <path clip-path=\"url(#pb9f7cc36df)\" style=\"fill:none;stroke:#424242;stroke-linecap:round;stroke-width:2.7;\"/>\r\n   </g>\r\n   <g id=\"line2d_13\">\r\n    <path clip-path=\"url(#pb9f7cc36df)\" style=\"fill:none;stroke:#424242;stroke-linecap:round;stroke-width:2.7;\"/>\r\n   </g>\r\n   <g id=\"line2d_14\">\r\n    <path clip-path=\"url(#pb9f7cc36df)\" style=\"fill:none;stroke:#424242;stroke-linecap:round;stroke-width:2.7;\"/>\r\n   </g>\r\n   <g id=\"line2d_15\">\r\n    <path clip-path=\"url(#pb9f7cc36df)\" style=\"fill:none;stroke:#424242;stroke-linecap:round;stroke-width:2.7;\"/>\r\n   </g>\r\n   <g id=\"line2d_16\">\r\n    <path clip-path=\"url(#pb9f7cc36df)\" style=\"fill:none;stroke:#424242;stroke-linecap:round;stroke-width:2.7;\"/>\r\n   </g>\r\n   <g id=\"patch_12\">\r\n    <path d=\"M 46.964375 333.36 \r\nL 46.964375 7.2 \r\n\" style=\"fill:none;stroke:#ffffff;stroke-linecap:square;stroke-linejoin:miter;stroke-width:1.25;\"/>\r\n   </g>\r\n   <g id=\"patch_13\">\r\n    <path d=\"M 493.364375 333.36 \r\nL 493.364375 7.2 \r\n\" style=\"fill:none;stroke:#ffffff;stroke-linecap:square;stroke-linejoin:miter;stroke-width:1.25;\"/>\r\n   </g>\r\n   <g id=\"patch_14\">\r\n    <path d=\"M 46.964375 333.36 \r\nL 493.364375 333.36 \r\n\" style=\"fill:none;stroke:#ffffff;stroke-linecap:square;stroke-linejoin:miter;stroke-width:1.25;\"/>\r\n   </g>\r\n   <g id=\"patch_15\">\r\n    <path d=\"M 46.964375 7.2 \r\nL 493.364375 7.2 \r\n\" style=\"fill:none;stroke:#ffffff;stroke-linecap:square;stroke-linejoin:miter;stroke-width:1.25;\"/>\r\n   </g>\r\n  </g>\r\n </g>\r\n <defs>\r\n  <clipPath id=\"pb9f7cc36df\">\r\n   <rect height=\"326.16\" width=\"446.4\" x=\"46.964375\" y=\"7.2\"/>\r\n  </clipPath>\r\n </defs>\r\n</svg>\r\n",
      "image/png": "[encoded data removed]"
     },
     "metadata": {}
    }
   ],
   "source": [
    "import matplotlib.pyplot as plt\n",
    "\n",
    "f, ax = plt.subplots(figsize=(8, 6))\n",
    "sns.barplot(data=pctNan,x=pctNan.index,y='PctTotal',color='lightblue') # graph of pct "
   ]
  },
  {
   "cell_type": "code",
   "execution_count": 34,
   "metadata": {},
   "outputs": [
    {
     "output_type": "execute_result",
     "data": {
      "text/plain": [
       "        dtype Anova-P Chi2-P CramerV  Stat-sig\n",
       "var_64    cat     NaN  0.001   0.034         1\n",
       "var_66    cat     NaN  0.001   0.034         1\n",
       "var_67    cat     NaN  0.011   0.026         1\n",
       "var_68    cat     NaN      0   0.051         1\n",
       "var_111   cat     NaN  0.005   0.021         1\n",
       "var_114   cat     NaN      0   0.051         1\n",
       "var_115   cat     NaN      0   0.035         1\n",
       "var_118   cat     NaN  0.031   0.016         1\n",
       "var_119   cat     NaN      0   0.045         1"
      ],
      "text/html": "<div>\n<style scoped>\n    .dataframe tbody tr th:only-of-type {\n        vertical-align: middle;\n    }\n\n    .dataframe tbody tr th {\n        vertical-align: top;\n    }\n\n    .dataframe thead th {\n        text-align: right;\n    }\n</style>\n<table border=\"1\" class=\"dataframe\">\n  <thead>\n    <tr style=\"text-align: right;\">\n      <th></th>\n      <th>dtype</th>\n      <th>Anova-P</th>\n      <th>Chi2-P</th>\n      <th>CramerV</th>\n      <th>Stat-sig</th>\n    </tr>\n  </thead>\n  <tbody>\n    <tr>\n      <th>var_64</th>\n      <td>cat</td>\n      <td>NaN</td>\n      <td>0.001</td>\n      <td>0.034</td>\n      <td>1</td>\n    </tr>\n    <tr>\n      <th>var_66</th>\n      <td>cat</td>\n      <td>NaN</td>\n      <td>0.001</td>\n      <td>0.034</td>\n      <td>1</td>\n    </tr>\n    <tr>\n      <th>var_67</th>\n      <td>cat</td>\n      <td>NaN</td>\n      <td>0.011</td>\n      <td>0.026</td>\n      <td>1</td>\n    </tr>\n    <tr>\n      <th>var_68</th>\n      <td>cat</td>\n      <td>NaN</td>\n      <td>0</td>\n      <td>0.051</td>\n      <td>1</td>\n    </tr>\n    <tr>\n      <th>var_111</th>\n      <td>cat</td>\n      <td>NaN</td>\n      <td>0.005</td>\n      <td>0.021</td>\n      <td>1</td>\n    </tr>\n    <tr>\n      <th>var_114</th>\n      <td>cat</td>\n      <td>NaN</td>\n      <td>0</td>\n      <td>0.051</td>\n      <td>1</td>\n    </tr>\n    <tr>\n      <th>var_115</th>\n      <td>cat</td>\n      <td>NaN</td>\n      <td>0</td>\n      <td>0.035</td>\n      <td>1</td>\n    </tr>\n    <tr>\n      <th>var_118</th>\n      <td>cat</td>\n      <td>NaN</td>\n      <td>0.031</td>\n      <td>0.016</td>\n      <td>1</td>\n    </tr>\n    <tr>\n      <th>var_119</th>\n      <td>cat</td>\n      <td>NaN</td>\n      <td>0</td>\n      <td>0.045</td>\n      <td>1</td>\n    </tr>\n  </tbody>\n</table>\n</div>"
     },
     "metadata": {},
     "execution_count": 34
    }
   ],
   "source": [
    "statSig.loc[pctNan.index.to_list()] # more info on the columns that had more than 0.2 pct of total as NaN values"
   ]
  },
  {
   "cell_type": "code",
   "execution_count": 35,
   "metadata": {},
   "outputs": [
    {
     "output_type": "stream",
     "name": "stdout",
     "text": [
      "Mean of Stat Sig CramerV: 0.041\nMax of Stat Sig CramerV: 0.139\n"
     ]
    }
   ],
   "source": [
    "print('Mean of Stat Sig CramerV:',statSig['CramerV'].mean().round(decimals=3))\n",
    "print('Max of Stat Sig CramerV:',statSig['CramerV'].max().round(decimals=3))"
   ]
  },
  {
   "source": [
    "Columns that have NaN for greater than 0.2 pct of their total dataset have CramerV values that are close to the mean for the stat sig partition of the dataset. They are also stat-sig. The most concern should be focused on var_64,var_66,var_67, and var_68 as they have the highest percentage of NaN values (0.60). These values have CramerV values that are close to the mean. For these reasons, because it appears that what data is present is predictive, I am going to leave them in the dataset and just replace the NaN values with 0. "
   ],
   "cell_type": "markdown",
   "metadata": {}
  },
  {
   "cell_type": "code",
   "execution_count": 36,
   "metadata": {},
   "outputs": [
    {
     "output_type": "stream",
     "name": "stdout",
     "text": [
      "shape training data: (15036, 91)\nshape testing data: (6444, 91)\n"
     ]
    }
   ],
   "source": [
    "trainingData,testingData = statSigData[:int(round(len(statSigData.index) * 0.7,0))],statSigData[int(round(len(statSigData.index) * 0.7,0)):] # partition the dataset into 0.7 training data and 0.3 testing data \n",
    "print('shape training data:', trainingData.shape)\n",
    "print('shape testing data:', testingData.shape)"
   ]
  },
  {
   "source": [
    "As previously discussed the num and cat datatypes have NaN values that need to be replaced with different things. 0 or mean of column for cat and num specifically. The datatypes cat and num need to be generated again on the stat sig dataset, the list generated earlier is for the entire var list. The same methodology is used as earlier. "
   ],
   "cell_type": "markdown",
   "metadata": {}
  },
  {
   "cell_type": "code",
   "execution_count": 37,
   "metadata": {},
   "outputs": [],
   "source": [
    "trainDtypes = [] # record dtype as either cat or num based on unique values in training data \n",
    "for col in trainingData:\n",
    "    if col != 'targetLabels':\n",
    "        if trainingData[col].nunique() == 2: # categorical only contains 1s and 0s, ignores NaN values\n",
    "            trainDtypes.append('cat')\n",
    "        else:\n",
    "            trainDtypes.append('num')\n",
    "\n",
    "testDtypes = [] # record dtype as either cat or num based on unique values in testing data \n",
    "for col in testingData:\n",
    "    if col != 'targetLabels':\n",
    "        if testingData[col].nunique() == 2: # categorical only contains 1s and 0s, ignores NaN values\n",
    "            testDtypes.append('cat')\n",
    "        else:\n",
    "            testDtypes.append('num')\n"
   ]
  },
  {
   "cell_type": "code",
   "execution_count": 38,
   "metadata": {},
   "outputs": [],
   "source": [
    "for col in trainingData:\n",
    "    if col != 'targetLabels':\n",
    "        if dtypeDict[col] == 'cat':\n",
    "            trainingData[col] = trainingData[col].fillna(0) # replace NaN with 0\n",
    "        if dtypeDict[col] == 'num':\n",
    "            trainingData[col] = trainingData[col].fillna(trainingData[col].mean()) # replace NaN with mean of column\n",
    "\n",
    "for col in testingData:\n",
    "    if col != 'targetLabels':\n",
    "        if dtypeDict[col] == 'cat':\n",
    "            testingData[col] = testingData[col].fillna(0) # replace NaN with 0\n",
    "        if dtypeDict[col] == 'num':\n",
    "            testingData[col] = testingData[col].fillna(testingData[col].mean()) # replace NaN with mean of column\n"
   ]
  },
  {
   "cell_type": "code",
   "execution_count": 39,
   "metadata": {},
   "outputs": [
    {
     "output_type": "execute_result",
     "data": {
      "text/plain": [
       "[]"
      ]
     },
     "metadata": {},
     "execution_count": 39
    }
   ],
   "source": [
    "[print(a) for a in trainingData.isna().sum().to_list() if a != 0] # verify all NaN values removed from training data"
   ]
  },
  {
   "cell_type": "code",
   "execution_count": 40,
   "metadata": {},
   "outputs": [
    {
     "output_type": "execute_result",
     "data": {
      "text/plain": [
       "[]"
      ]
     },
     "metadata": {},
     "execution_count": 40
    }
   ],
   "source": [
    "[print(a) for a in testingData.isna().sum().to_list() if a != 0] # verify all NaN values removed from testing data"
   ]
  },
  {
   "source": [
    "The empty lists above indicate that all NaN values were successfully removed and replaced with either 0 or the mean of the column. There are still a lot of var or features in the dataset; the importance of these can be tested using random forests. The importance or predictive ability of each feature is computed based on how much it reduces entropy. "
   ],
   "cell_type": "markdown",
   "metadata": {}
  },
  {
   "cell_type": "code",
   "execution_count": 41,
   "metadata": {},
   "outputs": [],
   "source": [
    "from sklearn import ensemble"
   ]
  },
  {
   "cell_type": "code",
   "execution_count": 42,
   "metadata": {},
   "outputs": [],
   "source": [
    "X = trainingData.drop(\"targetLabels\", axis=1).values\n",
    "y = trainingData[\"targetLabels\"].values\n",
    "feature_names = trainingData.drop(\"targetLabels\", axis=1).columns.tolist() # var names w/o targetLabels\n",
    "\n",
    "model = ensemble.RandomForestClassifier(n_estimators=100, # set up model\n",
    "                      criterion=\"entropy\", random_state=0)\n",
    "model.fit(X,y) # run models\n",
    "importances = model.feature_importances_ # pull how important \n",
    "\n",
    "importDf = pd.DataFrame({\"importance\":importances, # add to df \n",
    "            \"variable\":feature_names})\n",
    "importDf = importDf.set_index(\"variable\") # set variable as index "
   ]
  },
  {
   "cell_type": "code",
   "execution_count": 43,
   "metadata": {},
   "outputs": [
    {
     "output_type": "execute_result",
     "data": {
      "text/plain": [
       "importance    float64\n",
       "dtype: object"
      ]
     },
     "metadata": {},
     "execution_count": 43
    }
   ],
   "source": [
    "importDf.dtypes"
   ]
  },
  {
   "cell_type": "code",
   "execution_count": 44,
   "metadata": {},
   "outputs": [
    {
     "output_type": "execute_result",
     "data": {
      "text/plain": [
       "<seaborn.axisgrid.FacetGrid at 0x22432b78b50>"
      ]
     },
     "metadata": {},
     "execution_count": 44
    },
    {
     "output_type": "display_data",
     "data": {
      "text/plain": "<Figure size 360x360 with 1 Axes>",
      "image/svg+xml": "<?xml version=\"1.0\" encoding=\"utf-8\" standalone=\"no\"?>\r\n<!DOCTYPE svg PUBLIC \"-//W3C//DTD SVG 1.1//EN\"\r\n  \"http://www.w3.org/Graphics/SVG/1.1/DTD/svg11.dtd\">\r\n<!-- Created with matplotlib (https://matplotlib.org/) -->\r\n<svg height=\"349.467344pt\" version=\"1.1\" viewBox=\"0 0 349.438437 349.467344\" width=\"349.438437pt\" xmlns=\"http://www.w3.org/2000/svg\" xmlns:xlink=\"http://www.w3.org/1999/xlink\">\r\n <metadata>\r\n  <rdf:RDF xmlns:cc=\"http://creativecommons.org/ns#\" xmlns:dc=\"http://purl.org/dc/elements/1.1/\" xmlns:rdf=\"http://www.w3.org/1999/02/22-rdf-syntax-ns#\">\r\n   <cc:Work>\r\n    <dc:type rdf:resource=\"http://purl.org/dc/dcmitype/StillImage\"/>\r\n    <dc:date>2020-12-09T21:33:30.999365</dc:date>\r\n    <dc:format>image/svg+xml</dc:format>\r\n    <dc:creator>\r\n     <cc:Agent>\r\n      <dc:title>Matplotlib v3.3.2, https://matplotlib.org/</dc:title>\r\n     </cc:Agent>\r\n    </dc:creator>\r\n   </cc:Work>\r\n  </rdf:RDF>\r\n </metadata>\r\n <defs>\r\n  <style type=\"text/css\">*{stroke-linecap:butt;stroke-linejoin:round;}</style>\r\n </defs>\r\n <g id=\"figure_1\">\r\n  <g id=\"patch_1\">\r\n   <path d=\"M 0 349.467344 \r\nL 349.438437 349.467344 \r\nL 349.438437 0 \r\nL 0 0 \r\nz\r\n\" style=\"fill:#ffffff;\"/>\r\n  </g>\r\n  <g id=\"axes_1\">\r\n   <g id=\"patch_2\">\r\n    <path d=\"M 43.908438 307.733125 \r\nL 342.238437 307.733125 \r\nL 342.238437 7.2 \r\nL 43.908438 7.2 \r\nz\r\n\" style=\"fill:#eaeaf2;\"/>\r\n   </g>\r\n   <g id=\"matplotlib.axis_1\">\r\n    <g id=\"xtick_1\">\r\n     <g id=\"line2d_1\">\r\n      <path clip-path=\"url(#p99330c6ad9)\" d=\"M 55.18596 307.733125 \r\nL 55.18596 7.2 \r\n\" style=\"fill:none;stroke:#ffffff;stroke-linecap:round;\"/>\r\n     </g>\r\n     <g id=\"text_1\">\r\n      <!-- 0.00 -->\r\n      <g style=\"fill:#262626;\" transform=\"translate(44.482445 325.106719)scale(0.11 -0.11)\">\r\n       <defs>\r\n        <path d=\"M 4.15625 35.296875 \r\nQ 4.15625 48 6.765625 55.734375 \r\nQ 9.375 63.484375 14.515625 67.671875 \r\nQ 19.671875 71.875 27.484375 71.875 \r\nQ 33.25 71.875 37.59375 69.546875 \r\nQ 41.9375 67.234375 44.765625 62.859375 \r\nQ 47.609375 58.5 49.21875 52.21875 \r\nQ 50.828125 45.953125 50.828125 35.296875 \r\nQ 50.828125 22.703125 48.234375 14.96875 \r\nQ 45.65625 7.234375 40.5 3 \r\nQ 35.359375 -1.21875 27.484375 -1.21875 \r\nQ 17.140625 -1.21875 11.234375 6.203125 \r\nQ 4.15625 15.140625 4.15625 35.296875 \r\nz\r\nM 13.1875 35.296875 \r\nQ 13.1875 17.671875 17.3125 11.828125 \r\nQ 21.4375 6 27.484375 6 \r\nQ 33.546875 6 37.671875 11.859375 \r\nQ 41.796875 17.71875 41.796875 35.296875 \r\nQ 41.796875 52.984375 37.671875 58.78125 \r\nQ 33.546875 64.59375 27.390625 64.59375 \r\nQ 21.34375 64.59375 17.71875 59.46875 \r\nQ 13.1875 52.9375 13.1875 35.296875 \r\nz\r\n\" id=\"ArialMT-48\"/>\r\n        <path d=\"M 9.078125 0 \r\nL 9.078125 10.015625 \r\nL 19.09375 10.015625 \r\nL 19.09375 0 \r\nz\r\n\" id=\"ArialMT-46\"/>\r\n       </defs>\r\n       <use xlink:href=\"#ArialMT-48\"/>\r\n       <use x=\"55.615234\" xlink:href=\"#ArialMT-46\"/>\r\n       <use x=\"83.398438\" xlink:href=\"#ArialMT-48\"/>\r\n       <use x=\"139.013672\" xlink:href=\"#ArialMT-48\"/>\r\n      </g>\r\n     </g>\r\n    </g>\r\n    <g id=\"xtick_2\">\r\n     <g id=\"line2d_2\">\r\n      <path clip-path=\"url(#p99330c6ad9)\" d=\"M 89.597332 307.733125 \r\nL 89.597332 7.2 \r\n\" style=\"fill:none;stroke:#ffffff;stroke-linecap:round;\"/>\r\n     </g>\r\n     <g id=\"text_2\">\r\n      <!-- 0.01 -->\r\n      <g style=\"fill:#262626;\" transform=\"translate(78.893816 325.106719)scale(0.11 -0.11)\">\r\n       <defs>\r\n        <path d=\"M 37.25 0 \r\nL 28.46875 0 \r\nL 28.46875 56 \r\nQ 25.296875 52.984375 20.140625 49.953125 \r\nQ 14.984375 46.921875 10.890625 45.40625 \r\nL 10.890625 53.90625 \r\nQ 18.265625 57.375 23.78125 62.296875 \r\nQ 29.296875 67.234375 31.59375 71.875 \r\nL 37.25 71.875 \r\nz\r\n\" id=\"ArialMT-49\"/>\r\n       </defs>\r\n       <use xlink:href=\"#ArialMT-48\"/>\r\n       <use x=\"55.615234\" xlink:href=\"#ArialMT-46\"/>\r\n       <use x=\"83.398438\" xlink:href=\"#ArialMT-48\"/>\r\n       <use x=\"139.013672\" xlink:href=\"#ArialMT-49\"/>\r\n      </g>\r\n     </g>\r\n    </g>\r\n    <g id=\"xtick_3\">\r\n     <g id=\"line2d_3\">\r\n      <path clip-path=\"url(#p99330c6ad9)\" d=\"M 124.008704 307.733125 \r\nL 124.008704 7.2 \r\n\" style=\"fill:none;stroke:#ffffff;stroke-linecap:round;\"/>\r\n     </g>\r\n     <g id=\"text_3\">\r\n      <!-- 0.02 -->\r\n      <g style=\"fill:#262626;\" transform=\"translate(113.305188 325.106719)scale(0.11 -0.11)\">\r\n       <defs>\r\n        <path d=\"M 50.34375 8.453125 \r\nL 50.34375 0 \r\nL 3.03125 0 \r\nQ 2.9375 3.171875 4.046875 6.109375 \r\nQ 5.859375 10.9375 9.828125 15.625 \r\nQ 13.8125 20.3125 21.34375 26.46875 \r\nQ 33.015625 36.03125 37.109375 41.625 \r\nQ 41.21875 47.21875 41.21875 52.203125 \r\nQ 41.21875 57.421875 37.46875 61 \r\nQ 33.734375 64.59375 27.734375 64.59375 \r\nQ 21.390625 64.59375 17.578125 60.78125 \r\nQ 13.765625 56.984375 13.71875 50.25 \r\nL 4.6875 51.171875 \r\nQ 5.609375 61.28125 11.65625 66.578125 \r\nQ 17.71875 71.875 27.9375 71.875 \r\nQ 38.234375 71.875 44.234375 66.15625 \r\nQ 50.25 60.453125 50.25 52 \r\nQ 50.25 47.703125 48.484375 43.546875 \r\nQ 46.734375 39.40625 42.65625 34.8125 \r\nQ 38.578125 30.21875 29.109375 22.21875 \r\nQ 21.1875 15.578125 18.9375 13.203125 \r\nQ 16.703125 10.84375 15.234375 8.453125 \r\nz\r\n\" id=\"ArialMT-50\"/>\r\n       </defs>\r\n       <use xlink:href=\"#ArialMT-48\"/>\r\n       <use x=\"55.615234\" xlink:href=\"#ArialMT-46\"/>\r\n       <use x=\"83.398438\" xlink:href=\"#ArialMT-48\"/>\r\n       <use x=\"139.013672\" xlink:href=\"#ArialMT-50\"/>\r\n      </g>\r\n     </g>\r\n    </g>\r\n    <g id=\"xtick_4\">\r\n     <g id=\"line2d_4\">\r\n      <path clip-path=\"url(#p99330c6ad9)\" d=\"M 158.420075 307.733125 \r\nL 158.420075 7.2 \r\n\" style=\"fill:none;stroke:#ffffff;stroke-linecap:round;\"/>\r\n     </g>\r\n     <g id=\"text_4\">\r\n      <!-- 0.03 -->\r\n      <g style=\"fill:#262626;\" transform=\"translate(147.71656 325.106719)scale(0.11 -0.11)\">\r\n       <defs>\r\n        <path d=\"M 4.203125 18.890625 \r\nL 12.984375 20.0625 \r\nQ 14.5 12.59375 18.140625 9.296875 \r\nQ 21.78125 6 27 6 \r\nQ 33.203125 6 37.46875 10.296875 \r\nQ 41.75 14.59375 41.75 20.953125 \r\nQ 41.75 27 37.796875 30.921875 \r\nQ 33.84375 34.859375 27.734375 34.859375 \r\nQ 25.25 34.859375 21.53125 33.890625 \r\nL 22.515625 41.609375 \r\nQ 23.390625 41.5 23.921875 41.5 \r\nQ 29.546875 41.5 34.03125 44.421875 \r\nQ 38.53125 47.359375 38.53125 53.46875 \r\nQ 38.53125 58.296875 35.25 61.46875 \r\nQ 31.984375 64.65625 26.8125 64.65625 \r\nQ 21.6875 64.65625 18.265625 61.421875 \r\nQ 14.84375 58.203125 13.875 51.765625 \r\nL 5.078125 53.328125 \r\nQ 6.6875 62.15625 12.390625 67.015625 \r\nQ 18.109375 71.875 26.609375 71.875 \r\nQ 32.46875 71.875 37.390625 69.359375 \r\nQ 42.328125 66.84375 44.9375 62.5 \r\nQ 47.5625 58.15625 47.5625 53.265625 \r\nQ 47.5625 48.640625 45.0625 44.828125 \r\nQ 42.578125 41.015625 37.703125 38.765625 \r\nQ 44.046875 37.3125 47.5625 32.6875 \r\nQ 51.078125 28.078125 51.078125 21.140625 \r\nQ 51.078125 11.765625 44.234375 5.25 \r\nQ 37.40625 -1.265625 26.953125 -1.265625 \r\nQ 17.53125 -1.265625 11.296875 4.34375 \r\nQ 5.078125 9.96875 4.203125 18.890625 \r\nz\r\n\" id=\"ArialMT-51\"/>\r\n       </defs>\r\n       <use xlink:href=\"#ArialMT-48\"/>\r\n       <use x=\"55.615234\" xlink:href=\"#ArialMT-46\"/>\r\n       <use x=\"83.398438\" xlink:href=\"#ArialMT-48\"/>\r\n       <use x=\"139.013672\" xlink:href=\"#ArialMT-51\"/>\r\n      </g>\r\n     </g>\r\n    </g>\r\n    <g id=\"xtick_5\">\r\n     <g id=\"line2d_5\">\r\n      <path clip-path=\"url(#p99330c6ad9)\" d=\"M 192.831447 307.733125 \r\nL 192.831447 7.2 \r\n\" style=\"fill:none;stroke:#ffffff;stroke-linecap:round;\"/>\r\n     </g>\r\n     <g id=\"text_5\">\r\n      <!-- 0.04 -->\r\n      <g style=\"fill:#262626;\" transform=\"translate(182.127932 325.106719)scale(0.11 -0.11)\">\r\n       <defs>\r\n        <path d=\"M 32.328125 0 \r\nL 32.328125 17.140625 \r\nL 1.265625 17.140625 \r\nL 1.265625 25.203125 \r\nL 33.9375 71.578125 \r\nL 41.109375 71.578125 \r\nL 41.109375 25.203125 \r\nL 50.78125 25.203125 \r\nL 50.78125 17.140625 \r\nL 41.109375 17.140625 \r\nL 41.109375 0 \r\nz\r\nM 32.328125 25.203125 \r\nL 32.328125 57.46875 \r\nL 9.90625 25.203125 \r\nz\r\n\" id=\"ArialMT-52\"/>\r\n       </defs>\r\n       <use xlink:href=\"#ArialMT-48\"/>\r\n       <use x=\"55.615234\" xlink:href=\"#ArialMT-46\"/>\r\n       <use x=\"83.398438\" xlink:href=\"#ArialMT-48\"/>\r\n       <use x=\"139.013672\" xlink:href=\"#ArialMT-52\"/>\r\n      </g>\r\n     </g>\r\n    </g>\r\n    <g id=\"xtick_6\">\r\n     <g id=\"line2d_6\">\r\n      <path clip-path=\"url(#p99330c6ad9)\" d=\"M 227.242819 307.733125 \r\nL 227.242819 7.2 \r\n\" style=\"fill:none;stroke:#ffffff;stroke-linecap:round;\"/>\r\n     </g>\r\n     <g id=\"text_6\">\r\n      <!-- 0.05 -->\r\n      <g style=\"fill:#262626;\" transform=\"translate(216.539303 325.106719)scale(0.11 -0.11)\">\r\n       <defs>\r\n        <path d=\"M 4.15625 18.75 \r\nL 13.375 19.53125 \r\nQ 14.40625 12.796875 18.140625 9.390625 \r\nQ 21.875 6 27.15625 6 \r\nQ 33.5 6 37.890625 10.78125 \r\nQ 42.28125 15.578125 42.28125 23.484375 \r\nQ 42.28125 31 38.0625 35.34375 \r\nQ 33.84375 39.703125 27 39.703125 \r\nQ 22.75 39.703125 19.328125 37.765625 \r\nQ 15.921875 35.84375 13.96875 32.765625 \r\nL 5.71875 33.84375 \r\nL 12.640625 70.609375 \r\nL 48.25 70.609375 \r\nL 48.25 62.203125 \r\nL 19.671875 62.203125 \r\nL 15.828125 42.96875 \r\nQ 22.265625 47.46875 29.34375 47.46875 \r\nQ 38.71875 47.46875 45.15625 40.96875 \r\nQ 51.609375 34.46875 51.609375 24.265625 \r\nQ 51.609375 14.546875 45.953125 7.46875 \r\nQ 39.0625 -1.21875 27.15625 -1.21875 \r\nQ 17.390625 -1.21875 11.203125 4.25 \r\nQ 5.03125 9.71875 4.15625 18.75 \r\nz\r\n\" id=\"ArialMT-53\"/>\r\n       </defs>\r\n       <use xlink:href=\"#ArialMT-48\"/>\r\n       <use x=\"55.615234\" xlink:href=\"#ArialMT-46\"/>\r\n       <use x=\"83.398438\" xlink:href=\"#ArialMT-48\"/>\r\n       <use x=\"139.013672\" xlink:href=\"#ArialMT-53\"/>\r\n      </g>\r\n     </g>\r\n    </g>\r\n    <g id=\"xtick_7\">\r\n     <g id=\"line2d_7\">\r\n      <path clip-path=\"url(#p99330c6ad9)\" d=\"M 261.654191 307.733125 \r\nL 261.654191 7.2 \r\n\" style=\"fill:none;stroke:#ffffff;stroke-linecap:round;\"/>\r\n     </g>\r\n     <g id=\"text_7\">\r\n      <!-- 0.06 -->\r\n      <g style=\"fill:#262626;\" transform=\"translate(250.950675 325.106719)scale(0.11 -0.11)\">\r\n       <defs>\r\n        <path d=\"M 49.75 54.046875 \r\nL 41.015625 53.375 \r\nQ 39.84375 58.546875 37.703125 60.890625 \r\nQ 34.125 64.65625 28.90625 64.65625 \r\nQ 24.703125 64.65625 21.53125 62.3125 \r\nQ 17.390625 59.28125 14.984375 53.46875 \r\nQ 12.59375 47.65625 12.5 36.921875 \r\nQ 15.671875 41.75 20.265625 44.09375 \r\nQ 24.859375 46.4375 29.890625 46.4375 \r\nQ 38.671875 46.4375 44.84375 39.96875 \r\nQ 51.03125 33.5 51.03125 23.25 \r\nQ 51.03125 16.5 48.125 10.71875 \r\nQ 45.21875 4.9375 40.140625 1.859375 \r\nQ 35.0625 -1.21875 28.609375 -1.21875 \r\nQ 17.625 -1.21875 10.6875 6.859375 \r\nQ 3.765625 14.9375 3.765625 33.5 \r\nQ 3.765625 54.25 11.421875 63.671875 \r\nQ 18.109375 71.875 29.4375 71.875 \r\nQ 37.890625 71.875 43.28125 67.140625 \r\nQ 48.6875 62.40625 49.75 54.046875 \r\nz\r\nM 13.875 23.1875 \r\nQ 13.875 18.65625 15.796875 14.5 \r\nQ 17.71875 10.359375 21.1875 8.171875 \r\nQ 24.65625 6 28.46875 6 \r\nQ 34.03125 6 38.03125 10.484375 \r\nQ 42.046875 14.984375 42.046875 22.703125 \r\nQ 42.046875 30.125 38.078125 34.390625 \r\nQ 34.125 38.671875 28.125 38.671875 \r\nQ 22.171875 38.671875 18.015625 34.390625 \r\nQ 13.875 30.125 13.875 23.1875 \r\nz\r\n\" id=\"ArialMT-54\"/>\r\n       </defs>\r\n       <use xlink:href=\"#ArialMT-48\"/>\r\n       <use x=\"55.615234\" xlink:href=\"#ArialMT-46\"/>\r\n       <use x=\"83.398438\" xlink:href=\"#ArialMT-48\"/>\r\n       <use x=\"139.013672\" xlink:href=\"#ArialMT-54\"/>\r\n      </g>\r\n     </g>\r\n    </g>\r\n    <g id=\"xtick_8\">\r\n     <g id=\"line2d_8\">\r\n      <path clip-path=\"url(#p99330c6ad9)\" d=\"M 296.065563 307.733125 \r\nL 296.065563 7.2 \r\n\" style=\"fill:none;stroke:#ffffff;stroke-linecap:round;\"/>\r\n     </g>\r\n     <g id=\"text_8\">\r\n      <!-- 0.07 -->\r\n      <g style=\"fill:#262626;\" transform=\"translate(285.362047 325.106719)scale(0.11 -0.11)\">\r\n       <defs>\r\n        <path d=\"M 4.734375 62.203125 \r\nL 4.734375 70.65625 \r\nL 51.078125 70.65625 \r\nL 51.078125 63.8125 \r\nQ 44.234375 56.546875 37.515625 44.484375 \r\nQ 30.8125 32.421875 27.15625 19.671875 \r\nQ 24.515625 10.6875 23.78125 0 \r\nL 14.75 0 \r\nQ 14.890625 8.453125 18.0625 20.40625 \r\nQ 21.234375 32.375 27.171875 43.484375 \r\nQ 33.109375 54.59375 39.796875 62.203125 \r\nz\r\n\" id=\"ArialMT-55\"/>\r\n       </defs>\r\n       <use xlink:href=\"#ArialMT-48\"/>\r\n       <use x=\"55.615234\" xlink:href=\"#ArialMT-46\"/>\r\n       <use x=\"83.398438\" xlink:href=\"#ArialMT-48\"/>\r\n       <use x=\"139.013672\" xlink:href=\"#ArialMT-55\"/>\r\n      </g>\r\n     </g>\r\n    </g>\r\n    <g id=\"xtick_9\">\r\n     <g id=\"line2d_9\">\r\n      <path clip-path=\"url(#p99330c6ad9)\" d=\"M 330.476934 307.733125 \r\nL 330.476934 7.2 \r\n\" style=\"fill:none;stroke:#ffffff;stroke-linecap:round;\"/>\r\n     </g>\r\n     <g id=\"text_9\">\r\n      <!-- 0.08 -->\r\n      <g style=\"fill:#262626;\" transform=\"translate(319.773419 325.106719)scale(0.11 -0.11)\">\r\n       <defs>\r\n        <path d=\"M 17.671875 38.8125 \r\nQ 12.203125 40.828125 9.5625 44.53125 \r\nQ 6.9375 48.25 6.9375 53.421875 \r\nQ 6.9375 61.234375 12.546875 66.546875 \r\nQ 18.171875 71.875 27.484375 71.875 \r\nQ 36.859375 71.875 42.578125 66.421875 \r\nQ 48.296875 60.984375 48.296875 53.171875 \r\nQ 48.296875 48.1875 45.671875 44.5 \r\nQ 43.0625 40.828125 37.75 38.8125 \r\nQ 44.34375 36.671875 47.78125 31.875 \r\nQ 51.21875 27.09375 51.21875 20.453125 \r\nQ 51.21875 11.28125 44.71875 5.03125 \r\nQ 38.234375 -1.21875 27.640625 -1.21875 \r\nQ 17.046875 -1.21875 10.546875 5.046875 \r\nQ 4.046875 11.328125 4.046875 20.703125 \r\nQ 4.046875 27.6875 7.59375 32.390625 \r\nQ 11.140625 37.109375 17.671875 38.8125 \r\nz\r\nM 15.921875 53.71875 \r\nQ 15.921875 48.640625 19.1875 45.40625 \r\nQ 22.46875 42.1875 27.6875 42.1875 \r\nQ 32.765625 42.1875 36.015625 45.375 \r\nQ 39.265625 48.578125 39.265625 53.21875 \r\nQ 39.265625 58.0625 35.90625 61.359375 \r\nQ 32.5625 64.65625 27.59375 64.65625 \r\nQ 22.5625 64.65625 19.234375 61.421875 \r\nQ 15.921875 58.203125 15.921875 53.71875 \r\nz\r\nM 13.09375 20.65625 \r\nQ 13.09375 16.890625 14.875 13.375 \r\nQ 16.65625 9.859375 20.171875 7.921875 \r\nQ 23.6875 6 27.734375 6 \r\nQ 34.03125 6 38.125 10.046875 \r\nQ 42.234375 14.109375 42.234375 20.359375 \r\nQ 42.234375 26.703125 38.015625 30.859375 \r\nQ 33.796875 35.015625 27.4375 35.015625 \r\nQ 21.234375 35.015625 17.15625 30.90625 \r\nQ 13.09375 26.8125 13.09375 20.65625 \r\nz\r\n\" id=\"ArialMT-56\"/>\r\n       </defs>\r\n       <use xlink:href=\"#ArialMT-48\"/>\r\n       <use x=\"55.615234\" xlink:href=\"#ArialMT-46\"/>\r\n       <use x=\"83.398438\" xlink:href=\"#ArialMT-48\"/>\r\n       <use x=\"139.013672\" xlink:href=\"#ArialMT-56\"/>\r\n      </g>\r\n     </g>\r\n    </g>\r\n    <g id=\"text_10\">\r\n     <!-- importance -->\r\n     <g style=\"fill:#262626;\" transform=\"translate(163.395 339.882344)scale(0.12 -0.12)\">\r\n      <defs>\r\n       <path d=\"M 6.640625 61.46875 \r\nL 6.640625 71.578125 \r\nL 15.4375 71.578125 \r\nL 15.4375 61.46875 \r\nz\r\nM 6.640625 0 \r\nL 6.640625 51.859375 \r\nL 15.4375 51.859375 \r\nL 15.4375 0 \r\nz\r\n\" id=\"ArialMT-105\"/>\r\n       <path d=\"M 6.59375 0 \r\nL 6.59375 51.859375 \r\nL 14.453125 51.859375 \r\nL 14.453125 44.578125 \r\nQ 16.890625 48.390625 20.9375 50.703125 \r\nQ 25 53.03125 30.171875 53.03125 \r\nQ 35.9375 53.03125 39.625 50.640625 \r\nQ 43.3125 48.25 44.828125 43.953125 \r\nQ 50.984375 53.03125 60.84375 53.03125 \r\nQ 68.5625 53.03125 72.703125 48.75 \r\nQ 76.859375 44.484375 76.859375 35.59375 \r\nL 76.859375 0 \r\nL 68.109375 0 \r\nL 68.109375 32.671875 \r\nQ 68.109375 37.9375 67.25 40.25 \r\nQ 66.40625 42.578125 64.15625 43.984375 \r\nQ 61.921875 45.40625 58.890625 45.40625 \r\nQ 53.421875 45.40625 49.796875 41.765625 \r\nQ 46.1875 38.140625 46.1875 30.125 \r\nL 46.1875 0 \r\nL 37.40625 0 \r\nL 37.40625 33.6875 \r\nQ 37.40625 39.546875 35.25 42.46875 \r\nQ 33.109375 45.40625 28.21875 45.40625 \r\nQ 24.515625 45.40625 21.359375 43.453125 \r\nQ 18.21875 41.5 16.796875 37.734375 \r\nQ 15.375 33.984375 15.375 26.90625 \r\nL 15.375 0 \r\nz\r\n\" id=\"ArialMT-109\"/>\r\n       <path d=\"M 6.59375 -19.875 \r\nL 6.59375 51.859375 \r\nL 14.59375 51.859375 \r\nL 14.59375 45.125 \r\nQ 17.4375 49.078125 21 51.046875 \r\nQ 24.5625 53.03125 29.640625 53.03125 \r\nQ 36.28125 53.03125 41.359375 49.609375 \r\nQ 46.4375 46.1875 49.015625 39.953125 \r\nQ 51.609375 33.734375 51.609375 26.3125 \r\nQ 51.609375 18.359375 48.75 11.984375 \r\nQ 45.90625 5.609375 40.453125 2.21875 \r\nQ 35.015625 -1.171875 29 -1.171875 \r\nQ 24.609375 -1.171875 21.109375 0.6875 \r\nQ 17.625 2.546875 15.375 5.375 \r\nL 15.375 -19.875 \r\nz\r\nM 14.546875 25.640625 \r\nQ 14.546875 15.625 18.59375 10.84375 \r\nQ 22.65625 6.0625 28.421875 6.0625 \r\nQ 34.28125 6.0625 38.453125 11.015625 \r\nQ 42.625 15.96875 42.625 26.375 \r\nQ 42.625 36.28125 38.546875 41.203125 \r\nQ 34.46875 46.140625 28.8125 46.140625 \r\nQ 23.1875 46.140625 18.859375 40.890625 \r\nQ 14.546875 35.640625 14.546875 25.640625 \r\nz\r\n\" id=\"ArialMT-112\"/>\r\n       <path d=\"M 3.328125 25.921875 \r\nQ 3.328125 40.328125 11.328125 47.265625 \r\nQ 18.015625 53.03125 27.640625 53.03125 \r\nQ 38.328125 53.03125 45.109375 46.015625 \r\nQ 51.90625 39.015625 51.90625 26.65625 \r\nQ 51.90625 16.65625 48.90625 10.90625 \r\nQ 45.90625 5.171875 40.15625 2 \r\nQ 34.421875 -1.171875 27.640625 -1.171875 \r\nQ 16.75 -1.171875 10.03125 5.8125 \r\nQ 3.328125 12.796875 3.328125 25.921875 \r\nz\r\nM 12.359375 25.921875 \r\nQ 12.359375 15.96875 16.703125 11.015625 \r\nQ 21.046875 6.0625 27.640625 6.0625 \r\nQ 34.1875 6.0625 38.53125 11.03125 \r\nQ 42.875 16.015625 42.875 26.21875 \r\nQ 42.875 35.84375 38.5 40.796875 \r\nQ 34.125 45.75 27.640625 45.75 \r\nQ 21.046875 45.75 16.703125 40.8125 \r\nQ 12.359375 35.890625 12.359375 25.921875 \r\nz\r\n\" id=\"ArialMT-111\"/>\r\n       <path d=\"M 6.5 0 \r\nL 6.5 51.859375 \r\nL 14.40625 51.859375 \r\nL 14.40625 44 \r\nQ 17.4375 49.515625 20 51.265625 \r\nQ 22.5625 53.03125 25.640625 53.03125 \r\nQ 30.078125 53.03125 34.671875 50.203125 \r\nL 31.640625 42.046875 \r\nQ 28.421875 43.953125 25.203125 43.953125 \r\nQ 22.3125 43.953125 20.015625 42.21875 \r\nQ 17.71875 40.484375 16.75 37.40625 \r\nQ 15.28125 32.71875 15.28125 27.15625 \r\nL 15.28125 0 \r\nz\r\n\" id=\"ArialMT-114\"/>\r\n       <path d=\"M 25.78125 7.859375 \r\nL 27.046875 0.09375 \r\nQ 23.34375 -0.6875 20.40625 -0.6875 \r\nQ 15.625 -0.6875 12.984375 0.828125 \r\nQ 10.359375 2.34375 9.28125 4.8125 \r\nQ 8.203125 7.28125 8.203125 15.1875 \r\nL 8.203125 45.015625 \r\nL 1.765625 45.015625 \r\nL 1.765625 51.859375 \r\nL 8.203125 51.859375 \r\nL 8.203125 64.703125 \r\nL 16.9375 69.96875 \r\nL 16.9375 51.859375 \r\nL 25.78125 51.859375 \r\nL 25.78125 45.015625 \r\nL 16.9375 45.015625 \r\nL 16.9375 14.703125 \r\nQ 16.9375 10.9375 17.40625 9.859375 \r\nQ 17.875 8.796875 18.921875 8.15625 \r\nQ 19.96875 7.515625 21.921875 7.515625 \r\nQ 23.390625 7.515625 25.78125 7.859375 \r\nz\r\n\" id=\"ArialMT-116\"/>\r\n       <path d=\"M 40.4375 6.390625 \r\nQ 35.546875 2.25 31.03125 0.53125 \r\nQ 26.515625 -1.171875 21.34375 -1.171875 \r\nQ 12.796875 -1.171875 8.203125 3 \r\nQ 3.609375 7.171875 3.609375 13.671875 \r\nQ 3.609375 17.484375 5.34375 20.625 \r\nQ 7.078125 23.78125 9.890625 25.6875 \r\nQ 12.703125 27.59375 16.21875 28.5625 \r\nQ 18.796875 29.25 24.03125 29.890625 \r\nQ 34.671875 31.15625 39.703125 32.90625 \r\nQ 39.75 34.71875 39.75 35.203125 \r\nQ 39.75 40.578125 37.25 42.78125 \r\nQ 33.890625 45.75 27.25 45.75 \r\nQ 21.046875 45.75 18.09375 43.578125 \r\nQ 15.140625 41.40625 13.71875 35.890625 \r\nL 5.125 37.0625 \r\nQ 6.296875 42.578125 8.984375 45.96875 \r\nQ 11.671875 49.359375 16.75 51.1875 \r\nQ 21.828125 53.03125 28.515625 53.03125 \r\nQ 35.15625 53.03125 39.296875 51.46875 \r\nQ 43.453125 49.90625 45.40625 47.53125 \r\nQ 47.359375 45.171875 48.140625 41.546875 \r\nQ 48.578125 39.3125 48.578125 33.453125 \r\nL 48.578125 21.734375 \r\nQ 48.578125 9.46875 49.140625 6.21875 \r\nQ 49.703125 2.984375 51.375 0 \r\nL 42.1875 0 \r\nQ 40.828125 2.734375 40.4375 6.390625 \r\nz\r\nM 39.703125 26.03125 \r\nQ 34.90625 24.078125 25.34375 22.703125 \r\nQ 19.921875 21.921875 17.671875 20.9375 \r\nQ 15.4375 19.96875 14.203125 18.09375 \r\nQ 12.984375 16.21875 12.984375 13.921875 \r\nQ 12.984375 10.40625 15.640625 8.0625 \r\nQ 18.3125 5.71875 23.4375 5.71875 \r\nQ 28.515625 5.71875 32.46875 7.9375 \r\nQ 36.421875 10.15625 38.28125 14.015625 \r\nQ 39.703125 17 39.703125 22.796875 \r\nz\r\n\" id=\"ArialMT-97\"/>\r\n       <path d=\"M 6.59375 0 \r\nL 6.59375 51.859375 \r\nL 14.5 51.859375 \r\nL 14.5 44.484375 \r\nQ 20.21875 53.03125 31 53.03125 \r\nQ 35.6875 53.03125 39.625 51.34375 \r\nQ 43.5625 49.65625 45.515625 46.921875 \r\nQ 47.46875 44.1875 48.25 40.4375 \r\nQ 48.734375 37.984375 48.734375 31.890625 \r\nL 48.734375 0 \r\nL 39.9375 0 \r\nL 39.9375 31.546875 \r\nQ 39.9375 36.921875 38.90625 39.578125 \r\nQ 37.890625 42.234375 35.28125 43.8125 \r\nQ 32.671875 45.40625 29.15625 45.40625 \r\nQ 23.53125 45.40625 19.453125 41.84375 \r\nQ 15.375 38.28125 15.375 28.328125 \r\nL 15.375 0 \r\nz\r\n\" id=\"ArialMT-110\"/>\r\n       <path d=\"M 40.4375 19 \r\nL 49.078125 17.875 \r\nQ 47.65625 8.9375 41.8125 3.875 \r\nQ 35.984375 -1.171875 27.484375 -1.171875 \r\nQ 16.84375 -1.171875 10.375 5.78125 \r\nQ 3.90625 12.75 3.90625 25.734375 \r\nQ 3.90625 34.125 6.6875 40.421875 \r\nQ 9.46875 46.734375 15.15625 49.875 \r\nQ 20.84375 53.03125 27.546875 53.03125 \r\nQ 35.984375 53.03125 41.359375 48.75 \r\nQ 46.734375 44.484375 48.25 36.625 \r\nL 39.703125 35.296875 \r\nQ 38.484375 40.53125 35.375 43.15625 \r\nQ 32.28125 45.796875 27.875 45.796875 \r\nQ 21.234375 45.796875 17.078125 41.03125 \r\nQ 12.9375 36.28125 12.9375 25.984375 \r\nQ 12.9375 15.53125 16.9375 10.796875 \r\nQ 20.953125 6.0625 27.390625 6.0625 \r\nQ 32.5625 6.0625 36.03125 9.234375 \r\nQ 39.5 12.40625 40.4375 19 \r\nz\r\n\" id=\"ArialMT-99\"/>\r\n       <path d=\"M 42.09375 16.703125 \r\nL 51.171875 15.578125 \r\nQ 49.03125 7.625 43.21875 3.21875 \r\nQ 37.40625 -1.171875 28.375 -1.171875 \r\nQ 17 -1.171875 10.328125 5.828125 \r\nQ 3.65625 12.84375 3.65625 25.484375 \r\nQ 3.65625 38.578125 10.390625 45.796875 \r\nQ 17.140625 53.03125 27.875 53.03125 \r\nQ 38.28125 53.03125 44.875 45.953125 \r\nQ 51.46875 38.875 51.46875 26.03125 \r\nQ 51.46875 25.25 51.421875 23.6875 \r\nL 12.75 23.6875 \r\nQ 13.234375 15.140625 17.578125 10.59375 \r\nQ 21.921875 6.0625 28.421875 6.0625 \r\nQ 33.25 6.0625 36.671875 8.59375 \r\nQ 40.09375 11.140625 42.09375 16.703125 \r\nz\r\nM 13.234375 30.90625 \r\nL 42.1875 30.90625 \r\nQ 41.609375 37.453125 38.875 40.71875 \r\nQ 34.671875 45.796875 27.984375 45.796875 \r\nQ 21.921875 45.796875 17.796875 41.75 \r\nQ 13.671875 37.703125 13.234375 30.90625 \r\nz\r\n\" id=\"ArialMT-101\"/>\r\n      </defs>\r\n      <use xlink:href=\"#ArialMT-105\"/>\r\n      <use x=\"22.216797\" xlink:href=\"#ArialMT-109\"/>\r\n      <use x=\"105.517578\" xlink:href=\"#ArialMT-112\"/>\r\n      <use x=\"161.132812\" xlink:href=\"#ArialMT-111\"/>\r\n      <use x=\"216.748047\" xlink:href=\"#ArialMT-114\"/>\r\n      <use x=\"250.048828\" xlink:href=\"#ArialMT-116\"/>\r\n      <use x=\"277.832031\" xlink:href=\"#ArialMT-97\"/>\r\n      <use x=\"333.447266\" xlink:href=\"#ArialMT-110\"/>\r\n      <use x=\"389.0625\" xlink:href=\"#ArialMT-99\"/>\r\n      <use x=\"439.0625\" xlink:href=\"#ArialMT-101\"/>\r\n     </g>\r\n    </g>\r\n   </g>\r\n   <g id=\"matplotlib.axis_2\">\r\n    <g id=\"ytick_1\">\r\n     <g id=\"line2d_10\">\r\n      <path clip-path=\"url(#p99330c6ad9)\" d=\"M 43.908438 307.733125 \r\nL 342.238437 307.733125 \r\n\" style=\"fill:none;stroke:#ffffff;stroke-linecap:round;\"/>\r\n     </g>\r\n     <g id=\"text_11\">\r\n      <!-- 0 -->\r\n      <g style=\"fill:#262626;\" transform=\"translate(28.291406 311.669922)scale(0.11 -0.11)\">\r\n       <use xlink:href=\"#ArialMT-48\"/>\r\n      </g>\r\n     </g>\r\n    </g>\r\n    <g id=\"ytick_2\">\r\n     <g id=\"line2d_11\">\r\n      <path clip-path=\"url(#p99330c6ad9)\" d=\"M 43.908438 246.834822 \r\nL 342.238437 246.834822 \r\n\" style=\"fill:none;stroke:#ffffff;stroke-linecap:round;\"/>\r\n     </g>\r\n     <g id=\"text_12\">\r\n      <!-- 10 -->\r\n      <g style=\"fill:#262626;\" transform=\"translate(22.174375 250.771619)scale(0.11 -0.11)\">\r\n       <use xlink:href=\"#ArialMT-49\"/>\r\n       <use x=\"55.615234\" xlink:href=\"#ArialMT-48\"/>\r\n      </g>\r\n     </g>\r\n    </g>\r\n    <g id=\"ytick_3\">\r\n     <g id=\"line2d_12\">\r\n      <path clip-path=\"url(#p99330c6ad9)\" d=\"M 43.908438 185.936519 \r\nL 342.238437 185.936519 \r\n\" style=\"fill:none;stroke:#ffffff;stroke-linecap:round;\"/>\r\n     </g>\r\n     <g id=\"text_13\">\r\n      <!-- 20 -->\r\n      <g style=\"fill:#262626;\" transform=\"translate(22.174375 189.873316)scale(0.11 -0.11)\">\r\n       <use xlink:href=\"#ArialMT-50\"/>\r\n       <use x=\"55.615234\" xlink:href=\"#ArialMT-48\"/>\r\n      </g>\r\n     </g>\r\n    </g>\r\n    <g id=\"ytick_4\">\r\n     <g id=\"line2d_13\">\r\n      <path clip-path=\"url(#p99330c6ad9)\" d=\"M 43.908438 125.038216 \r\nL 342.238437 125.038216 \r\n\" style=\"fill:none;stroke:#ffffff;stroke-linecap:round;\"/>\r\n     </g>\r\n     <g id=\"text_14\">\r\n      <!-- 30 -->\r\n      <g style=\"fill:#262626;\" transform=\"translate(22.174375 128.975013)scale(0.11 -0.11)\">\r\n       <use xlink:href=\"#ArialMT-51\"/>\r\n       <use x=\"55.615234\" xlink:href=\"#ArialMT-48\"/>\r\n      </g>\r\n     </g>\r\n    </g>\r\n    <g id=\"ytick_5\">\r\n     <g id=\"line2d_14\">\r\n      <path clip-path=\"url(#p99330c6ad9)\" d=\"M 43.908438 64.139913 \r\nL 342.238437 64.139913 \r\n\" style=\"fill:none;stroke:#ffffff;stroke-linecap:round;\"/>\r\n     </g>\r\n     <g id=\"text_15\">\r\n      <!-- 40 -->\r\n      <g style=\"fill:#262626;\" transform=\"translate(22.174375 68.07671)scale(0.11 -0.11)\">\r\n       <use xlink:href=\"#ArialMT-52\"/>\r\n       <use x=\"55.615234\" xlink:href=\"#ArialMT-48\"/>\r\n      </g>\r\n     </g>\r\n    </g>\r\n    <g id=\"text_16\">\r\n     <!-- Count -->\r\n     <g style=\"fill:#262626;\" transform=\"translate(15.789375 173.47625)rotate(-90)scale(0.12 -0.12)\">\r\n      <defs>\r\n       <path d=\"M 58.796875 25.09375 \r\nL 68.265625 22.703125 \r\nQ 65.28125 11.03125 57.546875 4.90625 \r\nQ 49.8125 -1.21875 38.625 -1.21875 \r\nQ 27.046875 -1.21875 19.796875 3.484375 \r\nQ 12.546875 8.203125 8.765625 17.140625 \r\nQ 4.984375 26.078125 4.984375 36.328125 \r\nQ 4.984375 47.515625 9.25 55.828125 \r\nQ 13.53125 64.15625 21.40625 68.46875 \r\nQ 29.296875 72.796875 38.765625 72.796875 \r\nQ 49.515625 72.796875 56.828125 67.328125 \r\nQ 64.15625 61.859375 67.046875 51.953125 \r\nL 57.71875 49.75 \r\nQ 55.21875 57.5625 50.484375 61.125 \r\nQ 45.75 64.703125 38.578125 64.703125 \r\nQ 30.328125 64.703125 24.78125 60.734375 \r\nQ 19.234375 56.78125 16.984375 50.109375 \r\nQ 14.75 43.453125 14.75 36.375 \r\nQ 14.75 27.25 17.40625 20.4375 \r\nQ 20.0625 13.625 25.671875 10.25 \r\nQ 31.296875 6.890625 37.84375 6.890625 \r\nQ 45.796875 6.890625 51.3125 11.46875 \r\nQ 56.84375 16.0625 58.796875 25.09375 \r\nz\r\n\" id=\"ArialMT-67\"/>\r\n       <path d=\"M 40.578125 0 \r\nL 40.578125 7.625 \r\nQ 34.515625 -1.171875 24.125 -1.171875 \r\nQ 19.53125 -1.171875 15.546875 0.578125 \r\nQ 11.578125 2.34375 9.640625 5 \r\nQ 7.71875 7.671875 6.9375 11.53125 \r\nQ 6.390625 14.109375 6.390625 19.734375 \r\nL 6.390625 51.859375 \r\nL 15.1875 51.859375 \r\nL 15.1875 23.09375 \r\nQ 15.1875 16.21875 15.71875 13.8125 \r\nQ 16.546875 10.359375 19.234375 8.375 \r\nQ 21.921875 6.390625 25.875 6.390625 \r\nQ 29.828125 6.390625 33.296875 8.421875 \r\nQ 36.765625 10.453125 38.203125 13.9375 \r\nQ 39.65625 17.4375 39.65625 24.078125 \r\nL 39.65625 51.859375 \r\nL 48.4375 51.859375 \r\nL 48.4375 0 \r\nz\r\n\" id=\"ArialMT-117\"/>\r\n      </defs>\r\n      <use xlink:href=\"#ArialMT-67\"/>\r\n      <use x=\"72.216797\" xlink:href=\"#ArialMT-111\"/>\r\n      <use x=\"127.832031\" xlink:href=\"#ArialMT-117\"/>\r\n      <use x=\"183.447266\" xlink:href=\"#ArialMT-110\"/>\r\n      <use x=\"239.0625\" xlink:href=\"#ArialMT-116\"/>\r\n     </g>\r\n    </g>\r\n   </g>\r\n   <g id=\"patch_3\">\r\n    <path clip-path=\"url(#p99330c6ad9)\" d=\"M 57.468892 307.733125 \r\nL 71.029347 307.733125 \r\nL 71.029347 21.511101 \r\nL 57.468892 21.511101 \r\nz\r\n\" style=\"fill:#4c72b0;fill-opacity:0.5;stroke:#ffffff;stroke-linejoin:miter;\"/>\r\n   </g>\r\n   <g id=\"patch_4\">\r\n    <path clip-path=\"url(#p99330c6ad9)\" d=\"M 71.029347 307.733125 \r\nL 84.589801 307.733125 \r\nL 84.589801 210.29584 \r\nL 71.029347 210.29584 \r\nz\r\n\" style=\"fill:#4c72b0;fill-opacity:0.5;stroke:#ffffff;stroke-linejoin:miter;\"/>\r\n   </g>\r\n   <g id=\"patch_5\">\r\n    <path clip-path=\"url(#p99330c6ad9)\" d=\"M 84.589801 307.733125 \r\nL 98.150256 307.733125 \r\nL 98.150256 277.283974 \r\nL 84.589801 277.283974 \r\nz\r\n\" style=\"fill:#4c72b0;fill-opacity:0.5;stroke:#ffffff;stroke-linejoin:miter;\"/>\r\n   </g>\r\n   <g id=\"patch_6\">\r\n    <path clip-path=\"url(#p99330c6ad9)\" d=\"M 98.150256 307.733125 \r\nL 111.71071 307.733125 \r\nL 111.71071 307.733125 \r\nL 98.150256 307.733125 \r\nz\r\n\" style=\"fill:#4c72b0;fill-opacity:0.5;stroke:#ffffff;stroke-linejoin:miter;\"/>\r\n   </g>\r\n   <g id=\"patch_7\">\r\n    <path clip-path=\"url(#p99330c6ad9)\" d=\"M 111.71071 307.733125 \r\nL 125.271165 307.733125 \r\nL 125.271165 301.643295 \r\nL 111.71071 301.643295 \r\nz\r\n\" style=\"fill:#4c72b0;fill-opacity:0.5;stroke:#ffffff;stroke-linejoin:miter;\"/>\r\n   </g>\r\n   <g id=\"patch_8\">\r\n    <path clip-path=\"url(#p99330c6ad9)\" d=\"M 125.271165 307.733125 \r\nL 138.831619 307.733125 \r\nL 138.831619 283.373804 \r\nL 125.271165 283.373804 \r\nz\r\n\" style=\"fill:#4c72b0;fill-opacity:0.5;stroke:#ffffff;stroke-linejoin:miter;\"/>\r\n   </g>\r\n   <g id=\"patch_9\">\r\n    <path clip-path=\"url(#p99330c6ad9)\" d=\"M 138.831619 307.733125 \r\nL 152.392074 307.733125 \r\nL 152.392074 307.733125 \r\nL 138.831619 307.733125 \r\nz\r\n\" style=\"fill:#4c72b0;fill-opacity:0.5;stroke:#ffffff;stroke-linejoin:miter;\"/>\r\n   </g>\r\n   <g id=\"patch_10\">\r\n    <path clip-path=\"url(#p99330c6ad9)\" d=\"M 152.392074 307.733125 \r\nL 165.952528 307.733125 \r\nL 165.952528 259.014483 \r\nL 152.392074 259.014483 \r\nz\r\n\" style=\"fill:#4c72b0;fill-opacity:0.5;stroke:#ffffff;stroke-linejoin:miter;\"/>\r\n   </g>\r\n   <g id=\"patch_11\">\r\n    <path clip-path=\"url(#p99330c6ad9)\" d=\"M 165.952528 307.733125 \r\nL 179.512983 307.733125 \r\nL 179.512983 289.463634 \r\nL 165.952528 289.463634 \r\nz\r\n\" style=\"fill:#4c72b0;fill-opacity:0.5;stroke:#ffffff;stroke-linejoin:miter;\"/>\r\n   </g>\r\n   <g id=\"patch_12\">\r\n    <path clip-path=\"url(#p99330c6ad9)\" d=\"M 179.512983 307.733125 \r\nL 193.073437 307.733125 \r\nL 193.073437 289.463634 \r\nL 179.512983 289.463634 \r\nz\r\n\" style=\"fill:#4c72b0;fill-opacity:0.5;stroke:#ffffff;stroke-linejoin:miter;\"/>\r\n   </g>\r\n   <g id=\"patch_13\">\r\n    <path clip-path=\"url(#p99330c6ad9)\" d=\"M 193.073437 307.733125 \r\nL 206.633892 307.733125 \r\nL 206.633892 307.733125 \r\nL 193.073437 307.733125 \r\nz\r\n\" style=\"fill:#4c72b0;fill-opacity:0.5;stroke:#ffffff;stroke-linejoin:miter;\"/>\r\n   </g>\r\n   <g id=\"patch_14\">\r\n    <path clip-path=\"url(#p99330c6ad9)\" d=\"M 206.633892 307.733125 \r\nL 220.194347 307.733125 \r\nL 220.194347 301.643295 \r\nL 206.633892 301.643295 \r\nz\r\n\" style=\"fill:#4c72b0;fill-opacity:0.5;stroke:#ffffff;stroke-linejoin:miter;\"/>\r\n   </g>\r\n   <g id=\"patch_15\">\r\n    <path clip-path=\"url(#p99330c6ad9)\" d=\"M 220.194347 307.733125 \r\nL 233.754801 307.733125 \r\nL 233.754801 307.733125 \r\nL 220.194347 307.733125 \r\nz\r\n\" style=\"fill:#4c72b0;fill-opacity:0.5;stroke:#ffffff;stroke-linejoin:miter;\"/>\r\n   </g>\r\n   <g id=\"patch_16\">\r\n    <path clip-path=\"url(#p99330c6ad9)\" d=\"M 233.754801 307.733125 \r\nL 247.315256 307.733125 \r\nL 247.315256 301.643295 \r\nL 233.754801 301.643295 \r\nz\r\n\" style=\"fill:#4c72b0;fill-opacity:0.5;stroke:#ffffff;stroke-linejoin:miter;\"/>\r\n   </g>\r\n   <g id=\"patch_17\">\r\n    <path clip-path=\"url(#p99330c6ad9)\" d=\"M 247.315256 307.733125 \r\nL 260.87571 307.733125 \r\nL 260.87571 307.733125 \r\nL 247.315256 307.733125 \r\nz\r\n\" style=\"fill:#4c72b0;fill-opacity:0.5;stroke:#ffffff;stroke-linejoin:miter;\"/>\r\n   </g>\r\n   <g id=\"patch_18\">\r\n    <path clip-path=\"url(#p99330c6ad9)\" d=\"M 260.87571 307.733125 \r\nL 274.436165 307.733125 \r\nL 274.436165 307.733125 \r\nL 260.87571 307.733125 \r\nz\r\n\" style=\"fill:#4c72b0;fill-opacity:0.5;stroke:#ffffff;stroke-linejoin:miter;\"/>\r\n   </g>\r\n   <g id=\"patch_19\">\r\n    <path clip-path=\"url(#p99330c6ad9)\" d=\"M 274.436165 307.733125 \r\nL 287.996619 307.733125 \r\nL 287.996619 307.733125 \r\nL 274.436165 307.733125 \r\nz\r\n\" style=\"fill:#4c72b0;fill-opacity:0.5;stroke:#ffffff;stroke-linejoin:miter;\"/>\r\n   </g>\r\n   <g id=\"patch_20\">\r\n    <path clip-path=\"url(#p99330c6ad9)\" d=\"M 287.996619 307.733125 \r\nL 301.557074 307.733125 \r\nL 301.557074 307.733125 \r\nL 287.996619 307.733125 \r\nz\r\n\" style=\"fill:#4c72b0;fill-opacity:0.5;stroke:#ffffff;stroke-linejoin:miter;\"/>\r\n   </g>\r\n   <g id=\"patch_21\">\r\n    <path clip-path=\"url(#p99330c6ad9)\" d=\"M 301.557074 307.733125 \r\nL 315.117528 307.733125 \r\nL 315.117528 307.733125 \r\nL 301.557074 307.733125 \r\nz\r\n\" style=\"fill:#4c72b0;fill-opacity:0.5;stroke:#ffffff;stroke-linejoin:miter;\"/>\r\n   </g>\r\n   <g id=\"patch_22\">\r\n    <path clip-path=\"url(#p99330c6ad9)\" d=\"M 315.117528 307.733125 \r\nL 328.677983 307.733125 \r\nL 328.677983 301.643295 \r\nL 315.117528 301.643295 \r\nz\r\n\" style=\"fill:#4c72b0;fill-opacity:0.5;stroke:#ffffff;stroke-linejoin:miter;\"/>\r\n   </g>\r\n   <g id=\"line2d_15\">\r\n    <path clip-path=\"url(#p99330c6ad9)\" d=\"M 57.468892 216.528366 \r\nL 58.831752 214.168438 \r\nL 60.194612 212.115762 \r\nL 61.557471 210.391278 \r\nL 62.920331 209.01237 \r\nL 64.283191 207.992549 \r\nL 65.646051 207.341225 \r\nL 67.00891 207.063551 \r\nL 68.37177 207.160343 \r\nL 69.73463 207.628094 \r\nL 71.09749 208.459062 \r\nL 72.460349 209.641439 \r\nL 73.823209 211.159596 \r\nL 75.186069 212.994391 \r\nL 76.548929 215.123534 \r\nL 77.911788 217.522005 \r\nL 80.637508 223.015927 \r\nL 83.363227 229.239073 \r\nL 87.451807 239.393856 \r\nL 94.266105 256.526299 \r\nL 96.991825 262.865951 \r\nL 99.717544 268.68888 \r\nL 102.443264 273.899754 \r\nL 105.168983 278.441177 \r\nL 107.894703 282.290068 \r\nL 110.620422 285.452567 \r\nL 111.983282 286.784891 \r\nL 113.346142 287.958166 \r\nL 114.709002 288.978732 \r\nL 116.071861 289.853642 \r\nL 117.434721 290.590503 \r\nL 118.797581 291.197321 \r\nL 121.5233 292.054045 \r\nL 124.24902 292.491074 \r\nL 126.974739 292.575042 \r\nL 129.700459 292.369957 \r\nL 132.426178 291.936129 \r\nL 136.514758 290.978554 \r\nL 141.966197 289.395511 \r\nL 148.780496 287.435658 \r\nL 152.869075 286.509755 \r\nL 155.594794 286.0665 \r\nL 158.320514 285.792471 \r\nL 161.046233 285.705798 \r\nL 163.771953 285.816839 \r\nL 166.497672 286.127669 \r\nL 169.223392 286.632078 \r\nL 171.949111 287.316115 \r\nL 176.037691 288.632408 \r\nL 180.12627 290.215656 \r\nL 186.940569 293.169748 \r\nL 195.117727 296.695759 \r\nL 200.569166 298.777124 \r\nL 204.657745 300.131062 \r\nL 208.746325 301.291723 \r\nL 212.834904 302.260579 \r\nL 218.286343 303.276465 \r\nL 223.737782 304.023977 \r\nL 230.552081 304.679923 \r\nL 240.092099 305.315751 \r\nL 272.800733 307.127282 \r\nL 282.340751 307.354906 \r\nL 290.51791 307.34054 \r\nL 300.057928 307.09324 \r\nL 327.315123 306.132069 \r\nL 328.677983 306.128619 \r\nL 328.677983 306.128619 \r\n\" style=\"fill:none;stroke:#4c72b0;stroke-linecap:round;stroke-width:1.5;\"/>\r\n   </g>\r\n   <g id=\"patch_23\">\r\n    <path d=\"M 43.908438 307.733125 \r\nL 43.908438 7.2 \r\n\" style=\"fill:none;stroke:#ffffff;stroke-linecap:square;stroke-linejoin:miter;stroke-width:1.25;\"/>\r\n   </g>\r\n   <g id=\"patch_24\">\r\n    <path d=\"M 43.908438 307.733125 \r\nL 342.238437 307.733125 \r\n\" style=\"fill:none;stroke:#ffffff;stroke-linecap:square;stroke-linejoin:miter;stroke-width:1.25;\"/>\r\n   </g>\r\n  </g>\r\n </g>\r\n <defs>\r\n  <clipPath id=\"p99330c6ad9\">\r\n   <rect height=\"300.533125\" width=\"298.33\" x=\"43.908438\" y=\"7.2\"/>\r\n  </clipPath>\r\n </defs>\r\n</svg>\r\n",
      "image/png": "[encoded data removed]"
     },
     "metadata": {}
    }
   ],
   "source": [
    "sns.displot(data=importDf,x='importance',kde=True) # this indicates that most of the variables are not that predictive "
   ]
  },
  {
   "source": [
    "The graph above of the 'importance' data generated using reducing of random forests entropy indicates that there are many variables that are not very predictive. Note, all the variables included in this final analysis were shown to be stat sig but that does not necessarily denote that the particular variable will be extremely predictive. "
   ],
   "cell_type": "markdown",
   "metadata": {}
  },
  {
   "cell_type": "code",
   "execution_count": 45,
   "metadata": {},
   "outputs": [
    {
     "output_type": "execute_result",
     "data": {
      "text/plain": [
       "          importance\n",
       "variable            \n",
       "var_0       0.079477\n",
       "var_103     0.054480\n",
       "var_1       0.045453\n",
       "var_100     0.038783\n",
       "var_101     0.038727\n",
       "var_102     0.038260\n",
       "var_2       0.033717\n",
       "var_70      0.032434\n",
       "var_85      0.032269\n",
       "var_74      0.032122"
      ],
      "text/html": "<div>\n<style scoped>\n    .dataframe tbody tr th:only-of-type {\n        vertical-align: middle;\n    }\n\n    .dataframe tbody tr th {\n        vertical-align: top;\n    }\n\n    .dataframe thead th {\n        text-align: right;\n    }\n</style>\n<table border=\"1\" class=\"dataframe\">\n  <thead>\n    <tr style=\"text-align: right;\">\n      <th></th>\n      <th>importance</th>\n    </tr>\n    <tr>\n      <th>variable</th>\n      <th></th>\n    </tr>\n  </thead>\n  <tbody>\n    <tr>\n      <th>var_0</th>\n      <td>0.079477</td>\n    </tr>\n    <tr>\n      <th>var_103</th>\n      <td>0.054480</td>\n    </tr>\n    <tr>\n      <th>var_1</th>\n      <td>0.045453</td>\n    </tr>\n    <tr>\n      <th>var_100</th>\n      <td>0.038783</td>\n    </tr>\n    <tr>\n      <th>var_101</th>\n      <td>0.038727</td>\n    </tr>\n    <tr>\n      <th>var_102</th>\n      <td>0.038260</td>\n    </tr>\n    <tr>\n      <th>var_2</th>\n      <td>0.033717</td>\n    </tr>\n    <tr>\n      <th>var_70</th>\n      <td>0.032434</td>\n    </tr>\n    <tr>\n      <th>var_85</th>\n      <td>0.032269</td>\n    </tr>\n    <tr>\n      <th>var_74</th>\n      <td>0.032122</td>\n    </tr>\n  </tbody>\n</table>\n</div>"
     },
     "metadata": {},
     "execution_count": 45
    }
   ],
   "source": [
    "importDf.nlargest(10,'importance') # 10 highest scoring variables"
   ]
  },
  {
   "source": [
    "The dataframe above shows the 10 largest variables based on importance. Most of the values in the dataset as a whole were from 0 to 0.06 as demonstrated by the graph. For the purpose of keeping some of the original variables, the top ten importance variables will be used in the final model. "
   ],
   "cell_type": "markdown",
   "metadata": {}
  },
  {
   "cell_type": "code",
   "execution_count": 46,
   "metadata": {},
   "outputs": [],
   "source": [
    "finalVar = importDf.nlargest(10,'importance').index.tolist() # pulls 10 highest scoring variables \n",
    "\n",
    "# training data \n",
    "xTrain = trainingData[finalVar].values \n",
    "yTrain = trainingData['targetLabels'].values\n",
    "\n",
    "# testing data \n",
    "xTest = testingData[finalVar].values\n",
    "yTest = testingData['targetLabels'].values"
   ]
  },
  {
   "cell_type": "code",
   "execution_count": 47,
   "metadata": {},
   "outputs": [
    {
     "output_type": "stream",
     "name": "stdout",
     "text": [
      "              precision    recall  f1-score   support\n\n           0       0.77      0.80      0.78      4344\n           1       0.55      0.50      0.53      2100\n\n    accuracy                           0.70      6444\n   macro avg       0.66      0.65      0.66      6444\nweighted avg       0.70      0.70      0.70      6444\n\n"
     ]
    }
   ],
   "source": [
    "from sklearn.ensemble import GradientBoostingClassifier\n",
    "from sklearn.metrics import classification_report\n",
    "\n",
    "clf = GradientBoostingClassifier() # gradient boosting classifier model\n",
    "clf.fit(xTrain,yTrain) # train model\n",
    "predictions = clf.predict(xTest)\n",
    "print(classification_report(yTest,predictions))"
   ]
  },
  {
   "source": [
    "This shows 70% accuracy using these features and this model. Below is a different gradient boosted module. "
   ],
   "cell_type": "markdown",
   "metadata": {}
  },
  {
   "cell_type": "code",
   "execution_count": 48,
   "metadata": {},
   "outputs": [
    {
     "output_type": "stream",
     "name": "stdout",
     "text": [
      "              precision    recall  f1-score   support\n\n           0       0.71      0.89      0.79      4344\n           1       0.50      0.24      0.32      2100\n\n    accuracy                           0.68      6444\n   macro avg       0.61      0.56      0.56      6444\nweighted avg       0.64      0.68      0.64      6444\n\n"
     ]
    }
   ],
   "source": [
    "from sklearn.linear_model import LogisticRegression\n",
    "\n",
    "clf = LogisticRegression().fit(xTrain,yTrain)\n",
    "predictions = clf.predict(xTest)\n",
    "\n",
    "print(classification_report(yTest,predictions))"
   ]
  },
  {
   "source": [
    "The logistic regression model produced accuracy of 0.68 percent. "
   ],
   "cell_type": "markdown",
   "metadata": {}
  },
  {
   "cell_type": "code",
   "execution_count": 49,
   "metadata": {},
   "outputs": [
    {
     "output_type": "stream",
     "name": "stdout",
     "text": [
      "              precision    recall  f1-score   support\n\n           0       0.73      0.73      0.73      4344\n           1       0.45      0.45      0.45      2100\n\n    accuracy                           0.64      6444\n   macro avg       0.59      0.59      0.59      6444\nweighted avg       0.64      0.64      0.64      6444\n\n"
     ]
    }
   ],
   "source": [
    "from sklearn.neighbors import KNeighborsClassifier\n",
    "\n",
    "neighbors = KNeighborsClassifier()\n",
    "neighbors.fit(xTrain,yTrain)\n",
    "predictions = neighbors.predict(xTest)\n",
    "\n",
    "print(classification_report(yTest,predictions))"
   ]
  },
  {
   "source": [
    "Nearest neighbors generated accuracy of 0.64. "
   ],
   "cell_type": "markdown",
   "metadata": {}
  },
  {
   "cell_type": "code",
   "execution_count": 50,
   "metadata": {},
   "outputs": [
    {
     "output_type": "stream",
     "name": "stdout",
     "text": [
      "              precision    recall  f1-score   support\n\n           0       0.76      0.81      0.78      4344\n           1       0.54      0.46      0.50      2100\n\n    accuracy                           0.70      6444\n   macro avg       0.65      0.64      0.64      6444\nweighted avg       0.69      0.70      0.69      6444\n\n"
     ]
    }
   ],
   "source": [
    "from sklearn.ensemble import RandomForestClassifier\n",
    "clf = RandomForestClassifier(random_state=0)\n",
    "clf.fit(xTrain,yTrain)\n",
    "predictions = clf.predict(xTest)\n",
    "\n",
    "print(classification_report(yTest,predictions)) # this is basically the same as the gradient boosted algo"
   ]
  },
  {
   "source": [
    "Random Forest showed no improvement over the gradient boosting algo. "
   ],
   "cell_type": "markdown",
   "metadata": {}
  },
  {
   "source": [
    "Changing the features that are present. Both increasing and decreasing while using the Gradient Boosted algo.  "
   ],
   "cell_type": "markdown",
   "metadata": {}
  },
  {
   "cell_type": "code",
   "execution_count": 51,
   "metadata": {},
   "outputs": [],
   "source": [
    "finalVar = importDf.nlargest(5,'importance').index.tolist() # pulls 5 highest scoring variables \n",
    "\n",
    "# training data \n",
    "xTrain = trainingData[finalVar].values \n",
    "yTrain = trainingData['targetLabels'].values\n",
    "\n",
    "# testing data \n",
    "xTest = testingData[finalVar].values\n",
    "yTest = testingData['targetLabels'].values"
   ]
  },
  {
   "cell_type": "code",
   "execution_count": 52,
   "metadata": {},
   "outputs": [
    {
     "output_type": "stream",
     "name": "stdout",
     "text": [
      "              precision    recall  f1-score   support\n\n           0       0.76      0.80      0.78      4344\n           1       0.54      0.47      0.50      2100\n\n    accuracy                           0.70      6444\n   macro avg       0.65      0.64      0.64      6444\nweighted avg       0.69      0.70      0.69      6444\n\n"
     ]
    }
   ],
   "source": [
    "clf = GradientBoostingClassifier() # 5 variables\n",
    "clf.fit(xTrain,yTrain)\n",
    "predictions = clf.predict(xTest)\n",
    "\n",
    "print(classification_report(yTest,predictions)) # this is the same as easlier just shows the full classification report output"
   ]
  },
  {
   "cell_type": "code",
   "execution_count": 53,
   "metadata": {},
   "outputs": [],
   "source": [
    "finalVar = importDf.nlargest(15,'importance').index.tolist() # pulls 15 highest scoring variables \n",
    "\n",
    "# training data \n",
    "xTrain = trainingData[finalVar].values \n",
    "yTrain = trainingData['targetLabels'].values\n",
    "\n",
    "# testing data \n",
    "xTest = testingData[finalVar].values\n",
    "yTest = testingData['targetLabels'].values"
   ]
  },
  {
   "cell_type": "code",
   "execution_count": 54,
   "metadata": {},
   "outputs": [
    {
     "output_type": "stream",
     "name": "stdout",
     "text": [
      "              precision    recall  f1-score   support\n\n           0       0.77      0.81      0.79      4344\n           1       0.56      0.50      0.53      2100\n\n    accuracy                           0.71      6444\n   macro avg       0.67      0.66      0.66      6444\nweighted avg       0.70      0.71      0.71      6444\n\n"
     ]
    }
   ],
   "source": [
    "clf = GradientBoostingClassifier() # 15 variables\n",
    "clf.fit(xTrain,yTrain)\n",
    "predictions = clf.predict(xTest)\n",
    "\n",
    "print(classification_report(yTest,predictions)) # this is the same as easlier just shows the full classification report output"
   ]
  },
  {
   "source": [
    "Increasing the variables present in the dataset increases the accuracy slightly. From 0.70 to 0.71. "
   ],
   "cell_type": "markdown",
   "metadata": {}
  },
  {
   "cell_type": "code",
   "execution_count": 55,
   "metadata": {},
   "outputs": [],
   "source": [
    "finalVar = importDf.nlargest(20,'importance').index.tolist() # pulls 20 highest scoring variables \n",
    "\n",
    "# training data \n",
    "xTrain = trainingData[finalVar].values \n",
    "yTrain = trainingData['targetLabels'].values\n",
    "\n",
    "# testing data \n",
    "xTest = testingData[finalVar].values\n",
    "yTest = testingData['targetLabels'].values"
   ]
  },
  {
   "cell_type": "code",
   "execution_count": 56,
   "metadata": {},
   "outputs": [
    {
     "output_type": "stream",
     "name": "stdout",
     "text": [
      "              precision    recall  f1-score   support\n\n           0       0.77      0.81      0.79      4344\n           1       0.56      0.50      0.53      2100\n\n    accuracy                           0.71      6444\n   macro avg       0.67      0.66      0.66      6444\nweighted avg       0.70      0.71      0.71      6444\n\n"
     ]
    }
   ],
   "source": [
    "clf = GradientBoostingClassifier() # with 20 variables\n",
    "clf.fit(xTrain,yTrain)\n",
    "predictions = clf.predict(xTest)\n",
    "\n",
    "print(classification_report(yTest,predictions)) # this is the same as easlier just shows the full classification report output"
   ]
  },
  {
   "source": [
    "No improvement when variables increased from 15 to 20. "
   ],
   "cell_type": "markdown",
   "metadata": {}
  },
  {
   "source": [
    "The gradient boosting model above was computed at 15,20,25,30 of the highest scoring variables in the random forest significance dataframe. There was no change in accuracy, it remained at 0.71."
   ],
   "cell_type": "markdown",
   "metadata": {}
  },
  {
   "cell_type": "code",
   "execution_count": 62,
   "metadata": {},
   "outputs": [],
   "source": [
    "finalVar = importDf.nlargest(15,'importance').index.tolist() # pulls 15 highest scoring variables \n",
    "\n",
    "# training data \n",
    "xTrain = trainingData[finalVar].values \n",
    "yTrain = trainingData['targetLabels'].values\n",
    "\n",
    "# testing data \n",
    "xTest = testingData[finalVar].values\n",
    "yTest = testingData['targetLabels'].values"
   ]
  },
  {
   "cell_type": "code",
   "execution_count": 63,
   "metadata": {},
   "outputs": [
    {
     "output_type": "stream",
     "name": "stdout",
     "text": [
      "              precision    recall  f1-score   support\n\n           0       0.78      0.80      0.79      4344\n           1       0.56      0.53      0.55      2100\n\n    accuracy                           0.71      6444\n   macro avg       0.67      0.67      0.67      6444\nweighted avg       0.71      0.71      0.71      6444\n\n"
     ]
    }
   ],
   "source": [
    "clf = GradientBoostingClassifier(learning_rate=0.1,max_depth=3,n_estimators=250) # with 15 variables\n",
    "clf.fit(xTrain,yTrain)\n",
    "predictions = clf.predict(xTest)\n",
    "\n",
    "print(classification_report(yTest,predictions)) # this is the same as easlier just shows the full classification report output"
   ]
  },
  {
   "source": [
    "The above parameters were pulled from GridSearchCV() performed in Google Colab; they produced the most accuracy for the training data. There is no change in total accuracy of the model.  "
   ],
   "cell_type": "markdown",
   "metadata": {}
  }
 ]
}