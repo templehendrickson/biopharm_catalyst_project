{
 "metadata": {
  "language_info": {
   "codemirror_mode": {
    "name": "ipython",
    "version": 3
   },
   "file_extension": ".py",
   "mimetype": "text/x-python",
   "name": "python",
   "nbconvert_exporter": "python",
   "pygments_lexer": "ipython3",
   "version": "3.8.6-final"
  },
  "orig_nbformat": 2,
  "kernelspec": {
   "name": "python3",
   "display_name": "Python 3.8.6 64-bit",
   "metadata": {
    "interpreter": {
     "hash": "e65983785f1fb2631d67884c72146fe136a623d0988a18eccea11e576a4c8fa7"
    }
   }
  }
 },
 "nbformat": 4,
 "nbformat_minor": 2,
 "cells": [
  {
   "source": [
    "# Twitter Cashtags as a Predictive Metric for Catalyst Volatility "
   ],
   "cell_type": "markdown",
   "metadata": {}
  },
  {
   "cell_type": "code",
   "execution_count": 1,
   "metadata": {},
   "outputs": [],
   "source": [
    "import pandas as pd\n",
    "import numpy as np\n",
    "from yahoofinancials import YahooFinancials as yf\n",
    "import requests\n",
    "from bs4 import BeautifulSoup\n",
    "from datetime import datetime, date, timedelta\n",
    "import requests"
   ]
  },
  {
   "source": [
    "## Introduction\n",
    "\n",
    "The goal of this analysis was to see if there was a difference in occurence of twitter cashtags (ex: $AAPL) before catalyst events that were volatile or non-volatile. Much of this is based on top of Tweepy which is a python wrapper for the twitter API. I gained developer access to the Twitter API on an academic basis. A dummy twitter account was created for this developer access, set to private, and followed a curated list of people involved in biotech on Twitter. The following of the twitter account were then analyzed to find the usernames of those that tweeted cashtags most often. Only users who ranked in the top 20 of most tweeted cashtags in the last 2 days were included in the final user set; this was done to not waste API calls on usernames that didn't tweet cashtags that often. It was necessary to limit the size of the dataset because the twitter API has a limit to the number of calls per 15 minutes. Once frequent cashtag tweeters were identified, the datetime of the tweet and associated cashtags were collected. It is important to note the code actually looks at the timeline of the user so cashtags from tweets that they liked or retweeded are also included. This was 13,399 tweets over the last 30 days; only the last 30 days were evaluated because of the twitter API limits. The cashtags were combined in a dict with the keys being datetime and the values of the dict being a list of the cashtags from that date. Occurence of tickers in the catalyst dataset (period_df) were then counted. Note, the date of each catalyst event was also pulled and occurence was only counted for days before the catalyst event. The sum occurence of tickers were then compared for events that were classified as volatile (positive or negative) or non-volatile. A slight increase in ticker occurence was found to be associated with volatile events, it is not a big enough difference to be significant but is still interesting. \n",
    "\n",
    "The catalyst dataset was webscraped from biopharmcatalyst.com. The dates were converted to datetime, price data generated for a unique list of the tickers in the dataset, and each event outcome classifed based on the total return 2 days after the event. Only some events were included, there was a focus on recent events so only events in the list 60 days were included. Some of the most recent events were also eliminated because the event outcome classifier needs 2 days between the event date and the last day in the price data. Events were classified into either positive, negative, or na (not applicable) based on price action after the event. Another classifier was added called Volatile which just measured whether the event outcome was volatile, either positive or negative, (value of 1) or not volatile (value of 0). Only twitter data going back 30 days was generated so some of the events in the dataset were not analyzed. \n",
    "\n",
    "Future projects could involve sentiment analysis of the actual tweets using NLP. This would allow for sentiment to be determined over time for varius cashtags. This was not done in this analysis because I was focused on the ability to predict volatility not direction. It is possible to have tweepy call the maximum number of twitter API calls and then pause for 15 minutes so the limit resets and continue. This was not done in this analysis because I wanted to focus on a small, exploratory dataset and not get carried away with functions that take hours to run once. "
   ],
   "cell_type": "markdown",
   "metadata": {}
  },
  {
   "source": [
    "## Generation of catalyst dataset to evaluate effects of CashTags"
   ],
   "cell_type": "markdown",
   "metadata": {}
  },
  {
   "cell_type": "code",
   "execution_count": 2,
   "metadata": {},
   "outputs": [],
   "source": [
    "URL = \"https://www.biopharmcatalyst.com/calendars/historical-catalyst-calendar\" #the url for the website with the historical catalyst dataset\n",
    "page = requests.get(URL)\n",
    "soup = BeautifulSoup(page.content,'html.parser')\n",
    "results = soup.find(id='historical-catalysts')\n",
    "\n",
    "tickers = results.find_all('a', class_='ticker')\n",
    "drug = results.find_all('strong', class_='drug')\n",
    "indication = results.find_all('div', class_='indication')\n",
    "date_list_og = results.find_all('time', class_='catalyst-date')\n",
    "note = results.find_all('div', class_='catalyst-note')\n",
    "status = results.find_all('td', class_='stage')\n",
    "\n",
    "def strip_text(alist): #strips the text from a list, meant to be used for cleaning raw web scraping output\n",
    "    res = [a.text.strip() for a in alist]\n",
    "    return res\n",
    "\n",
    "tickers_raw = strip_text(tickers)\n",
    "drug_raw = strip_text(drug)\n",
    "indication_raw =strip_text(indication)\n",
    "date_raw = strip_text(date_list_og)\n",
    "note_raw = strip_text(note)\n",
    "status_raw = strip_text(status)\n",
    "#strips the text from each raw web scraping output\n",
    "\n",
    "datetime_format = [datetime.strptime(x,'%m/%d/%Y') for x in date_raw] #reformats the dates pulled into datetime\n",
    "status_raw = [x.replace(' ','') for x in status_raw] #edits the status list to have no spaces\n",
    "\n",
    "#creates dataframe of the reformated web scraping output\n",
    "raw_df = pd.DataFrame({'Ticker':tickers_raw,'Drug':drug_raw,'Indication':indication_raw,'Date':datetime_format,'Status':status_raw})"
   ]
  },
  {
   "cell_type": "code",
   "execution_count": 3,
   "metadata": {},
   "outputs": [
    {
     "output_type": "execute_result",
     "data": {
      "text/plain": [
       "Ticker                object\n",
       "Drug                  object\n",
       "Indication            object\n",
       "Date          datetime64[ns]\n",
       "Status                object\n",
       "dtype: object"
      ]
     },
     "metadata": {},
     "execution_count": 3
    }
   ],
   "source": [
    "raw_df.dtypes"
   ]
  },
  {
   "cell_type": "code",
   "execution_count": 4,
   "metadata": {},
   "outputs": [],
   "source": [
    "currDate = datetime(2020,12,2)\n",
    "periodMin = currDate - timedelta(days=60)\n",
    "periodMax = currDate - timedelta(days=3) # to adjust for event outcome classification calculation\n",
    "\n",
    "period_df = raw_df.loc[(raw_df['Date']>=periodMin) & (raw_df['Date']<=periodMax)]"
   ]
  },
  {
   "cell_type": "code",
   "execution_count": 5,
   "metadata": {},
   "outputs": [
    {
     "output_type": "execute_result",
     "data": {
      "text/plain": [
       "     Ticker                Drug  \\\n",
       "2475   MGTX            AAV-RPGR   \n",
       "2476   YMAB          Omburtamab   \n",
       "2477   MGEN  Cobomarsen - SOLAR   \n",
       "2478   AMGN             AMG 510   \n",
       "2479   KNSA        Mavrilimumab   \n",
       "...     ...                 ...   \n",
       "2600   UROV            Vibegron   \n",
       "2601   LQDA              LIQ861   \n",
       "2602   RVNC       DAXI  (RT002)   \n",
       "2603   YMAB           Naxitamab   \n",
       "2604   RYTM       Setmelanotide   \n",
       "\n",
       "                                             Indication       Date     Status  \n",
       "2475                      X-Linked Retinitis Pigmentosa 2020-10-03   Phase1/2  \n",
       "2476   CNS/Leptomeningeal Metastases from Neuroblastoma 2020-10-05  BLAFiling  \n",
       "2477                          Cutaneous T-Cell Lymphoma 2020-10-05     Phase2  \n",
       "2478                 Non-small cell lung cancer (NSCLC) 2020-10-05     Phase2  \n",
       "2479                         Giant cell arteritis (GCA) 2020-10-06     Phase2  \n",
       "...                                                 ...        ...        ...  \n",
       "2600                     Irritable bowel syndrome (IBS) 2020-11-24    Phase2a  \n",
       "2601                    Pulmonary arterial hypertension 2020-11-25        CRL  \n",
       "2602         Moderate to severe glabellar (frown) lines 2020-11-25      PDUFA  \n",
       "2603                                      Neuroblastoma 2020-11-25   Approved  \n",
       "2604  POMC deficiency obesity / Leptin Receptor Defi... 2020-11-27   Approved  \n",
       "\n",
       "[130 rows x 5 columns]"
      ],
      "text/html": "<div>\n<style scoped>\n    .dataframe tbody tr th:only-of-type {\n        vertical-align: middle;\n    }\n\n    .dataframe tbody tr th {\n        vertical-align: top;\n    }\n\n    .dataframe thead th {\n        text-align: right;\n    }\n</style>\n<table border=\"1\" class=\"dataframe\">\n  <thead>\n    <tr style=\"text-align: right;\">\n      <th></th>\n      <th>Ticker</th>\n      <th>Drug</th>\n      <th>Indication</th>\n      <th>Date</th>\n      <th>Status</th>\n    </tr>\n  </thead>\n  <tbody>\n    <tr>\n      <th>2475</th>\n      <td>MGTX</td>\n      <td>AAV-RPGR</td>\n      <td>X-Linked Retinitis Pigmentosa</td>\n      <td>2020-10-03</td>\n      <td>Phase1/2</td>\n    </tr>\n    <tr>\n      <th>2476</th>\n      <td>YMAB</td>\n      <td>Omburtamab</td>\n      <td>CNS/Leptomeningeal Metastases from Neuroblastoma</td>\n      <td>2020-10-05</td>\n      <td>BLAFiling</td>\n    </tr>\n    <tr>\n      <th>2477</th>\n      <td>MGEN</td>\n      <td>Cobomarsen - SOLAR</td>\n      <td>Cutaneous T-Cell Lymphoma</td>\n      <td>2020-10-05</td>\n      <td>Phase2</td>\n    </tr>\n    <tr>\n      <th>2478</th>\n      <td>AMGN</td>\n      <td>AMG 510</td>\n      <td>Non-small cell lung cancer (NSCLC)</td>\n      <td>2020-10-05</td>\n      <td>Phase2</td>\n    </tr>\n    <tr>\n      <th>2479</th>\n      <td>KNSA</td>\n      <td>Mavrilimumab</td>\n      <td>Giant cell arteritis (GCA)</td>\n      <td>2020-10-06</td>\n      <td>Phase2</td>\n    </tr>\n    <tr>\n      <th>...</th>\n      <td>...</td>\n      <td>...</td>\n      <td>...</td>\n      <td>...</td>\n      <td>...</td>\n    </tr>\n    <tr>\n      <th>2600</th>\n      <td>UROV</td>\n      <td>Vibegron</td>\n      <td>Irritable bowel syndrome (IBS)</td>\n      <td>2020-11-24</td>\n      <td>Phase2a</td>\n    </tr>\n    <tr>\n      <th>2601</th>\n      <td>LQDA</td>\n      <td>LIQ861</td>\n      <td>Pulmonary arterial hypertension</td>\n      <td>2020-11-25</td>\n      <td>CRL</td>\n    </tr>\n    <tr>\n      <th>2602</th>\n      <td>RVNC</td>\n      <td>DAXI  (RT002)</td>\n      <td>Moderate to severe glabellar (frown) lines</td>\n      <td>2020-11-25</td>\n      <td>PDUFA</td>\n    </tr>\n    <tr>\n      <th>2603</th>\n      <td>YMAB</td>\n      <td>Naxitamab</td>\n      <td>Neuroblastoma</td>\n      <td>2020-11-25</td>\n      <td>Approved</td>\n    </tr>\n    <tr>\n      <th>2604</th>\n      <td>RYTM</td>\n      <td>Setmelanotide</td>\n      <td>POMC deficiency obesity / Leptin Receptor Defi...</td>\n      <td>2020-11-27</td>\n      <td>Approved</td>\n    </tr>\n  </tbody>\n</table>\n<p>130 rows × 5 columns</p>\n</div>"
     },
     "metadata": {},
     "execution_count": 5
    }
   ],
   "source": [
    "period_df # this df is events that happened in the last 60 days"
   ]
  },
  {
   "cell_type": "code",
   "execution_count": 6,
   "metadata": {},
   "outputs": [
    {
     "output_type": "execute_result",
     "data": {
      "text/plain": [
       "             MGTX   YMAB   MGEN    AMGN   KNSA  SIOX  CANF  CRBP    BMY  \\\n",
       "2020-09-01  12.36  40.71  13.05  249.17  16.60   NaN  2.03  8.91  60.51   \n",
       "2020-09-02  12.73  40.82  14.11  256.38  16.53   NaN  1.92  9.38  61.14   \n",
       "2020-09-03  12.59  38.37  13.65  246.24  15.71   NaN  1.80  9.38  59.60   \n",
       "2020-09-04  12.64  38.46  13.50  246.72  15.37   NaN  1.61  9.25  59.50   \n",
       "2020-09-08  13.02  40.65  13.50  239.55  15.56   NaN  1.70  2.23  58.09   \n",
       "\n",
       "               LLY  ...   INCY  KZIA   ARQT   BLPH   VTRS    ALNY  UROV  LQDA  \\\n",
       "2020-09-01  146.55  ...  92.97  8.01  24.80  10.37  15.50  130.41  8.76  4.78   \n",
       "2020-09-02  148.79  ...  95.44  8.09  25.39  10.12  15.71  130.66  8.79  4.46   \n",
       "2020-09-03  148.26  ...  91.57  7.34  24.80   9.92  15.46  125.19  8.84  4.39   \n",
       "2020-09-04  150.14  ...  90.49  7.35  24.40   9.46  15.81  122.83  8.85  4.34   \n",
       "2020-09-08  148.55  ...  89.73  7.00  24.19   9.27  15.64  122.99  9.05  4.45   \n",
       "\n",
       "             RYTM  Day  \n",
       "2020-09-01  28.77    0  \n",
       "2020-09-02  29.83    1  \n",
       "2020-09-03  29.30    2  \n",
       "2020-09-04  29.88    3  \n",
       "2020-09-08  29.40    4  \n",
       "\n",
       "[5 rows x 100 columns]"
      ],
      "text/html": "<div>\n<style scoped>\n    .dataframe tbody tr th:only-of-type {\n        vertical-align: middle;\n    }\n\n    .dataframe tbody tr th {\n        vertical-align: top;\n    }\n\n    .dataframe thead th {\n        text-align: right;\n    }\n</style>\n<table border=\"1\" class=\"dataframe\">\n  <thead>\n    <tr style=\"text-align: right;\">\n      <th></th>\n      <th>MGTX</th>\n      <th>YMAB</th>\n      <th>MGEN</th>\n      <th>AMGN</th>\n      <th>KNSA</th>\n      <th>SIOX</th>\n      <th>CANF</th>\n      <th>CRBP</th>\n      <th>BMY</th>\n      <th>LLY</th>\n      <th>...</th>\n      <th>INCY</th>\n      <th>KZIA</th>\n      <th>ARQT</th>\n      <th>BLPH</th>\n      <th>VTRS</th>\n      <th>ALNY</th>\n      <th>UROV</th>\n      <th>LQDA</th>\n      <th>RYTM</th>\n      <th>Day</th>\n    </tr>\n  </thead>\n  <tbody>\n    <tr>\n      <th>2020-09-01</th>\n      <td>12.36</td>\n      <td>40.71</td>\n      <td>13.05</td>\n      <td>249.17</td>\n      <td>16.60</td>\n      <td>NaN</td>\n      <td>2.03</td>\n      <td>8.91</td>\n      <td>60.51</td>\n      <td>146.55</td>\n      <td>...</td>\n      <td>92.97</td>\n      <td>8.01</td>\n      <td>24.80</td>\n      <td>10.37</td>\n      <td>15.50</td>\n      <td>130.41</td>\n      <td>8.76</td>\n      <td>4.78</td>\n      <td>28.77</td>\n      <td>0</td>\n    </tr>\n    <tr>\n      <th>2020-09-02</th>\n      <td>12.73</td>\n      <td>40.82</td>\n      <td>14.11</td>\n      <td>256.38</td>\n      <td>16.53</td>\n      <td>NaN</td>\n      <td>1.92</td>\n      <td>9.38</td>\n      <td>61.14</td>\n      <td>148.79</td>\n      <td>...</td>\n      <td>95.44</td>\n      <td>8.09</td>\n      <td>25.39</td>\n      <td>10.12</td>\n      <td>15.71</td>\n      <td>130.66</td>\n      <td>8.79</td>\n      <td>4.46</td>\n      <td>29.83</td>\n      <td>1</td>\n    </tr>\n    <tr>\n      <th>2020-09-03</th>\n      <td>12.59</td>\n      <td>38.37</td>\n      <td>13.65</td>\n      <td>246.24</td>\n      <td>15.71</td>\n      <td>NaN</td>\n      <td>1.80</td>\n      <td>9.38</td>\n      <td>59.60</td>\n      <td>148.26</td>\n      <td>...</td>\n      <td>91.57</td>\n      <td>7.34</td>\n      <td>24.80</td>\n      <td>9.92</td>\n      <td>15.46</td>\n      <td>125.19</td>\n      <td>8.84</td>\n      <td>4.39</td>\n      <td>29.30</td>\n      <td>2</td>\n    </tr>\n    <tr>\n      <th>2020-09-04</th>\n      <td>12.64</td>\n      <td>38.46</td>\n      <td>13.50</td>\n      <td>246.72</td>\n      <td>15.37</td>\n      <td>NaN</td>\n      <td>1.61</td>\n      <td>9.25</td>\n      <td>59.50</td>\n      <td>150.14</td>\n      <td>...</td>\n      <td>90.49</td>\n      <td>7.35</td>\n      <td>24.40</td>\n      <td>9.46</td>\n      <td>15.81</td>\n      <td>122.83</td>\n      <td>8.85</td>\n      <td>4.34</td>\n      <td>29.88</td>\n      <td>3</td>\n    </tr>\n    <tr>\n      <th>2020-09-08</th>\n      <td>13.02</td>\n      <td>40.65</td>\n      <td>13.50</td>\n      <td>239.55</td>\n      <td>15.56</td>\n      <td>NaN</td>\n      <td>1.70</td>\n      <td>2.23</td>\n      <td>58.09</td>\n      <td>148.55</td>\n      <td>...</td>\n      <td>89.73</td>\n      <td>7.00</td>\n      <td>24.19</td>\n      <td>9.27</td>\n      <td>15.64</td>\n      <td>122.99</td>\n      <td>9.05</td>\n      <td>4.45</td>\n      <td>29.40</td>\n      <td>4</td>\n    </tr>\n  </tbody>\n</table>\n<p>5 rows × 100 columns</p>\n</div>"
     },
     "metadata": {},
     "execution_count": 6
    }
   ],
   "source": [
    "# the stock data is just to measure what the event outcome was. \n",
    "\n",
    "def stock_data(alist, date1, date2): #function to generate adj close price data for tickers in alist\n",
    "    yf_tickers = yf(alist)\n",
    "    res = yf_tickers.get_historical_price_data(date1, date2,'daily') # this spits json\n",
    "    res_df = pd.DataFrame({\n",
    "    a: {x['formatted_date']: x['adjclose'] for x in res[a]['prices']} for a in alist}).round(decimals=2) # formats json into pd df with adj close data, date as index, ticker as columns\n",
    "    return res_df\n",
    "\n",
    "uniqueTickers = period_df['Ticker'].unique().tolist()\n",
    "\n",
    "date1 = '2020-09-01'\n",
    "date2 = '2020-12-01'\n",
    "\n",
    "price_data = stock_data(uniqueTickers,date1,date2) # generates price df\n",
    "price_data.index = pd.to_datetime(price_data.index) #reformats the price data array to have datetime format index\n",
    "price_data['Day'] = [a for a in range(len(price_data.index))] #adds Day count column for use as second index\n",
    "price_data.head()"
   ]
  },
  {
   "cell_type": "code",
   "execution_count": 7,
   "metadata": {},
   "outputs": [],
   "source": [
    "def fixDates(dates_list):\n",
    "    df= price_data #specifies which dataframe to look in to check each date \n",
    "    res = []\n",
    "    for date in dates_list: #for each date in the list\n",
    "        n=0 #sets the number of loops (n) as zero\n",
    "        while n<4: #while less than four loops have been performed\n",
    "            try: \n",
    "                df.loc[date] #checks if the date can be loc in the dataframe\n",
    "                res.append(date)#appends if successful\n",
    "                n += 5 #this ends the loop by adding 5 to n, this is arbitrary and can be anything more than 4\n",
    "            except KeyError: #the error handling for when the date is not in the dataframe\n",
    "                n += 1 #sets the number of loops run to 1 more than it was\n",
    "                date += timedelta(days=1) #adds one day to the datetime date \n",
    "        if n == 4: #this is when four loops have occured, different from when loc successful as 4 can only be produced by 4 loops and success renders 5. \n",
    "            res.append(np.nan) #if after 4 loops a date cannot be found it returns NaT, this can then be removed from dataframe. \n",
    "    return res\n",
    "\n",
    "fixed_dates = fixDates(period_df['Date'].to_list()) #slowly adds timedelta until the datetime index stops producing errors, those that still produce errors are replaced with NaN \n",
    "period_df['Date'] = fixed_dates # sets the column 'Date' in raw_df to be the fixed dates\n",
    "period_df = period_df.dropna() #drops the NaT values from the dataframe that were generated by the function above"
   ]
  },
  {
   "cell_type": "code",
   "execution_count": 21,
   "metadata": {},
   "outputs": [],
   "source": [
    "period_df = period_df.loc[period_df['Day'] <= price_data['Day'].max()-2] # drops the values that are too close to the max Day in the price data, this allows classifier to work"
   ]
  },
  {
   "cell_type": "code",
   "execution_count": 22,
   "metadata": {},
   "outputs": [],
   "source": [
    "period_df['Day'] = price_data.loc[period_df['Date'],'Day'].to_list() #finds the Day count corresponding to each datetime in the dataframe based on the price array datetimes and day counts\n",
    "\n",
    "days = period_df['Day'].to_list()\n",
    "days_adj = [a+2 for a in days]\n",
    "\n",
    "def find(alist,blist,df):\n",
    "    arange = [a for a in range(len(alist))] # a range of the list\n",
    "    res = [ df.loc[df['Day'] == blist[a],alist[a]].item() for a in arange ] # finds the price data associated with the day and ticker input. \n",
    "    return pd.Series(res)\n",
    "\n",
    "# data kept as pd series to make calc easier \n",
    "tickers = period_df['Ticker'].to_list() # tickers with duplicates \n",
    "day_0 = find(tickers,days,price_data) # pulls the price data for day 0\n",
    "day_2 = find(tickers,days_adj,price_data) # pulls the price data for day +2\n",
    "tot_return_2days = round(day_2/day_0 -1,3).to_list() # calculates the tot return \n",
    "\n",
    "def sort(alist): #sorts the list of 2 day post total return to identify positive, negative, or na events based on boolean logic.\n",
    "    res = []\n",
    "    for a in alist:\n",
    "        if bool(a >= 0.10) is True: #if postive event\n",
    "            res.append('pos')\n",
    "        elif bool(a <= -0.10) is True: #if negative event\n",
    "            res.append('neg')\n",
    "        else: #otherwise na event\n",
    "            res.append('na')\n",
    "    return res\n",
    "            \n",
    "sorted_class = sort(tot_return_2days)\n",
    "period_df['Class'] = sorted_class #adds the classification of each event to the dataframe for further analysis"
   ]
  },
  {
   "cell_type": "code",
   "execution_count": 24,
   "metadata": {},
   "outputs": [
    {
     "output_type": "execute_result",
     "data": {
      "text/plain": [
       "     Ticker           Drug                                  Indication  \\\n",
       "2599   ALNY      Lumasiran          Primary Hyperoxaluria Type 1 (PH1)   \n",
       "2600   UROV       Vibegron              Irritable bowel syndrome (IBS)   \n",
       "2601   LQDA         LIQ861             Pulmonary arterial hypertension   \n",
       "2602   RVNC  DAXI  (RT002)  Moderate to severe glabellar (frown) lines   \n",
       "2603   YMAB      Naxitamab                               Neuroblastoma   \n",
       "\n",
       "           Date    Status  Day Class  \n",
       "2599 2020-11-24  Approved   59    na  \n",
       "2600 2020-11-24   Phase2a   59    na  \n",
       "2601 2020-11-25       CRL   60    na  \n",
       "2602 2020-11-25     PDUFA   60    na  \n",
       "2603 2020-11-25  Approved   60   pos  "
      ],
      "text/html": "<div>\n<style scoped>\n    .dataframe tbody tr th:only-of-type {\n        vertical-align: middle;\n    }\n\n    .dataframe tbody tr th {\n        vertical-align: top;\n    }\n\n    .dataframe thead th {\n        text-align: right;\n    }\n</style>\n<table border=\"1\" class=\"dataframe\">\n  <thead>\n    <tr style=\"text-align: right;\">\n      <th></th>\n      <th>Ticker</th>\n      <th>Drug</th>\n      <th>Indication</th>\n      <th>Date</th>\n      <th>Status</th>\n      <th>Day</th>\n      <th>Class</th>\n    </tr>\n  </thead>\n  <tbody>\n    <tr>\n      <th>2599</th>\n      <td>ALNY</td>\n      <td>Lumasiran</td>\n      <td>Primary Hyperoxaluria Type 1 (PH1)</td>\n      <td>2020-11-24</td>\n      <td>Approved</td>\n      <td>59</td>\n      <td>na</td>\n    </tr>\n    <tr>\n      <th>2600</th>\n      <td>UROV</td>\n      <td>Vibegron</td>\n      <td>Irritable bowel syndrome (IBS)</td>\n      <td>2020-11-24</td>\n      <td>Phase2a</td>\n      <td>59</td>\n      <td>na</td>\n    </tr>\n    <tr>\n      <th>2601</th>\n      <td>LQDA</td>\n      <td>LIQ861</td>\n      <td>Pulmonary arterial hypertension</td>\n      <td>2020-11-25</td>\n      <td>CRL</td>\n      <td>60</td>\n      <td>na</td>\n    </tr>\n    <tr>\n      <th>2602</th>\n      <td>RVNC</td>\n      <td>DAXI  (RT002)</td>\n      <td>Moderate to severe glabellar (frown) lines</td>\n      <td>2020-11-25</td>\n      <td>PDUFA</td>\n      <td>60</td>\n      <td>na</td>\n    </tr>\n    <tr>\n      <th>2603</th>\n      <td>YMAB</td>\n      <td>Naxitamab</td>\n      <td>Neuroblastoma</td>\n      <td>2020-11-25</td>\n      <td>Approved</td>\n      <td>60</td>\n      <td>pos</td>\n    </tr>\n  </tbody>\n</table>\n</div>"
     },
     "metadata": {},
     "execution_count": 24
    }
   ],
   "source": [
    "period_df.tail()"
   ]
  },
  {
   "cell_type": "code",
   "execution_count": 25,
   "metadata": {},
   "outputs": [
    {
     "output_type": "execute_result",
     "data": {
      "text/plain": [
       "na     95\n",
       "neg    23\n",
       "pos    11\n",
       "Name: Class, dtype: int64"
      ]
     },
     "metadata": {},
     "execution_count": 25
    }
   ],
   "source": [
    "period_df['Class'].value_counts() # this shows the occurence of each event outcome in this small dataset. "
   ]
  },
  {
   "cell_type": "code",
   "execution_count": 30,
   "metadata": {},
   "outputs": [],
   "source": [
    "\"\"\" Simple code the classifies events as either 1, Volatile or 2, not Volatile based on event outcome sorting \"\"\"\n",
    "volatility = []\n",
    "for a in sorted_class:\n",
    "    if a == 'pos' or a == 'neg':\n",
    "        volatility.append(1)\n",
    "    else:\n",
    "        volatility.append(0)"
   ]
  },
  {
   "cell_type": "code",
   "execution_count": 32,
   "metadata": {},
   "outputs": [],
   "source": [
    "period_df['Volatile'] = volatility"
   ]
  },
  {
   "cell_type": "code",
   "execution_count": 33,
   "metadata": {},
   "outputs": [
    {
     "output_type": "execute_result",
     "data": {
      "text/plain": [
       "     Ticker                Drug  \\\n",
       "2475   MGTX            AAV-RPGR   \n",
       "2476   YMAB          Omburtamab   \n",
       "2477   MGEN  Cobomarsen - SOLAR   \n",
       "2478   AMGN             AMG 510   \n",
       "2479   KNSA        Mavrilimumab   \n",
       "\n",
       "                                            Indication       Date     Status  \\\n",
       "2475                     X-Linked Retinitis Pigmentosa 2020-10-05   Phase1/2   \n",
       "2476  CNS/Leptomeningeal Metastases from Neuroblastoma 2020-10-05  BLAFiling   \n",
       "2477                         Cutaneous T-Cell Lymphoma 2020-10-05     Phase2   \n",
       "2478                Non-small cell lung cancer (NSCLC) 2020-10-05     Phase2   \n",
       "2479                        Giant cell arteritis (GCA) 2020-10-06     Phase2   \n",
       "\n",
       "      Day Class  Volatile  \n",
       "2475   23    na         0  \n",
       "2476   23    na         0  \n",
       "2477   23   neg         1  \n",
       "2478   23    na         0  \n",
       "2479   24    na         0  "
      ],
      "text/html": "<div>\n<style scoped>\n    .dataframe tbody tr th:only-of-type {\n        vertical-align: middle;\n    }\n\n    .dataframe tbody tr th {\n        vertical-align: top;\n    }\n\n    .dataframe thead th {\n        text-align: right;\n    }\n</style>\n<table border=\"1\" class=\"dataframe\">\n  <thead>\n    <tr style=\"text-align: right;\">\n      <th></th>\n      <th>Ticker</th>\n      <th>Drug</th>\n      <th>Indication</th>\n      <th>Date</th>\n      <th>Status</th>\n      <th>Day</th>\n      <th>Class</th>\n      <th>Volatile</th>\n    </tr>\n  </thead>\n  <tbody>\n    <tr>\n      <th>2475</th>\n      <td>MGTX</td>\n      <td>AAV-RPGR</td>\n      <td>X-Linked Retinitis Pigmentosa</td>\n      <td>2020-10-05</td>\n      <td>Phase1/2</td>\n      <td>23</td>\n      <td>na</td>\n      <td>0</td>\n    </tr>\n    <tr>\n      <th>2476</th>\n      <td>YMAB</td>\n      <td>Omburtamab</td>\n      <td>CNS/Leptomeningeal Metastases from Neuroblastoma</td>\n      <td>2020-10-05</td>\n      <td>BLAFiling</td>\n      <td>23</td>\n      <td>na</td>\n      <td>0</td>\n    </tr>\n    <tr>\n      <th>2477</th>\n      <td>MGEN</td>\n      <td>Cobomarsen - SOLAR</td>\n      <td>Cutaneous T-Cell Lymphoma</td>\n      <td>2020-10-05</td>\n      <td>Phase2</td>\n      <td>23</td>\n      <td>neg</td>\n      <td>1</td>\n    </tr>\n    <tr>\n      <th>2478</th>\n      <td>AMGN</td>\n      <td>AMG 510</td>\n      <td>Non-small cell lung cancer (NSCLC)</td>\n      <td>2020-10-05</td>\n      <td>Phase2</td>\n      <td>23</td>\n      <td>na</td>\n      <td>0</td>\n    </tr>\n    <tr>\n      <th>2479</th>\n      <td>KNSA</td>\n      <td>Mavrilimumab</td>\n      <td>Giant cell arteritis (GCA)</td>\n      <td>2020-10-06</td>\n      <td>Phase2</td>\n      <td>24</td>\n      <td>na</td>\n      <td>0</td>\n    </tr>\n  </tbody>\n</table>\n</div>"
     },
     "metadata": {},
     "execution_count": 33
    }
   ],
   "source": [
    "period_df.head()"
   ]
  },
  {
   "cell_type": "code",
   "execution_count": 35,
   "metadata": {},
   "outputs": [
    {
     "output_type": "execute_result",
     "data": {
      "text/plain": [
       "0    95\n",
       "1    34\n",
       "Name: Volatile, dtype: int64"
      ]
     },
     "metadata": {},
     "execution_count": 35
    }
   ],
   "source": [
    "period_df['Volatile'].value_counts() # value counts for vol and non-vol events"
   ]
  },
  {
   "cell_type": "code",
   "execution_count": 38,
   "metadata": {},
   "outputs": [],
   "source": [
    "volDf = period_df.loc[(period_df['Class'] == 'pos') | (period_df['Class'] == 'neg')] # creation of dataframe with only vol events"
   ]
  },
  {
   "cell_type": "code",
   "execution_count": 40,
   "metadata": {},
   "outputs": [
    {
     "output_type": "execute_result",
     "data": {
      "text/plain": [
       "     Ticker                                         Drug  \\\n",
       "2573   BYSI  Plinabulin + TAC (Trial 106) - Protective-2   \n",
       "2581   LXRX                                Sotagliflozin   \n",
       "2583   BNTX                                     BNT162b2   \n",
       "2596   BLPH                INOpulse Inhaled Nitric Oxide   \n",
       "2603   YMAB                                    Naxitamab   \n",
       "\n",
       "                                  Indication       Date    Status  Day Class  \\\n",
       "2573  Chemotherapy-induced neutropenia (CIN) 2020-11-16    Phase3   53   neg   \n",
       "2581                           Heart failure 2020-11-17    Phase3   54   neg   \n",
       "2583                        COVID-19 vaccine 2020-11-18    Phase3   55   pos   \n",
       "2596                                COVID-19 2020-11-23    Phase3   58   neg   \n",
       "2603                           Neuroblastoma 2020-11-25  Approved   60   pos   \n",
       "\n",
       "      Volatile  \n",
       "2573         1  \n",
       "2581         1  \n",
       "2583         1  \n",
       "2596         1  \n",
       "2603         1  "
      ],
      "text/html": "<div>\n<style scoped>\n    .dataframe tbody tr th:only-of-type {\n        vertical-align: middle;\n    }\n\n    .dataframe tbody tr th {\n        vertical-align: top;\n    }\n\n    .dataframe thead th {\n        text-align: right;\n    }\n</style>\n<table border=\"1\" class=\"dataframe\">\n  <thead>\n    <tr style=\"text-align: right;\">\n      <th></th>\n      <th>Ticker</th>\n      <th>Drug</th>\n      <th>Indication</th>\n      <th>Date</th>\n      <th>Status</th>\n      <th>Day</th>\n      <th>Class</th>\n      <th>Volatile</th>\n    </tr>\n  </thead>\n  <tbody>\n    <tr>\n      <th>2573</th>\n      <td>BYSI</td>\n      <td>Plinabulin + TAC (Trial 106) - Protective-2</td>\n      <td>Chemotherapy-induced neutropenia (CIN)</td>\n      <td>2020-11-16</td>\n      <td>Phase3</td>\n      <td>53</td>\n      <td>neg</td>\n      <td>1</td>\n    </tr>\n    <tr>\n      <th>2581</th>\n      <td>LXRX</td>\n      <td>Sotagliflozin</td>\n      <td>Heart failure</td>\n      <td>2020-11-17</td>\n      <td>Phase3</td>\n      <td>54</td>\n      <td>neg</td>\n      <td>1</td>\n    </tr>\n    <tr>\n      <th>2583</th>\n      <td>BNTX</td>\n      <td>BNT162b2</td>\n      <td>COVID-19 vaccine</td>\n      <td>2020-11-18</td>\n      <td>Phase3</td>\n      <td>55</td>\n      <td>pos</td>\n      <td>1</td>\n    </tr>\n    <tr>\n      <th>2596</th>\n      <td>BLPH</td>\n      <td>INOpulse Inhaled Nitric Oxide</td>\n      <td>COVID-19</td>\n      <td>2020-11-23</td>\n      <td>Phase3</td>\n      <td>58</td>\n      <td>neg</td>\n      <td>1</td>\n    </tr>\n    <tr>\n      <th>2603</th>\n      <td>YMAB</td>\n      <td>Naxitamab</td>\n      <td>Neuroblastoma</td>\n      <td>2020-11-25</td>\n      <td>Approved</td>\n      <td>60</td>\n      <td>pos</td>\n      <td>1</td>\n    </tr>\n  </tbody>\n</table>\n</div>"
     },
     "metadata": {},
     "execution_count": 40
    }
   ],
   "source": [
    "volDf.tail() # just to make sure it worked"
   ]
  },
  {
   "cell_type": "code",
   "execution_count": 45,
   "metadata": {},
   "outputs": [],
   "source": [
    "naDf = period_df.loc[period_df['Class'] == 'na'] # df with only non-vol events"
   ]
  },
  {
   "cell_type": "code",
   "execution_count": 47,
   "metadata": {},
   "outputs": [
    {
     "output_type": "execute_result",
     "data": {
      "text/plain": [
       "     Ticker           Drug                                   Indication  \\\n",
       "2598   VTRS   Dolutegravir  Pediatric Formulation of Dolutegravir (DTG)   \n",
       "2599   ALNY      Lumasiran           Primary Hyperoxaluria Type 1 (PH1)   \n",
       "2600   UROV       Vibegron               Irritable bowel syndrome (IBS)   \n",
       "2601   LQDA         LIQ861              Pulmonary arterial hypertension   \n",
       "2602   RVNC  DAXI  (RT002)   Moderate to severe glabellar (frown) lines   \n",
       "\n",
       "           Date    Status  Day Class  Volatile  \n",
       "2598 2020-11-23  Approved   58    na         0  \n",
       "2599 2020-11-24  Approved   59    na         0  \n",
       "2600 2020-11-24   Phase2a   59    na         0  \n",
       "2601 2020-11-25       CRL   60    na         0  \n",
       "2602 2020-11-25     PDUFA   60    na         0  "
      ],
      "text/html": "<div>\n<style scoped>\n    .dataframe tbody tr th:only-of-type {\n        vertical-align: middle;\n    }\n\n    .dataframe tbody tr th {\n        vertical-align: top;\n    }\n\n    .dataframe thead th {\n        text-align: right;\n    }\n</style>\n<table border=\"1\" class=\"dataframe\">\n  <thead>\n    <tr style=\"text-align: right;\">\n      <th></th>\n      <th>Ticker</th>\n      <th>Drug</th>\n      <th>Indication</th>\n      <th>Date</th>\n      <th>Status</th>\n      <th>Day</th>\n      <th>Class</th>\n      <th>Volatile</th>\n    </tr>\n  </thead>\n  <tbody>\n    <tr>\n      <th>2598</th>\n      <td>VTRS</td>\n      <td>Dolutegravir</td>\n      <td>Pediatric Formulation of Dolutegravir (DTG)</td>\n      <td>2020-11-23</td>\n      <td>Approved</td>\n      <td>58</td>\n      <td>na</td>\n      <td>0</td>\n    </tr>\n    <tr>\n      <th>2599</th>\n      <td>ALNY</td>\n      <td>Lumasiran</td>\n      <td>Primary Hyperoxaluria Type 1 (PH1)</td>\n      <td>2020-11-24</td>\n      <td>Approved</td>\n      <td>59</td>\n      <td>na</td>\n      <td>0</td>\n    </tr>\n    <tr>\n      <th>2600</th>\n      <td>UROV</td>\n      <td>Vibegron</td>\n      <td>Irritable bowel syndrome (IBS)</td>\n      <td>2020-11-24</td>\n      <td>Phase2a</td>\n      <td>59</td>\n      <td>na</td>\n      <td>0</td>\n    </tr>\n    <tr>\n      <th>2601</th>\n      <td>LQDA</td>\n      <td>LIQ861</td>\n      <td>Pulmonary arterial hypertension</td>\n      <td>2020-11-25</td>\n      <td>CRL</td>\n      <td>60</td>\n      <td>na</td>\n      <td>0</td>\n    </tr>\n    <tr>\n      <th>2602</th>\n      <td>RVNC</td>\n      <td>DAXI  (RT002)</td>\n      <td>Moderate to severe glabellar (frown) lines</td>\n      <td>2020-11-25</td>\n      <td>PDUFA</td>\n      <td>60</td>\n      <td>na</td>\n      <td>0</td>\n    </tr>\n  </tbody>\n</table>\n</div>"
     },
     "metadata": {},
     "execution_count": 47
    }
   ],
   "source": [
    "naDf.tail() # looking for more events to measure mean occurence of tickers into"
   ]
  },
  {
   "source": [
    "## Generation of Twitter Data"
   ],
   "cell_type": "markdown",
   "metadata": {}
  },
  {
   "cell_type": "code",
   "execution_count": 59,
   "metadata": {},
   "outputs": [],
   "source": [
    "import tweepy\n",
    "from tweepy import Cursor\n",
    "\n",
    "\"\"\" This is the twitter API codes \"\"\" # these have been removed because they are registered to me personally \n",
    "api_key = ''\n",
    "api_secret_key = ''\n",
    "\n",
    "access_token = ''\n",
    "access_token_secret = ''\n",
    "\n",
    "def connect_to_twitter_OAuth(): # function to auth twitter API\n",
    "    auth = tweepy.OAuthHandler(api_key, api_secret_key)\n",
    "    auth.set_access_token(access_token, access_token_secret)\n",
    "\n",
    "    api = tweepy.API(auth)\n",
    "    return api\n",
    "\n",
    "api = connect_to_twitter_OAuth() # connect to twitter API"
   ]
  },
  {
   "cell_type": "code",
   "execution_count": 90,
   "metadata": {},
   "outputs": [],
   "source": [
    "# generate list of usernames that my account is currently following\n",
    "usernames = []\n",
    "for user in tweepy.Cursor(api.friends, screen_name='biotechtwit1').items():\n",
    "    usernames.append(user.screen_name) # friend is the same as following, this code allows you to generate a list of usernames "
   ]
  },
  {
   "cell_type": "code",
   "execution_count": 91,
   "metadata": {},
   "outputs": [
    {
     "output_type": "execute_result",
     "data": {
      "text/plain": [
       "['HoganMullally', '10kdiver', 'AdamB1438', 'SuperMugatu', 'NIH']"
      ]
     },
     "metadata": {},
     "execution_count": 91
    }
   ],
   "source": [
    "usernames[15:20] # inspecting the usernames, making sure it worked"
   ]
  },
  {
   "cell_type": "code",
   "execution_count": 92,
   "metadata": {},
   "outputs": [],
   "source": [
    "\"\"\" Goal is to pull usernames and cashtags \"\"\"\n",
    "\n",
    "if len(usernames) > 0:\n",
    "    cashtags = []\n",
    "    names = []\n",
    "    tweet_count = 0\n",
    "    for target in usernames:\n",
    "        item = api.get_user(target)\n",
    "      \n",
    "        \"\"\" Pulls the cashtags and associated username for the last 2 days \"\"\"\n",
    "        # goal is to measure who tweets the most cashtags, only this list will be scanned further back to be more effecient\n",
    "        end_date = datetime(2020,12,2) - timedelta(days=2) # in the last 2 days\n",
    "        for status in Cursor(api.user_timeline, id=target).items():\n",
    "            tweet_count += 1\n",
    "            if hasattr(status, \"entities\"):\n",
    "                entities = status.entities\n",
    "                if \"symbols\" in entities:\n",
    "                    for ent in entities[\"symbols\"]:\n",
    "                        if ent is not None:\n",
    "                            if \"text\" in ent:\n",
    "                                cashtag = ent[\"text\"]\n",
    "                                if cashtag is not None:\n",
    "                                    cashtags.append(cashtag) # append cashtag to the list\n",
    "                                    names.append(target) # append name of person to the list \n",
    "            \n",
    "            if status.created_at < end_date:\n",
    "                break"
   ]
  },
  {
   "cell_type": "code",
   "execution_count": 102,
   "metadata": {},
   "outputs": [
    {
     "output_type": "execute_result",
     "data": {
      "text/plain": [
       "1775"
      ]
     },
     "metadata": {},
     "execution_count": 102
    }
   ],
   "source": [
    "len(cashtags) # this works"
   ]
  },
  {
   "cell_type": "code",
   "execution_count": 103,
   "metadata": {},
   "outputs": [
    {
     "output_type": "execute_result",
     "data": {
      "text/plain": [
       "1775"
      ]
     },
     "metadata": {},
     "execution_count": 103
    }
   ],
   "source": [
    "len(names)"
   ]
  },
  {
   "cell_type": "code",
   "execution_count": 121,
   "metadata": {},
   "outputs": [],
   "source": [
    "pairs = list(zip(names,cashtags))\n",
    "\n",
    "# merges duplicate values and appends list of cashtags for each username (using dict)\n",
    "res = {}\n",
    "for name,tag in pairs:\n",
    "    alist = res.get(name,[]) + [tag] # adds the tag to the list of the associated username.\n",
    "    res[name] = alist # creates a list as the value for each key"
   ]
  },
  {
   "cell_type": "code",
   "execution_count": 97,
   "metadata": {},
   "outputs": [],
   "source": [
    "keys = [a for a in res.keys()] # list of the keys from the dict "
   ]
  },
  {
   "cell_type": "code",
   "execution_count": 132,
   "metadata": {},
   "outputs": [],
   "source": [
    "count = [] # simple code that counts the len of each list in the value of each key in the dict \n",
    "for a in keys:\n",
    "    count.append(len(res[a]))"
   ]
  },
  {
   "cell_type": "code",
   "execution_count": 133,
   "metadata": {},
   "outputs": [
    {
     "output_type": "execute_result",
     "data": {
      "text/plain": [
       "True"
      ]
     },
     "metadata": {},
     "execution_count": 133
    }
   ],
   "source": [
    "len(count) == len(keys) # just a check for errors, these must be the same len"
   ]
  },
  {
   "cell_type": "code",
   "execution_count": 136,
   "metadata": {},
   "outputs": [
    {
     "output_type": "stream",
     "name": "stdout",
     "text": [
      "(91, 2)\n"
     ]
    },
    {
     "output_type": "execute_result",
     "data": {
      "text/plain": [
       "            name  count\n",
       "0      RFortunae      7\n",
       "1      RMPerry88      4\n",
       "2     JNVcapital     10\n",
       "3  HindenburgRes     16\n",
       "4   JamesEKrause     14"
      ],
      "text/html": "<div>\n<style scoped>\n    .dataframe tbody tr th:only-of-type {\n        vertical-align: middle;\n    }\n\n    .dataframe tbody tr th {\n        vertical-align: top;\n    }\n\n    .dataframe thead th {\n        text-align: right;\n    }\n</style>\n<table border=\"1\" class=\"dataframe\">\n  <thead>\n    <tr style=\"text-align: right;\">\n      <th></th>\n      <th>name</th>\n      <th>count</th>\n    </tr>\n  </thead>\n  <tbody>\n    <tr>\n      <th>0</th>\n      <td>RFortunae</td>\n      <td>7</td>\n    </tr>\n    <tr>\n      <th>1</th>\n      <td>RMPerry88</td>\n      <td>4</td>\n    </tr>\n    <tr>\n      <th>2</th>\n      <td>JNVcapital</td>\n      <td>10</td>\n    </tr>\n    <tr>\n      <th>3</th>\n      <td>HindenburgRes</td>\n      <td>16</td>\n    </tr>\n    <tr>\n      <th>4</th>\n      <td>JamesEKrause</td>\n      <td>14</td>\n    </tr>\n  </tbody>\n</table>\n</div>"
     },
     "metadata": {},
     "execution_count": 136
    }
   ],
   "source": [
    "userCashtags = pd.DataFrame({'name':keys,'count':count}) # df that shows the number of cashtags associated with each username\n",
    "print(userCashtags.shape)\n",
    "userCashtags.head() # inspection"
   ]
  },
  {
   "cell_type": "code",
   "execution_count": 147,
   "metadata": {},
   "outputs": [],
   "source": [
    "active = userCashtags.nlargest(20,'count')['name'].to_list() # this is a list of users that use cashtags often enough to be worthwhile. (top 20)"
   ]
  },
  {
   "cell_type": "code",
   "execution_count": 148,
   "metadata": {},
   "outputs": [
    {
     "output_type": "stream",
     "name": "stdout",
     "text": [
      "0.152\n"
     ]
    }
   ],
   "source": [
    "print(round(len(active)/len(usernames),3)) # this is the pct of usernames that made it in the active group out of the total"
   ]
  },
  {
   "cell_type": "code",
   "execution_count": 149,
   "metadata": {},
   "outputs": [],
   "source": [
    "\"\"\" Pulling Dates and Cashtags from Active group of twitter users \"\"\"\n",
    "# this code pulls datetime of tweet and the associated cashtag for each tweet in the active users dataset. \n",
    "if len(active) > 0:\n",
    "    cashtags = []\n",
    "    dates = []\n",
    "    tweet_count = 0\n",
    "    for target in active:\n",
    "        item = api.get_user(target)\n",
    "      \n",
    "        \"\"\" Pulls the cashtags and associated username for the last 30 days \"\"\"\n",
    "        # goal is to measure who tweets the most cashtags, only this list will be scanned further back to be more effecient\n",
    "        end_date = datetime(2020,12,2) - timedelta(days=30) # in the last 30 days\n",
    "        for status in Cursor(api.user_timeline, id=target).items():\n",
    "            tweet_count += 1\n",
    "            if hasattr(status, \"entities\"):\n",
    "                entities = status.entities\n",
    "                if \"symbols\" in entities:\n",
    "                    for ent in entities[\"symbols\"]:\n",
    "                        if ent is not None:\n",
    "                            if \"text\" in ent:\n",
    "                                cashtag = ent[\"text\"]\n",
    "                                if cashtag is not None:\n",
    "                                    cashtags.append(cashtag) # append cashtag to the list\n",
    "                                    dates.append(status.created_at) # append name of person to the list \n",
    "            \n",
    "            if status.created_at < end_date:\n",
    "                break"
   ]
  },
  {
   "cell_type": "code",
   "execution_count": 150,
   "metadata": {},
   "outputs": [
    {
     "output_type": "execute_result",
     "data": {
      "text/plain": [
       "8878"
      ]
     },
     "metadata": {},
     "execution_count": 150
    }
   ],
   "source": [
    "len(cashtags) # this is the number of cashtags "
   ]
  },
  {
   "cell_type": "code",
   "execution_count": 153,
   "metadata": {},
   "outputs": [
    {
     "output_type": "execute_result",
     "data": {
      "text/plain": [
       "True"
      ]
     },
     "metadata": {},
     "execution_count": 153
    }
   ],
   "source": [
    "len(cashtags) == len(dates)"
   ]
  },
  {
   "cell_type": "code",
   "execution_count": 163,
   "metadata": {},
   "outputs": [],
   "source": [
    "datesSer = pd.Series(dates) # convert to pd ser\n",
    "datesYr = datesSer.dt.date.to_list() # pulls just the date, no time, from the datetime ex: 2020-2-1 11:58:12 -> 2020-2-1"
   ]
  },
  {
   "cell_type": "code",
   "execution_count": 165,
   "metadata": {},
   "outputs": [],
   "source": [
    "tuples = list(zip(datesYr,cashtags)) # creates tuple\n",
    "\n",
    "# creation of dict, removes the duplicates\n",
    "result = {}\n",
    "for dates,tag in tuples:\n",
    "    theList = result.get(dates,[]) + [tag] # finds the duplicate values and creates unique list of them, value is a list of cashtags associated with each key\n",
    "    result[dates] = theList"
   ]
  },
  {
   "cell_type": "code",
   "execution_count": 222,
   "metadata": {},
   "outputs": [],
   "source": [
    "def sumOccur(df,someDict):\n",
    "    tickers = df['Ticker'].to_list()\n",
    "    output = []\n",
    "    for i in range(0,len(tickers)):\n",
    "        analyte = tickers[i]\n",
    "        occurence = []\n",
    "        dates = []\n",
    "        for a in [x for x in someDict.keys()]:\n",
    "            count = 0\n",
    "            for x in someDict[a]:\n",
    "                if x == analyte:\n",
    "                    count += 1\n",
    "                    occurence.append(count)\n",
    "                    dates.append(a)\n",
    "\n",
    "        # dataframe with dates in Dates col. \n",
    "        res = pd.DataFrame({'Dates':dates,'Occurence':occurence})\n",
    "        res['Dates'] = pd.to_datetime(res['Dates'])\n",
    "        res = res.loc[res['Dates']<df['Date'].to_list()[i]]\n",
    "        theSum = res['Occurence'].sum()\n",
    "        output.append(theSum)\n",
    "\n",
    "    return output"
   ]
  },
  {
   "cell_type": "code",
   "execution_count": 223,
   "metadata": {},
   "outputs": [],
   "source": [
    "sumOccurence = sumOccur(period_df,result)"
   ]
  },
  {
   "cell_type": "code",
   "execution_count": 217,
   "metadata": {},
   "outputs": [],
   "source": [
    "period_df['sumOccur'] = sumOccurence"
   ]
  },
  {
   "cell_type": "code",
   "execution_count": 228,
   "metadata": {},
   "outputs": [],
   "source": [
    "period_df = period_df.drop(['meanOccur'],axis=1) # I initially tried using mean value of occurence, sum works better because you can take the mean of the dataset. The twitter program takes a long time to run and I didnt want to restart the kernel so I dropped the column manually. The code where I added it is removed. The lack of the col just makes the result more concise. "
   ]
  },
  {
   "cell_type": "code",
   "execution_count": 229,
   "metadata": {},
   "outputs": [
    {
     "output_type": "execute_result",
     "data": {
      "text/plain": [
       "     Ticker                Drug  \\\n",
       "2475   MGTX            AAV-RPGR   \n",
       "2476   YMAB          Omburtamab   \n",
       "2477   MGEN  Cobomarsen - SOLAR   \n",
       "2478   AMGN             AMG 510   \n",
       "2479   KNSA        Mavrilimumab   \n",
       "...     ...                 ...   \n",
       "2599   ALNY           Lumasiran   \n",
       "2600   UROV            Vibegron   \n",
       "2601   LQDA              LIQ861   \n",
       "2602   RVNC       DAXI  (RT002)   \n",
       "2603   YMAB           Naxitamab   \n",
       "\n",
       "                                            Indication       Date     Status  \\\n",
       "2475                     X-Linked Retinitis Pigmentosa 2020-10-05   Phase1/2   \n",
       "2476  CNS/Leptomeningeal Metastases from Neuroblastoma 2020-10-05  BLAFiling   \n",
       "2477                         Cutaneous T-Cell Lymphoma 2020-10-05     Phase2   \n",
       "2478                Non-small cell lung cancer (NSCLC) 2020-10-05     Phase2   \n",
       "2479                        Giant cell arteritis (GCA) 2020-10-06     Phase2   \n",
       "...                                                ...        ...        ...   \n",
       "2599                Primary Hyperoxaluria Type 1 (PH1) 2020-11-24   Approved   \n",
       "2600                    Irritable bowel syndrome (IBS) 2020-11-24    Phase2a   \n",
       "2601                   Pulmonary arterial hypertension 2020-11-25        CRL   \n",
       "2602        Moderate to severe glabellar (frown) lines 2020-11-25      PDUFA   \n",
       "2603                                     Neuroblastoma 2020-11-25   Approved   \n",
       "\n",
       "      Day Class  Volatile  sumOccur  \n",
       "2475   23    na         0       0.0  \n",
       "2476   23    na         0       0.0  \n",
       "2477   23   neg         1       0.0  \n",
       "2478   23    na         0       0.0  \n",
       "2479   24    na         0       0.0  \n",
       "...   ...   ...       ...       ...  \n",
       "2599   59    na         0      22.0  \n",
       "2600   59    na         0      91.0  \n",
       "2601   60    na         0      31.0  \n",
       "2602   60    na         0       4.0  \n",
       "2603   60   pos         1       2.0  \n",
       "\n",
       "[129 rows x 9 columns]"
      ],
      "text/html": "<div>\n<style scoped>\n    .dataframe tbody tr th:only-of-type {\n        vertical-align: middle;\n    }\n\n    .dataframe tbody tr th {\n        vertical-align: top;\n    }\n\n    .dataframe thead th {\n        text-align: right;\n    }\n</style>\n<table border=\"1\" class=\"dataframe\">\n  <thead>\n    <tr style=\"text-align: right;\">\n      <th></th>\n      <th>Ticker</th>\n      <th>Drug</th>\n      <th>Indication</th>\n      <th>Date</th>\n      <th>Status</th>\n      <th>Day</th>\n      <th>Class</th>\n      <th>Volatile</th>\n      <th>sumOccur</th>\n    </tr>\n  </thead>\n  <tbody>\n    <tr>\n      <th>2475</th>\n      <td>MGTX</td>\n      <td>AAV-RPGR</td>\n      <td>X-Linked Retinitis Pigmentosa</td>\n      <td>2020-10-05</td>\n      <td>Phase1/2</td>\n      <td>23</td>\n      <td>na</td>\n      <td>0</td>\n      <td>0.0</td>\n    </tr>\n    <tr>\n      <th>2476</th>\n      <td>YMAB</td>\n      <td>Omburtamab</td>\n      <td>CNS/Leptomeningeal Metastases from Neuroblastoma</td>\n      <td>2020-10-05</td>\n      <td>BLAFiling</td>\n      <td>23</td>\n      <td>na</td>\n      <td>0</td>\n      <td>0.0</td>\n    </tr>\n    <tr>\n      <th>2477</th>\n      <td>MGEN</td>\n      <td>Cobomarsen - SOLAR</td>\n      <td>Cutaneous T-Cell Lymphoma</td>\n      <td>2020-10-05</td>\n      <td>Phase2</td>\n      <td>23</td>\n      <td>neg</td>\n      <td>1</td>\n      <td>0.0</td>\n    </tr>\n    <tr>\n      <th>2478</th>\n      <td>AMGN</td>\n      <td>AMG 510</td>\n      <td>Non-small cell lung cancer (NSCLC)</td>\n      <td>2020-10-05</td>\n      <td>Phase2</td>\n      <td>23</td>\n      <td>na</td>\n      <td>0</td>\n      <td>0.0</td>\n    </tr>\n    <tr>\n      <th>2479</th>\n      <td>KNSA</td>\n      <td>Mavrilimumab</td>\n      <td>Giant cell arteritis (GCA)</td>\n      <td>2020-10-06</td>\n      <td>Phase2</td>\n      <td>24</td>\n      <td>na</td>\n      <td>0</td>\n      <td>0.0</td>\n    </tr>\n    <tr>\n      <th>...</th>\n      <td>...</td>\n      <td>...</td>\n      <td>...</td>\n      <td>...</td>\n      <td>...</td>\n      <td>...</td>\n      <td>...</td>\n      <td>...</td>\n      <td>...</td>\n    </tr>\n    <tr>\n      <th>2599</th>\n      <td>ALNY</td>\n      <td>Lumasiran</td>\n      <td>Primary Hyperoxaluria Type 1 (PH1)</td>\n      <td>2020-11-24</td>\n      <td>Approved</td>\n      <td>59</td>\n      <td>na</td>\n      <td>0</td>\n      <td>22.0</td>\n    </tr>\n    <tr>\n      <th>2600</th>\n      <td>UROV</td>\n      <td>Vibegron</td>\n      <td>Irritable bowel syndrome (IBS)</td>\n      <td>2020-11-24</td>\n      <td>Phase2a</td>\n      <td>59</td>\n      <td>na</td>\n      <td>0</td>\n      <td>91.0</td>\n    </tr>\n    <tr>\n      <th>2601</th>\n      <td>LQDA</td>\n      <td>LIQ861</td>\n      <td>Pulmonary arterial hypertension</td>\n      <td>2020-11-25</td>\n      <td>CRL</td>\n      <td>60</td>\n      <td>na</td>\n      <td>0</td>\n      <td>31.0</td>\n    </tr>\n    <tr>\n      <th>2602</th>\n      <td>RVNC</td>\n      <td>DAXI  (RT002)</td>\n      <td>Moderate to severe glabellar (frown) lines</td>\n      <td>2020-11-25</td>\n      <td>PDUFA</td>\n      <td>60</td>\n      <td>na</td>\n      <td>0</td>\n      <td>4.0</td>\n    </tr>\n    <tr>\n      <th>2603</th>\n      <td>YMAB</td>\n      <td>Naxitamab</td>\n      <td>Neuroblastoma</td>\n      <td>2020-11-25</td>\n      <td>Approved</td>\n      <td>60</td>\n      <td>pos</td>\n      <td>1</td>\n      <td>2.0</td>\n    </tr>\n  </tbody>\n</table>\n<p>129 rows × 9 columns</p>\n</div>"
     },
     "metadata": {},
     "execution_count": 229
    }
   ],
   "source": [
    "period_df # this just shows the new column"
   ]
  },
  {
   "cell_type": "code",
   "execution_count": 230,
   "metadata": {},
   "outputs": [
    {
     "output_type": "stream",
     "name": "stdout",
     "text": [
      "Mean of the Sum occurence of cashtags in the volatile catalyst dataset:  34.706\n"
     ]
    }
   ],
   "source": [
    "volMean = period_df.loc[period_df['Volatile'] == 1]['sumOccur'].mean().round(decimals=3) # this is the mean of the mean of the occurence in the vol dataset\n",
    "print('Mean of the Sum occurence of cashtags in the volatile catalyst dataset: ',volMean)"
   ]
  },
  {
   "cell_type": "code",
   "execution_count": 231,
   "metadata": {},
   "outputs": [
    {
     "output_type": "stream",
     "name": "stdout",
     "text": [
      "Mean of the Sum occurence of cashtags in the non-volatile catalyst dataset:  28.116\n"
     ]
    }
   ],
   "source": [
    "naMean = period_df.loc[period_df['Volatile'] == 0]['sumOccur'].mean().round(decimals=3) # this is the mean of the mean of the occurence in the not vol dataset\n",
    "print('Mean of the Sum occurence of cashtags in the non-volatile catalyst dataset: ',naMean)"
   ]
  },
  {
   "cell_type": "code",
   "execution_count": 152,
   "metadata": {},
   "outputs": [
    {
     "output_type": "execute_result",
     "data": {
      "text/plain": [
       "13399"
      ]
     },
     "metadata": {},
     "execution_count": 152
    }
   ],
   "source": [
    "tweet_count # thats a lot of tweets, this is the number of tweets examined for cashtags, not all of them had them. "
   ]
  }
 ]
}