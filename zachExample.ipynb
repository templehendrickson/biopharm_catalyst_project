{
 "cells": [
  {
   "cell_type": "code",
   "execution_count": 1,
   "id": "built-musician",
   "metadata": {},
   "outputs": [],
   "source": [
    "## import modules\n",
    "\n",
    "# always use these\n",
    "import pandas as pd\n",
    "import numpy as np\n",
    "import datetime as dt\n",
    "\n",
    "# these are for plotting \n",
    "import seaborn as sns\n",
    "import matplotlib.pyplot as plt\n",
    "\n",
    "sns.set_theme()"
   ]
  },
  {
   "cell_type": "markdown",
   "id": "specified-thanksgiving",
   "metadata": {},
   "source": [
    "In jupyter you can also add text, its more like a way to make a report that you can also code in, what i do below where i just type the variable name and then it shows the variable is a jupyter thing, you cant do that in a .py but very helpful for learning. "
   ]
  },
  {
   "cell_type": "code",
   "execution_count": 3,
   "id": "greek-capture",
   "metadata": {},
   "outputs": [
    {
     "data": {
      "text/html": [
       "<div>\n",
       "<style scoped>\n",
       "    .dataframe tbody tr th:only-of-type {\n",
       "        vertical-align: middle;\n",
       "    }\n",
       "\n",
       "    .dataframe tbody tr th {\n",
       "        vertical-align: top;\n",
       "    }\n",
       "\n",
       "    .dataframe thead th {\n",
       "        text-align: right;\n",
       "    }\n",
       "</style>\n",
       "<table border=\"1\" class=\"dataframe\">\n",
       "  <thead>\n",
       "    <tr style=\"text-align: right;\">\n",
       "      <th></th>\n",
       "      <th>a</th>\n",
       "      <th>b</th>\n",
       "      <th>c</th>\n",
       "    </tr>\n",
       "  </thead>\n",
       "  <tbody>\n",
       "    <tr>\n",
       "      <th>0</th>\n",
       "      <td>1</td>\n",
       "      <td>12</td>\n",
       "      <td>21</td>\n",
       "    </tr>\n",
       "    <tr>\n",
       "      <th>1</th>\n",
       "      <td>2</td>\n",
       "      <td>13</td>\n",
       "      <td>22</td>\n",
       "    </tr>\n",
       "    <tr>\n",
       "      <th>2</th>\n",
       "      <td>3</td>\n",
       "      <td>14</td>\n",
       "      <td>23</td>\n",
       "    </tr>\n",
       "  </tbody>\n",
       "</table>\n",
       "</div>"
      ],
      "text/plain": [
       "   a   b   c\n",
       "0  1  12  21\n",
       "1  2  13  22\n",
       "2  3  14  23"
      ]
     },
     "execution_count": 3,
     "metadata": {},
     "output_type": "execute_result"
    }
   ],
   "source": [
    "# create a dataframe -- this is like a spreadsheet\n",
    "df = pd.DataFrame({'a':[1,2,3],'b':[12,13,14],'c':[21,22,23]})\n",
    "df"
   ]
  },
  {
   "cell_type": "code",
   "execution_count": 4,
   "id": "sought-immune",
   "metadata": {},
   "outputs": [
    {
     "data": {
      "text/plain": [
       "0    13\n",
       "1    15\n",
       "2    17\n",
       "dtype: int64"
      ]
     },
     "execution_count": 4,
     "metadata": {},
     "output_type": "execute_result"
    }
   ],
   "source": [
    "# sum columns a and b\n",
    "df['a'] + df['b']"
   ]
  },
  {
   "cell_type": "code",
   "execution_count": 5,
   "id": "increasing-mobility",
   "metadata": {},
   "outputs": [
    {
     "data": {
      "text/html": [
       "<div>\n",
       "<style scoped>\n",
       "    .dataframe tbody tr th:only-of-type {\n",
       "        vertical-align: middle;\n",
       "    }\n",
       "\n",
       "    .dataframe tbody tr th {\n",
       "        vertical-align: top;\n",
       "    }\n",
       "\n",
       "    .dataframe thead th {\n",
       "        text-align: right;\n",
       "    }\n",
       "</style>\n",
       "<table border=\"1\" class=\"dataframe\">\n",
       "  <thead>\n",
       "    <tr style=\"text-align: right;\">\n",
       "      <th></th>\n",
       "      <th>a</th>\n",
       "      <th>b</th>\n",
       "      <th>c</th>\n",
       "      <th>d</th>\n",
       "    </tr>\n",
       "  </thead>\n",
       "  <tbody>\n",
       "    <tr>\n",
       "      <th>0</th>\n",
       "      <td>1</td>\n",
       "      <td>12</td>\n",
       "      <td>21</td>\n",
       "      <td>13</td>\n",
       "    </tr>\n",
       "    <tr>\n",
       "      <th>1</th>\n",
       "      <td>2</td>\n",
       "      <td>13</td>\n",
       "      <td>22</td>\n",
       "      <td>15</td>\n",
       "    </tr>\n",
       "    <tr>\n",
       "      <th>2</th>\n",
       "      <td>3</td>\n",
       "      <td>14</td>\n",
       "      <td>23</td>\n",
       "      <td>17</td>\n",
       "    </tr>\n",
       "  </tbody>\n",
       "</table>\n",
       "</div>"
      ],
      "text/plain": [
       "   a   b   c   d\n",
       "0  1  12  21  13\n",
       "1  2  13  22  15\n",
       "2  3  14  23  17"
      ]
     },
     "execution_count": 5,
     "metadata": {},
     "output_type": "execute_result"
    }
   ],
   "source": [
    "# sum columns a and b and store in column d\n",
    "df['d'] = df['a'] + df['b']\n",
    "df"
   ]
  },
  {
   "cell_type": "code",
   "execution_count": 6,
   "id": "interim-spank",
   "metadata": {},
   "outputs": [
    {
     "data": {
      "text/plain": [
       "0    47\n",
       "1    52\n",
       "2    57\n",
       "dtype: int64"
      ]
     },
     "execution_count": 6,
     "metadata": {},
     "output_type": "execute_result"
    }
   ],
   "source": [
    "# sum all columns in df\n",
    "df.sum(axis=1)"
   ]
  },
  {
   "cell_type": "code",
   "execution_count": 7,
   "id": "organic-pakistan",
   "metadata": {},
   "outputs": [
    {
     "data": {
      "text/plain": [
       "a     6\n",
       "b    39\n",
       "c    66\n",
       "d    45\n",
       "dtype: int64"
      ]
     },
     "execution_count": 7,
     "metadata": {},
     "output_type": "execute_result"
    }
   ],
   "source": [
    "# sum all rows in df\n",
    "df.sum(axis=0)"
   ]
  },
  {
   "cell_type": "code",
   "execution_count": 8,
   "id": "nearby-theorem",
   "metadata": {},
   "outputs": [
    {
     "data": {
      "text/plain": [
       "0    0.083333\n",
       "1    0.153846\n",
       "2    0.214286\n",
       "dtype: float64"
      ]
     },
     "execution_count": 8,
     "metadata": {},
     "output_type": "execute_result"
    }
   ],
   "source": [
    "# multiple or divide \n",
    "df['a'] / df['b']"
   ]
  },
  {
   "cell_type": "code",
   "execution_count": 9,
   "id": "organic-oxford",
   "metadata": {},
   "outputs": [
    {
     "data": {
      "text/plain": [
       "0    12\n",
       "1    26\n",
       "2    42\n",
       "dtype: int64"
      ]
     },
     "execution_count": 9,
     "metadata": {},
     "output_type": "execute_result"
    }
   ],
   "source": [
    "df['a'] * df['b']"
   ]
  },
  {
   "cell_type": "code",
   "execution_count": 10,
   "id": "spatial-return",
   "metadata": {},
   "outputs": [
    {
     "data": {
      "text/plain": [
       "2.0"
      ]
     },
     "execution_count": 10,
     "metadata": {},
     "output_type": "execute_result"
    }
   ],
   "source": [
    "# compute mean of columns\n",
    "df['a'].mean()"
   ]
  },
  {
   "cell_type": "code",
   "execution_count": 11,
   "id": "atlantic-taylor",
   "metadata": {},
   "outputs": [
    {
     "data": {
      "text/plain": [
       "1.0"
      ]
     },
     "execution_count": 11,
     "metadata": {},
     "output_type": "execute_result"
    }
   ],
   "source": [
    "# compute std of columns\n",
    "df['a'].std()"
   ]
  },
  {
   "cell_type": "code",
   "execution_count": 12,
   "id": "medium-biodiversity",
   "metadata": {},
   "outputs": [
    {
     "data": {
      "text/plain": [
       "a     2.0\n",
       "b    13.0\n",
       "c    22.0\n",
       "d    15.0\n",
       "dtype: float64"
      ]
     },
     "execution_count": 12,
     "metadata": {},
     "output_type": "execute_result"
    }
   ],
   "source": [
    "# compute for all columns\n",
    "df.mean()"
   ]
  },
  {
   "cell_type": "code",
   "execution_count": 13,
   "id": "steady-shoot",
   "metadata": {},
   "outputs": [
    {
     "data": {
      "text/plain": [
       "0    11.75\n",
       "1    13.00\n",
       "2    14.25\n",
       "dtype: float64"
      ]
     },
     "execution_count": 13,
     "metadata": {},
     "output_type": "execute_result"
    }
   ],
   "source": [
    "# compute for all rows\n",
    "df.mean(axis=1)"
   ]
  },
  {
   "cell_type": "code",
   "execution_count": 14,
   "id": "expanded-melbourne",
   "metadata": {},
   "outputs": [
    {
     "data": {
      "text/plain": [
       "<AxesSubplot:title={'center':'Test Plots'}>"
      ]
     },
     "execution_count": 14,
     "metadata": {},
     "output_type": "execute_result"
    },
    {
     "data": {
      "image/png": "[encoded data removed]",
      "text/plain": [
       "<Figure size 864x432 with 1 Axes>"
      ]
     },
     "metadata": {},
     "output_type": "display_data"
    }
   ],
   "source": [
    "# plot all the data as lines\n",
    "df.plot(kind='line',figsize=(12,6),title='Test Plots')"
   ]
  },
  {
   "cell_type": "code",
   "execution_count": 15,
   "id": "second-onion",
   "metadata": {},
   "outputs": [
    {
     "data": {
      "text/plain": [
       "array([<AxesSubplot:>, <AxesSubplot:>, <AxesSubplot:>, <AxesSubplot:>],\n",
       "      dtype=object)"
      ]
     },
     "execution_count": 15,
     "metadata": {},
     "output_type": "execute_result"
    },
    {
     "data": {
      "image/png": "[encoded data removed]",
      "text/plain": [
       "<Figure size 864x432 with 4 Axes>"
      ]
     },
     "metadata": {},
     "output_type": "display_data"
    }
   ],
   "source": [
    "# plots as subplots\n",
    "df.plot(kind='line',figsize=(12,6),title='Test Plots',subplots=True,sharex=True)"
   ]
  },
  {
   "cell_type": "code",
   "execution_count": 16,
   "id": "fifteen-conjunction",
   "metadata": {},
   "outputs": [
    {
     "data": {
      "text/plain": [
       "<AxesSubplot:title={'center':'test histogram'}, ylabel='Frequency'>"
      ]
     },
     "execution_count": 16,
     "metadata": {},
     "output_type": "execute_result"
    },
    {
     "data": {
      "image/png": "[encoded data removed]",
      "text/plain": [
       "<Figure size 864x432 with 1 Axes>"
      ]
     },
     "metadata": {},
     "output_type": "display_data"
    }
   ],
   "source": [
    "# plot column as hist\n",
    "df['a'].plot(kind='hist',figsize=(12,6),title='test histogram')"
   ]
  },
  {
   "cell_type": "markdown",
   "id": "frequent-bradley",
   "metadata": {},
   "source": [
    "Hopefully this helps you get a start in pandas, the other really common operation is to read from a .csv --  what i do below is read from yf package -- you may have to install -- just google yahoofinancials package pypi and type the command in the anaconda prompt\n"
   ]
  },
  {
   "cell_type": "code",
   "execution_count": 20,
   "id": "consecutive-nowhere",
   "metadata": {},
   "outputs": [
    {
     "data": {
      "text/html": [
       "<div>\n",
       "<style scoped>\n",
       "    .dataframe tbody tr th:only-of-type {\n",
       "        vertical-align: middle;\n",
       "    }\n",
       "\n",
       "    .dataframe tbody tr th {\n",
       "        vertical-align: top;\n",
       "    }\n",
       "\n",
       "    .dataframe thead th {\n",
       "        text-align: right;\n",
       "    }\n",
       "</style>\n",
       "<table border=\"1\" class=\"dataframe\">\n",
       "  <thead>\n",
       "    <tr style=\"text-align: right;\">\n",
       "      <th></th>\n",
       "      <th>Date</th>\n",
       "      <th>Open</th>\n",
       "      <th>High</th>\n",
       "      <th>Low</th>\n",
       "      <th>Close</th>\n",
       "      <th>Adj Close</th>\n",
       "      <th>Volume</th>\n",
       "    </tr>\n",
       "  </thead>\n",
       "  <tbody>\n",
       "    <tr>\n",
       "      <th>0</th>\n",
       "      <td>1980-12-12</td>\n",
       "      <td>0.128348</td>\n",
       "      <td>0.128906</td>\n",
       "      <td>0.128348</td>\n",
       "      <td>0.128348</td>\n",
       "      <td>0.100600</td>\n",
       "      <td>469033600</td>\n",
       "    </tr>\n",
       "    <tr>\n",
       "      <th>1</th>\n",
       "      <td>1980-12-15</td>\n",
       "      <td>0.122210</td>\n",
       "      <td>0.122210</td>\n",
       "      <td>0.121652</td>\n",
       "      <td>0.121652</td>\n",
       "      <td>0.095352</td>\n",
       "      <td>175884800</td>\n",
       "    </tr>\n",
       "    <tr>\n",
       "      <th>2</th>\n",
       "      <td>1980-12-16</td>\n",
       "      <td>0.113281</td>\n",
       "      <td>0.113281</td>\n",
       "      <td>0.112723</td>\n",
       "      <td>0.112723</td>\n",
       "      <td>0.088353</td>\n",
       "      <td>105728000</td>\n",
       "    </tr>\n",
       "    <tr>\n",
       "      <th>3</th>\n",
       "      <td>1980-12-17</td>\n",
       "      <td>0.115513</td>\n",
       "      <td>0.116071</td>\n",
       "      <td>0.115513</td>\n",
       "      <td>0.115513</td>\n",
       "      <td>0.090540</td>\n",
       "      <td>86441600</td>\n",
       "    </tr>\n",
       "    <tr>\n",
       "      <th>4</th>\n",
       "      <td>1980-12-18</td>\n",
       "      <td>0.118862</td>\n",
       "      <td>0.119420</td>\n",
       "      <td>0.118862</td>\n",
       "      <td>0.118862</td>\n",
       "      <td>0.093165</td>\n",
       "      <td>73449600</td>\n",
       "    </tr>\n",
       "    <tr>\n",
       "      <th>...</th>\n",
       "      <td>...</td>\n",
       "      <td>...</td>\n",
       "      <td>...</td>\n",
       "      <td>...</td>\n",
       "      <td>...</td>\n",
       "      <td>...</td>\n",
       "      <td>...</td>\n",
       "    </tr>\n",
       "    <tr>\n",
       "      <th>10261</th>\n",
       "      <td>2021-08-24</td>\n",
       "      <td>149.449997</td>\n",
       "      <td>150.860001</td>\n",
       "      <td>149.149994</td>\n",
       "      <td>149.619995</td>\n",
       "      <td>149.619995</td>\n",
       "      <td>48606400</td>\n",
       "    </tr>\n",
       "    <tr>\n",
       "      <th>10262</th>\n",
       "      <td>2021-08-25</td>\n",
       "      <td>149.809998</td>\n",
       "      <td>150.320007</td>\n",
       "      <td>147.800003</td>\n",
       "      <td>148.360001</td>\n",
       "      <td>148.360001</td>\n",
       "      <td>58991300</td>\n",
       "    </tr>\n",
       "    <tr>\n",
       "      <th>10263</th>\n",
       "      <td>2021-08-26</td>\n",
       "      <td>148.350006</td>\n",
       "      <td>149.119995</td>\n",
       "      <td>147.509995</td>\n",
       "      <td>147.539993</td>\n",
       "      <td>147.539993</td>\n",
       "      <td>48597200</td>\n",
       "    </tr>\n",
       "    <tr>\n",
       "      <th>10264</th>\n",
       "      <td>2021-08-27</td>\n",
       "      <td>147.479996</td>\n",
       "      <td>148.750000</td>\n",
       "      <td>146.830002</td>\n",
       "      <td>148.600006</td>\n",
       "      <td>148.600006</td>\n",
       "      <td>55721500</td>\n",
       "    </tr>\n",
       "    <tr>\n",
       "      <th>10265</th>\n",
       "      <td>2021-08-30</td>\n",
       "      <td>149.000000</td>\n",
       "      <td>153.490005</td>\n",
       "      <td>148.610001</td>\n",
       "      <td>153.119995</td>\n",
       "      <td>153.119995</td>\n",
       "      <td>90689700</td>\n",
       "    </tr>\n",
       "  </tbody>\n",
       "</table>\n",
       "<p>10266 rows × 7 columns</p>\n",
       "</div>"
      ],
      "text/plain": [
       "             Date        Open        High         Low       Close   Adj Close  \\\n",
       "0      1980-12-12    0.128348    0.128906    0.128348    0.128348    0.100600   \n",
       "1      1980-12-15    0.122210    0.122210    0.121652    0.121652    0.095352   \n",
       "2      1980-12-16    0.113281    0.113281    0.112723    0.112723    0.088353   \n",
       "3      1980-12-17    0.115513    0.116071    0.115513    0.115513    0.090540   \n",
       "4      1980-12-18    0.118862    0.119420    0.118862    0.118862    0.093165   \n",
       "...           ...         ...         ...         ...         ...         ...   \n",
       "10261  2021-08-24  149.449997  150.860001  149.149994  149.619995  149.619995   \n",
       "10262  2021-08-25  149.809998  150.320007  147.800003  148.360001  148.360001   \n",
       "10263  2021-08-26  148.350006  149.119995  147.509995  147.539993  147.539993   \n",
       "10264  2021-08-27  147.479996  148.750000  146.830002  148.600006  148.600006   \n",
       "10265  2021-08-30  149.000000  153.490005  148.610001  153.119995  153.119995   \n",
       "\n",
       "          Volume  \n",
       "0      469033600  \n",
       "1      175884800  \n",
       "2      105728000  \n",
       "3       86441600  \n",
       "4       73449600  \n",
       "...          ...  \n",
       "10261   48606400  \n",
       "10262   58991300  \n",
       "10263   48597200  \n",
       "10264   55721500  \n",
       "10265   90689700  \n",
       "\n",
       "[10266 rows x 7 columns]"
      ]
     },
     "execution_count": 20,
     "metadata": {},
     "output_type": "execute_result"
    }
   ],
   "source": [
    "# read the .csv\n",
    "import os\n",
    "data = pd.read_csv(os.path.join('C:\\AAPL (1).csv'))\n",
    "data"
   ]
  },
  {
   "cell_type": "code",
   "execution_count": 24,
   "id": "funky-boards",
   "metadata": {},
   "outputs": [
    {
     "name": "stdout",
     "output_type": "stream",
     "text": [
      "Annualized Sharpe for AAPL: 0.63\n"
     ]
    }
   ],
   "source": [
    "# calculate annualized sharpe\n",
    "data['dailyReturn'] = data['Adj Close'].pct_change() # this is daily return\n",
    "annSharpe = (data['dailyReturn'].mean() / data['dailyReturn'].std()) * (252**0.5)\n",
    "\n",
    "print('Annualized Sharpe for AAPL: {}'.format(round(annSharpe,2)))"
   ]
  },
  {
   "cell_type": "code",
   "execution_count": 26,
   "id": "flying-poison",
   "metadata": {},
   "outputs": [
    {
     "data": {
      "text/html": [
       "<div>\n",
       "<style scoped>\n",
       "    .dataframe tbody tr th:only-of-type {\n",
       "        vertical-align: middle;\n",
       "    }\n",
       "\n",
       "    .dataframe tbody tr th {\n",
       "        vertical-align: top;\n",
       "    }\n",
       "\n",
       "    .dataframe thead th {\n",
       "        text-align: right;\n",
       "    }\n",
       "</style>\n",
       "<table border=\"1\" class=\"dataframe\">\n",
       "  <thead>\n",
       "    <tr style=\"text-align: right;\">\n",
       "      <th></th>\n",
       "      <th>Open</th>\n",
       "      <th>High</th>\n",
       "      <th>Low</th>\n",
       "      <th>Close</th>\n",
       "      <th>Adj Close</th>\n",
       "      <th>Volume</th>\n",
       "      <th>dailyReturn</th>\n",
       "    </tr>\n",
       "    <tr>\n",
       "      <th>Date</th>\n",
       "      <th></th>\n",
       "      <th></th>\n",
       "      <th></th>\n",
       "      <th></th>\n",
       "      <th></th>\n",
       "      <th></th>\n",
       "      <th></th>\n",
       "    </tr>\n",
       "  </thead>\n",
       "  <tbody>\n",
       "    <tr>\n",
       "      <th>1980-12-12</th>\n",
       "      <td>0.128348</td>\n",
       "      <td>0.128906</td>\n",
       "      <td>0.128348</td>\n",
       "      <td>0.128348</td>\n",
       "      <td>0.100600</td>\n",
       "      <td>469033600</td>\n",
       "      <td>NaN</td>\n",
       "    </tr>\n",
       "    <tr>\n",
       "      <th>1980-12-15</th>\n",
       "      <td>0.122210</td>\n",
       "      <td>0.122210</td>\n",
       "      <td>0.121652</td>\n",
       "      <td>0.121652</td>\n",
       "      <td>0.095352</td>\n",
       "      <td>175884800</td>\n",
       "      <td>-0.052167</td>\n",
       "    </tr>\n",
       "    <tr>\n",
       "      <th>1980-12-16</th>\n",
       "      <td>0.113281</td>\n",
       "      <td>0.113281</td>\n",
       "      <td>0.112723</td>\n",
       "      <td>0.112723</td>\n",
       "      <td>0.088353</td>\n",
       "      <td>105728000</td>\n",
       "      <td>-0.073402</td>\n",
       "    </tr>\n",
       "    <tr>\n",
       "      <th>1980-12-17</th>\n",
       "      <td>0.115513</td>\n",
       "      <td>0.116071</td>\n",
       "      <td>0.115513</td>\n",
       "      <td>0.115513</td>\n",
       "      <td>0.090540</td>\n",
       "      <td>86441600</td>\n",
       "      <td>0.024753</td>\n",
       "    </tr>\n",
       "    <tr>\n",
       "      <th>1980-12-18</th>\n",
       "      <td>0.118862</td>\n",
       "      <td>0.119420</td>\n",
       "      <td>0.118862</td>\n",
       "      <td>0.118862</td>\n",
       "      <td>0.093165</td>\n",
       "      <td>73449600</td>\n",
       "      <td>0.028993</td>\n",
       "    </tr>\n",
       "    <tr>\n",
       "      <th>...</th>\n",
       "      <td>...</td>\n",
       "      <td>...</td>\n",
       "      <td>...</td>\n",
       "      <td>...</td>\n",
       "      <td>...</td>\n",
       "      <td>...</td>\n",
       "      <td>...</td>\n",
       "    </tr>\n",
       "    <tr>\n",
       "      <th>2021-08-24</th>\n",
       "      <td>149.449997</td>\n",
       "      <td>150.860001</td>\n",
       "      <td>149.149994</td>\n",
       "      <td>149.619995</td>\n",
       "      <td>149.619995</td>\n",
       "      <td>48606400</td>\n",
       "      <td>-0.000601</td>\n",
       "    </tr>\n",
       "    <tr>\n",
       "      <th>2021-08-25</th>\n",
       "      <td>149.809998</td>\n",
       "      <td>150.320007</td>\n",
       "      <td>147.800003</td>\n",
       "      <td>148.360001</td>\n",
       "      <td>148.360001</td>\n",
       "      <td>58991300</td>\n",
       "      <td>-0.008421</td>\n",
       "    </tr>\n",
       "    <tr>\n",
       "      <th>2021-08-26</th>\n",
       "      <td>148.350006</td>\n",
       "      <td>149.119995</td>\n",
       "      <td>147.509995</td>\n",
       "      <td>147.539993</td>\n",
       "      <td>147.539993</td>\n",
       "      <td>48597200</td>\n",
       "      <td>-0.005527</td>\n",
       "    </tr>\n",
       "    <tr>\n",
       "      <th>2021-08-27</th>\n",
       "      <td>147.479996</td>\n",
       "      <td>148.750000</td>\n",
       "      <td>146.830002</td>\n",
       "      <td>148.600006</td>\n",
       "      <td>148.600006</td>\n",
       "      <td>55721500</td>\n",
       "      <td>0.007185</td>\n",
       "    </tr>\n",
       "    <tr>\n",
       "      <th>2021-08-30</th>\n",
       "      <td>149.000000</td>\n",
       "      <td>153.490005</td>\n",
       "      <td>148.610001</td>\n",
       "      <td>153.119995</td>\n",
       "      <td>153.119995</td>\n",
       "      <td>90689700</td>\n",
       "      <td>0.030417</td>\n",
       "    </tr>\n",
       "  </tbody>\n",
       "</table>\n",
       "<p>10266 rows × 7 columns</p>\n",
       "</div>"
      ],
      "text/plain": [
       "                  Open        High         Low       Close   Adj Close  \\\n",
       "Date                                                                     \n",
       "1980-12-12    0.128348    0.128906    0.128348    0.128348    0.100600   \n",
       "1980-12-15    0.122210    0.122210    0.121652    0.121652    0.095352   \n",
       "1980-12-16    0.113281    0.113281    0.112723    0.112723    0.088353   \n",
       "1980-12-17    0.115513    0.116071    0.115513    0.115513    0.090540   \n",
       "1980-12-18    0.118862    0.119420    0.118862    0.118862    0.093165   \n",
       "...                ...         ...         ...         ...         ...   \n",
       "2021-08-24  149.449997  150.860001  149.149994  149.619995  149.619995   \n",
       "2021-08-25  149.809998  150.320007  147.800003  148.360001  148.360001   \n",
       "2021-08-26  148.350006  149.119995  147.509995  147.539993  147.539993   \n",
       "2021-08-27  147.479996  148.750000  146.830002  148.600006  148.600006   \n",
       "2021-08-30  149.000000  153.490005  148.610001  153.119995  153.119995   \n",
       "\n",
       "               Volume  dailyReturn  \n",
       "Date                                \n",
       "1980-12-12  469033600          NaN  \n",
       "1980-12-15  175884800    -0.052167  \n",
       "1980-12-16  105728000    -0.073402  \n",
       "1980-12-17   86441600     0.024753  \n",
       "1980-12-18   73449600     0.028993  \n",
       "...               ...          ...  \n",
       "2021-08-24   48606400    -0.000601  \n",
       "2021-08-25   58991300    -0.008421  \n",
       "2021-08-26   48597200    -0.005527  \n",
       "2021-08-27   55721500     0.007185  \n",
       "2021-08-30   90689700     0.030417  \n",
       "\n",
       "[10266 rows x 7 columns]"
      ]
     },
     "execution_count": 26,
     "metadata": {},
     "output_type": "execute_result"
    }
   ],
   "source": [
    "# turn into timeseries \n",
    "data['Date'] = pd.to_datetime(data['Date']) \n",
    "data.set_index('Date',inplace=True,drop=True)\n",
    "data"
   ]
  },
  {
   "cell_type": "code",
   "execution_count": 27,
   "id": "recovered-plymouth",
   "metadata": {},
   "outputs": [
    {
     "data": {
      "text/plain": [
       "<AxesSubplot:title={'center':'Daily Return AAPL'}, xlabel='Date'>"
      ]
     },
     "execution_count": 27,
     "metadata": {},
     "output_type": "execute_result"
    },
    {
     "data": {
      "image/png": "[encoded data removed]",
      "text/plain": [
       "<Figure size 864x432 with 1 Axes>"
      ]
     },
     "metadata": {},
     "output_type": "display_data"
    }
   ],
   "source": [
    "data['dailyReturn'].plot(kind='line',figsize=(12,6),title='Daily Return AAPL')"
   ]
  },
  {
   "cell_type": "code",
   "execution_count": 29,
   "id": "martial-arkansas",
   "metadata": {},
   "outputs": [
    {
     "data": {
      "text/plain": [
       "<AxesSubplot:title={'center':'Cumulative Return'}, xlabel='Date'>"
      ]
     },
     "execution_count": 29,
     "metadata": {},
     "output_type": "execute_result"
    },
    {
     "data": {
      "image/png": "[encoded data removed]",
      "text/plain": [
       "<Figure size 864x432 with 1 Axes>"
      ]
     },
     "metadata": {},
     "output_type": "display_data"
    }
   ],
   "source": [
    "((data['dailyReturn']+1).cumprod()-1).plot(kind='line',figsize=(12,6),title='Cumulative Return')"
   ]
  },
  {
   "cell_type": "code",
   "execution_count": 31,
   "id": "constant-reply",
   "metadata": {},
   "outputs": [
    {
     "data": {
      "text/plain": [
       "<AxesSubplot:title={'center':'Cumulative Return post 2010'}, xlabel='Date'>"
      ]
     },
     "execution_count": 31,
     "metadata": {},
     "output_type": "execute_result"
    },
    {
     "data": {
      "image/png": "[encoded data removed]",
      "text/plain": [
       "<Figure size 864x432 with 1 Axes>"
      ]
     },
     "metadata": {},
     "output_type": "display_data"
    }
   ],
   "source": [
    "# cumulative return post 2010\n",
    "((data['dailyReturn'].loc[dt.date(2010,1,1):]+1).cumprod()-1).plot(kind='line',figsize=(12,6),title='Cumulative Return post 2010')"
   ]
  }
 ],
 "metadata": {
  "kernelspec": {
   "display_name": "Python 3",
   "language": "python",
   "name": "python3"
  },
  "language_info": {
   "codemirror_mode": {
    "name": "ipython",
    "version": 3
   },
   "file_extension": ".py",
   "mimetype": "text/x-python",
   "name": "python",
   "nbconvert_exporter": "python",
   "pygments_lexer": "ipython3",
   "version": "3.8.5"
  }
 },
 "nbformat": 4,
 "nbformat_minor": 5
}
